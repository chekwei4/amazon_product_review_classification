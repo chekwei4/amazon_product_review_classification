{
  "nbformat": 4,
  "nbformat_minor": 0,
  "metadata": {
    "colab": {
      "name": "Amazon_Product_Reviews_Notebook.ipynb",
      "provenance": [],
      "collapsed_sections": [],
      "toc_visible": true
    },
    "kernelspec": {
      "name": "python3",
      "display_name": "Python 3"
    },
    "language_info": {
      "name": "python"
    },
    "widgets": {
      "application/vnd.jupyter.widget-state+json": {
        "50298cde73924e2cafbf9a0c5c2ee905": {
          "model_module": "@jupyter-widgets/controls",
          "model_name": "HBoxModel",
          "model_module_version": "1.5.0",
          "state": {
            "_view_name": "HBoxView",
            "_dom_classes": [],
            "_model_name": "HBoxModel",
            "_view_module": "@jupyter-widgets/controls",
            "_model_module_version": "1.5.0",
            "_view_count": null,
            "_view_module_version": "1.5.0",
            "box_style": "",
            "layout": "IPY_MODEL_e0ce88d8bfb94a22803f7e76675722a0",
            "_model_module": "@jupyter-widgets/controls",
            "children": [
              "IPY_MODEL_013c9143c61c4ce09a0ac4be0785a57a",
              "IPY_MODEL_8f95a0bfb7a54b7291d9f103b98c6b2f",
              "IPY_MODEL_0dec0a03deff42139ab619936b29a49a"
            ]
          }
        },
        "e0ce88d8bfb94a22803f7e76675722a0": {
          "model_module": "@jupyter-widgets/base",
          "model_name": "LayoutModel",
          "model_module_version": "1.2.0",
          "state": {
            "_view_name": "LayoutView",
            "grid_template_rows": null,
            "right": null,
            "justify_content": null,
            "_view_module": "@jupyter-widgets/base",
            "overflow": null,
            "_model_module_version": "1.2.0",
            "_view_count": null,
            "flex_flow": null,
            "width": null,
            "min_width": null,
            "border": null,
            "align_items": null,
            "bottom": null,
            "_model_module": "@jupyter-widgets/base",
            "top": null,
            "grid_column": null,
            "overflow_y": null,
            "overflow_x": null,
            "grid_auto_flow": null,
            "grid_area": null,
            "grid_template_columns": null,
            "flex": null,
            "_model_name": "LayoutModel",
            "justify_items": null,
            "grid_row": null,
            "max_height": null,
            "align_content": null,
            "visibility": null,
            "align_self": null,
            "height": null,
            "min_height": null,
            "padding": null,
            "grid_auto_rows": null,
            "grid_gap": null,
            "max_width": null,
            "order": null,
            "_view_module_version": "1.2.0",
            "grid_template_areas": null,
            "object_position": null,
            "object_fit": null,
            "grid_auto_columns": null,
            "margin": null,
            "display": null,
            "left": null
          }
        },
        "013c9143c61c4ce09a0ac4be0785a57a": {
          "model_module": "@jupyter-widgets/controls",
          "model_name": "HTMLModel",
          "model_module_version": "1.5.0",
          "state": {
            "_view_name": "HTMLView",
            "style": "IPY_MODEL_9e35fe8ff6484871b7a799a63718e339",
            "_dom_classes": [],
            "description": "",
            "_model_name": "HTMLModel",
            "placeholder": "​",
            "_view_module": "@jupyter-widgets/controls",
            "_model_module_version": "1.5.0",
            "value": "Downloading: 100%",
            "_view_count": null,
            "_view_module_version": "1.5.0",
            "description_tooltip": null,
            "_model_module": "@jupyter-widgets/controls",
            "layout": "IPY_MODEL_1925b76c22454524b79e4c353be55f4d"
          }
        },
        "8f95a0bfb7a54b7291d9f103b98c6b2f": {
          "model_module": "@jupyter-widgets/controls",
          "model_name": "FloatProgressModel",
          "model_module_version": "1.5.0",
          "state": {
            "_view_name": "ProgressView",
            "style": "IPY_MODEL_6d95ceabe8a04483b2a5502a70cfa4e5",
            "_dom_classes": [],
            "description": "",
            "_model_name": "FloatProgressModel",
            "bar_style": "success",
            "max": 363423424,
            "_view_module": "@jupyter-widgets/controls",
            "_model_module_version": "1.5.0",
            "value": 363423424,
            "_view_count": null,
            "_view_module_version": "1.5.0",
            "orientation": "horizontal",
            "min": 0,
            "description_tooltip": null,
            "_model_module": "@jupyter-widgets/controls",
            "layout": "IPY_MODEL_83dd7dda0fce4e3ab269c49b71cee1f6"
          }
        },
        "0dec0a03deff42139ab619936b29a49a": {
          "model_module": "@jupyter-widgets/controls",
          "model_name": "HTMLModel",
          "model_module_version": "1.5.0",
          "state": {
            "_view_name": "HTMLView",
            "style": "IPY_MODEL_728c6d3dd8d84a69a82f8a21b3987458",
            "_dom_classes": [],
            "description": "",
            "_model_name": "HTMLModel",
            "placeholder": "​",
            "_view_module": "@jupyter-widgets/controls",
            "_model_module_version": "1.5.0",
            "value": " 347M/347M [00:09&lt;00:00, 51.1MB/s]",
            "_view_count": null,
            "_view_module_version": "1.5.0",
            "description_tooltip": null,
            "_model_module": "@jupyter-widgets/controls",
            "layout": "IPY_MODEL_e09c0f6922a0409895109eaafc11c060"
          }
        },
        "9e35fe8ff6484871b7a799a63718e339": {
          "model_module": "@jupyter-widgets/controls",
          "model_name": "DescriptionStyleModel",
          "model_module_version": "1.5.0",
          "state": {
            "_view_name": "StyleView",
            "_model_name": "DescriptionStyleModel",
            "description_width": "",
            "_view_module": "@jupyter-widgets/base",
            "_model_module_version": "1.5.0",
            "_view_count": null,
            "_view_module_version": "1.2.0",
            "_model_module": "@jupyter-widgets/controls"
          }
        },
        "1925b76c22454524b79e4c353be55f4d": {
          "model_module": "@jupyter-widgets/base",
          "model_name": "LayoutModel",
          "model_module_version": "1.2.0",
          "state": {
            "_view_name": "LayoutView",
            "grid_template_rows": null,
            "right": null,
            "justify_content": null,
            "_view_module": "@jupyter-widgets/base",
            "overflow": null,
            "_model_module_version": "1.2.0",
            "_view_count": null,
            "flex_flow": null,
            "width": null,
            "min_width": null,
            "border": null,
            "align_items": null,
            "bottom": null,
            "_model_module": "@jupyter-widgets/base",
            "top": null,
            "grid_column": null,
            "overflow_y": null,
            "overflow_x": null,
            "grid_auto_flow": null,
            "grid_area": null,
            "grid_template_columns": null,
            "flex": null,
            "_model_name": "LayoutModel",
            "justify_items": null,
            "grid_row": null,
            "max_height": null,
            "align_content": null,
            "visibility": null,
            "align_self": null,
            "height": null,
            "min_height": null,
            "padding": null,
            "grid_auto_rows": null,
            "grid_gap": null,
            "max_width": null,
            "order": null,
            "_view_module_version": "1.2.0",
            "grid_template_areas": null,
            "object_position": null,
            "object_fit": null,
            "grid_auto_columns": null,
            "margin": null,
            "display": null,
            "left": null
          }
        },
        "6d95ceabe8a04483b2a5502a70cfa4e5": {
          "model_module": "@jupyter-widgets/controls",
          "model_name": "ProgressStyleModel",
          "model_module_version": "1.5.0",
          "state": {
            "_view_name": "StyleView",
            "_model_name": "ProgressStyleModel",
            "description_width": "",
            "_view_module": "@jupyter-widgets/base",
            "_model_module_version": "1.5.0",
            "_view_count": null,
            "_view_module_version": "1.2.0",
            "bar_color": null,
            "_model_module": "@jupyter-widgets/controls"
          }
        },
        "83dd7dda0fce4e3ab269c49b71cee1f6": {
          "model_module": "@jupyter-widgets/base",
          "model_name": "LayoutModel",
          "model_module_version": "1.2.0",
          "state": {
            "_view_name": "LayoutView",
            "grid_template_rows": null,
            "right": null,
            "justify_content": null,
            "_view_module": "@jupyter-widgets/base",
            "overflow": null,
            "_model_module_version": "1.2.0",
            "_view_count": null,
            "flex_flow": null,
            "width": null,
            "min_width": null,
            "border": null,
            "align_items": null,
            "bottom": null,
            "_model_module": "@jupyter-widgets/base",
            "top": null,
            "grid_column": null,
            "overflow_y": null,
            "overflow_x": null,
            "grid_auto_flow": null,
            "grid_area": null,
            "grid_template_columns": null,
            "flex": null,
            "_model_name": "LayoutModel",
            "justify_items": null,
            "grid_row": null,
            "max_height": null,
            "align_content": null,
            "visibility": null,
            "align_self": null,
            "height": null,
            "min_height": null,
            "padding": null,
            "grid_auto_rows": null,
            "grid_gap": null,
            "max_width": null,
            "order": null,
            "_view_module_version": "1.2.0",
            "grid_template_areas": null,
            "object_position": null,
            "object_fit": null,
            "grid_auto_columns": null,
            "margin": null,
            "display": null,
            "left": null
          }
        },
        "728c6d3dd8d84a69a82f8a21b3987458": {
          "model_module": "@jupyter-widgets/controls",
          "model_name": "DescriptionStyleModel",
          "model_module_version": "1.5.0",
          "state": {
            "_view_name": "StyleView",
            "_model_name": "DescriptionStyleModel",
            "description_width": "",
            "_view_module": "@jupyter-widgets/base",
            "_model_module_version": "1.5.0",
            "_view_count": null,
            "_view_module_version": "1.2.0",
            "_model_module": "@jupyter-widgets/controls"
          }
        },
        "e09c0f6922a0409895109eaafc11c060": {
          "model_module": "@jupyter-widgets/base",
          "model_name": "LayoutModel",
          "model_module_version": "1.2.0",
          "state": {
            "_view_name": "LayoutView",
            "grid_template_rows": null,
            "right": null,
            "justify_content": null,
            "_view_module": "@jupyter-widgets/base",
            "overflow": null,
            "_model_module_version": "1.2.0",
            "_view_count": null,
            "flex_flow": null,
            "width": null,
            "min_width": null,
            "border": null,
            "align_items": null,
            "bottom": null,
            "_model_module": "@jupyter-widgets/base",
            "top": null,
            "grid_column": null,
            "overflow_y": null,
            "overflow_x": null,
            "grid_auto_flow": null,
            "grid_area": null,
            "grid_template_columns": null,
            "flex": null,
            "_model_name": "LayoutModel",
            "justify_items": null,
            "grid_row": null,
            "max_height": null,
            "align_content": null,
            "visibility": null,
            "align_self": null,
            "height": null,
            "min_height": null,
            "padding": null,
            "grid_auto_rows": null,
            "grid_gap": null,
            "max_width": null,
            "order": null,
            "_view_module_version": "1.2.0",
            "grid_template_areas": null,
            "object_position": null,
            "object_fit": null,
            "grid_auto_columns": null,
            "margin": null,
            "display": null,
            "left": null
          }
        }
      }
    }
  },
  "cells": [
    {
      "cell_type": "code",
      "source": [
        "!pip install ipython-autotime\n",
        "%load_ext autotime"
      ],
      "metadata": {
        "id": "XIC1YcslVs7J"
      },
      "execution_count": null,
      "outputs": []
    },
    {
      "cell_type": "markdown",
      "source": [
        "# Loading Data from GDrive"
      ],
      "metadata": {
        "id": "hqfeKbt3R2GE"
      }
    },
    {
      "cell_type": "code",
      "execution_count": 2,
      "metadata": {
        "colab": {
          "base_uri": "https://localhost:8080/"
        },
        "id": "eTgJ4FvWPj6x",
        "outputId": "cb3e2827-3237-43dd-e56f-2e5ed682354b"
      },
      "outputs": [
        {
          "output_type": "stream",
          "name": "stdout",
          "text": [
            "Mounted at /content/drive/\n",
            "time: 21.5 s (started: 2022-02-03 02:55:45 +00:00)\n"
          ]
        }
      ],
      "source": [
        "from google.colab import drive\n",
        "drive.mount('/content/drive/')"
      ]
    },
    {
      "cell_type": "code",
      "source": [
        "import pandas as pd\n",
        "import gzip\n",
        "\n",
        "def parse(path):\n",
        "  g = gzip.open(path, 'rb')\n",
        "  for l in g:\n",
        "    yield eval(l)\n",
        "\n",
        "DATA_PATH = \"/content/drive/MyDrive/Amazon_Product_Review/reviews_Clothing_Shoes_and_Jewelry_5.json.gz\"\n",
        "    \n",
        "def getDF(path):\n",
        "  i = 0\n",
        "  df = {}\n",
        "  for d in parse(path):\n",
        "    df[i] = d\n",
        "    i += 1\n",
        "  return pd.DataFrame.from_dict(df, orient='index')\n",
        "\n",
        "df = getDF(DATA_PATH)"
      ],
      "metadata": {
        "colab": {
          "base_uri": "https://localhost:8080/"
        },
        "id": "Fiz23uXkP6Dw",
        "outputId": "858d5790-7fa6-47d7-d24e-70e989a718a7"
      },
      "execution_count": 3,
      "outputs": [
        {
          "output_type": "stream",
          "name": "stdout",
          "text": [
            "time: 16.2 s (started: 2022-02-03 02:56:08 +00:00)\n"
          ]
        }
      ]
    },
    {
      "cell_type": "code",
      "source": [
        "df.head(3)"
      ],
      "metadata": {
        "colab": {
          "base_uri": "https://localhost:8080/",
          "height": 257
        },
        "id": "PW4dixx9RsVi",
        "outputId": "fcea02b7-96ed-4556-c560-9994bd4676b0"
      },
      "execution_count": 4,
      "outputs": [
        {
          "output_type": "execute_result",
          "data": {
            "text/html": [
              "\n",
              "  <div id=\"df-ec1c668f-99e7-47d1-867d-f2c853a80b6b\">\n",
              "    <div class=\"colab-df-container\">\n",
              "      <div>\n",
              "<style scoped>\n",
              "    .dataframe tbody tr th:only-of-type {\n",
              "        vertical-align: middle;\n",
              "    }\n",
              "\n",
              "    .dataframe tbody tr th {\n",
              "        vertical-align: top;\n",
              "    }\n",
              "\n",
              "    .dataframe thead th {\n",
              "        text-align: right;\n",
              "    }\n",
              "</style>\n",
              "<table border=\"1\" class=\"dataframe\">\n",
              "  <thead>\n",
              "    <tr style=\"text-align: right;\">\n",
              "      <th></th>\n",
              "      <th>reviewerID</th>\n",
              "      <th>asin</th>\n",
              "      <th>reviewerName</th>\n",
              "      <th>helpful</th>\n",
              "      <th>reviewText</th>\n",
              "      <th>overall</th>\n",
              "      <th>summary</th>\n",
              "      <th>unixReviewTime</th>\n",
              "      <th>reviewTime</th>\n",
              "    </tr>\n",
              "  </thead>\n",
              "  <tbody>\n",
              "    <tr>\n",
              "      <th>0</th>\n",
              "      <td>A1KLRMWW2FWPL4</td>\n",
              "      <td>0000031887</td>\n",
              "      <td>Amazon Customer \"cameramom\"</td>\n",
              "      <td>[0, 0]</td>\n",
              "      <td>This is a great tutu and at a really great pri...</td>\n",
              "      <td>5.0</td>\n",
              "      <td>Great tutu-  not cheaply made</td>\n",
              "      <td>1297468800</td>\n",
              "      <td>02 12, 2011</td>\n",
              "    </tr>\n",
              "    <tr>\n",
              "      <th>1</th>\n",
              "      <td>A2G5TCU2WDFZ65</td>\n",
              "      <td>0000031887</td>\n",
              "      <td>Amazon Customer</td>\n",
              "      <td>[0, 0]</td>\n",
              "      <td>I bought this for my 4 yr old daughter for dan...</td>\n",
              "      <td>5.0</td>\n",
              "      <td>Very Cute!!</td>\n",
              "      <td>1358553600</td>\n",
              "      <td>01 19, 2013</td>\n",
              "    </tr>\n",
              "    <tr>\n",
              "      <th>2</th>\n",
              "      <td>A1RLQXYNCMWRWN</td>\n",
              "      <td>0000031887</td>\n",
              "      <td>Carola</td>\n",
              "      <td>[0, 0]</td>\n",
              "      <td>What can I say... my daughters have it in oran...</td>\n",
              "      <td>5.0</td>\n",
              "      <td>I have buy more than one</td>\n",
              "      <td>1357257600</td>\n",
              "      <td>01 4, 2013</td>\n",
              "    </tr>\n",
              "  </tbody>\n",
              "</table>\n",
              "</div>\n",
              "      <button class=\"colab-df-convert\" onclick=\"convertToInteractive('df-ec1c668f-99e7-47d1-867d-f2c853a80b6b')\"\n",
              "              title=\"Convert this dataframe to an interactive table.\"\n",
              "              style=\"display:none;\">\n",
              "        \n",
              "  <svg xmlns=\"http://www.w3.org/2000/svg\" height=\"24px\"viewBox=\"0 0 24 24\"\n",
              "       width=\"24px\">\n",
              "    <path d=\"M0 0h24v24H0V0z\" fill=\"none\"/>\n",
              "    <path d=\"M18.56 5.44l.94 2.06.94-2.06 2.06-.94-2.06-.94-.94-2.06-.94 2.06-2.06.94zm-11 1L8.5 8.5l.94-2.06 2.06-.94-2.06-.94L8.5 2.5l-.94 2.06-2.06.94zm10 10l.94 2.06.94-2.06 2.06-.94-2.06-.94-.94-2.06-.94 2.06-2.06.94z\"/><path d=\"M17.41 7.96l-1.37-1.37c-.4-.4-.92-.59-1.43-.59-.52 0-1.04.2-1.43.59L10.3 9.45l-7.72 7.72c-.78.78-.78 2.05 0 2.83L4 21.41c.39.39.9.59 1.41.59.51 0 1.02-.2 1.41-.59l7.78-7.78 2.81-2.81c.8-.78.8-2.07 0-2.86zM5.41 20L4 18.59l7.72-7.72 1.47 1.35L5.41 20z\"/>\n",
              "  </svg>\n",
              "      </button>\n",
              "      \n",
              "  <style>\n",
              "    .colab-df-container {\n",
              "      display:flex;\n",
              "      flex-wrap:wrap;\n",
              "      gap: 12px;\n",
              "    }\n",
              "\n",
              "    .colab-df-convert {\n",
              "      background-color: #E8F0FE;\n",
              "      border: none;\n",
              "      border-radius: 50%;\n",
              "      cursor: pointer;\n",
              "      display: none;\n",
              "      fill: #1967D2;\n",
              "      height: 32px;\n",
              "      padding: 0 0 0 0;\n",
              "      width: 32px;\n",
              "    }\n",
              "\n",
              "    .colab-df-convert:hover {\n",
              "      background-color: #E2EBFA;\n",
              "      box-shadow: 0px 1px 2px rgba(60, 64, 67, 0.3), 0px 1px 3px 1px rgba(60, 64, 67, 0.15);\n",
              "      fill: #174EA6;\n",
              "    }\n",
              "\n",
              "    [theme=dark] .colab-df-convert {\n",
              "      background-color: #3B4455;\n",
              "      fill: #D2E3FC;\n",
              "    }\n",
              "\n",
              "    [theme=dark] .colab-df-convert:hover {\n",
              "      background-color: #434B5C;\n",
              "      box-shadow: 0px 1px 3px 1px rgba(0, 0, 0, 0.15);\n",
              "      filter: drop-shadow(0px 1px 2px rgba(0, 0, 0, 0.3));\n",
              "      fill: #FFFFFF;\n",
              "    }\n",
              "  </style>\n",
              "\n",
              "      <script>\n",
              "        const buttonEl =\n",
              "          document.querySelector('#df-ec1c668f-99e7-47d1-867d-f2c853a80b6b button.colab-df-convert');\n",
              "        buttonEl.style.display =\n",
              "          google.colab.kernel.accessAllowed ? 'block' : 'none';\n",
              "\n",
              "        async function convertToInteractive(key) {\n",
              "          const element = document.querySelector('#df-ec1c668f-99e7-47d1-867d-f2c853a80b6b');\n",
              "          const dataTable =\n",
              "            await google.colab.kernel.invokeFunction('convertToInteractive',\n",
              "                                                     [key], {});\n",
              "          if (!dataTable) return;\n",
              "\n",
              "          const docLinkHtml = 'Like what you see? Visit the ' +\n",
              "            '<a target=\"_blank\" href=https://colab.research.google.com/notebooks/data_table.ipynb>data table notebook</a>'\n",
              "            + ' to learn more about interactive tables.';\n",
              "          element.innerHTML = '';\n",
              "          dataTable['output_type'] = 'display_data';\n",
              "          await google.colab.output.renderOutput(dataTable, element);\n",
              "          const docLink = document.createElement('div');\n",
              "          docLink.innerHTML = docLinkHtml;\n",
              "          element.appendChild(docLink);\n",
              "        }\n",
              "      </script>\n",
              "    </div>\n",
              "  </div>\n",
              "  "
            ],
            "text/plain": [
              "       reviewerID        asin  ... unixReviewTime   reviewTime\n",
              "0  A1KLRMWW2FWPL4  0000031887  ...     1297468800  02 12, 2011\n",
              "1  A2G5TCU2WDFZ65  0000031887  ...     1358553600  01 19, 2013\n",
              "2  A1RLQXYNCMWRWN  0000031887  ...     1357257600   01 4, 2013\n",
              "\n",
              "[3 rows x 9 columns]"
            ]
          },
          "metadata": {},
          "execution_count": 4
        },
        {
          "output_type": "stream",
          "name": "stdout",
          "text": [
            "time: 44.6 ms (started: 2022-02-03 02:56:35 +00:00)\n"
          ]
        }
      ]
    },
    {
      "cell_type": "markdown",
      "source": [
        "Description of columns in the dataset:\n",
        "\n",
        "* `reviewerID` - ID of the reviewer, e.g. A2SUAM1J3GNN3B\n",
        "* `asin` - ID of the product, e.g. 0000013714\n",
        "* `reviewerName` - name of the reviewer\n",
        "* `helpful` - helpfulness rating of the review, e.g. 2/3\n",
        "* `reviewText` - text of the review\n",
        "* `overall` - rating of the product\n",
        "* `summary` - summary of the review\n",
        "* `unixReviewTime` - time of the review (unix time)\n",
        "* `reviewTime` - time of the review (raw)"
      ],
      "metadata": {
        "id": "dvs1ZhMJwpK9"
      }
    },
    {
      "cell_type": "markdown",
      "source": [
        "# General Exploratory"
      ],
      "metadata": {
        "id": "oF8sGFPNR_rM"
      }
    },
    {
      "cell_type": "markdown",
      "source": [
        "## Explore Dataset Features"
      ],
      "metadata": {
        "id": "rMCXFeJsSz2s"
      }
    },
    {
      "cell_type": "code",
      "source": [
        "df.columns"
      ],
      "metadata": {
        "colab": {
          "base_uri": "https://localhost:8080/"
        },
        "id": "nvYcZOylTpXu",
        "outputId": "a489d12c-7cd8-45d4-e8cc-a0d9ed76322f"
      },
      "execution_count": null,
      "outputs": [
        {
          "output_type": "execute_result",
          "data": {
            "text/plain": [
              "Index(['reviewerID', 'asin', 'reviewerName', 'helpful', 'reviewText',\n",
              "       'overall', 'summary', 'unixReviewTime', 'reviewTime'],\n",
              "      dtype='object')"
            ]
          },
          "metadata": {},
          "execution_count": 5
        },
        {
          "output_type": "stream",
          "name": "stdout",
          "text": [
            "time: 4.2 ms (started: 2022-01-25 03:21:42 +00:00)\n"
          ]
        }
      ]
    },
    {
      "cell_type": "code",
      "source": [
        "df.info()"
      ],
      "metadata": {
        "colab": {
          "base_uri": "https://localhost:8080/"
        },
        "id": "RWzjzXeRTuHP",
        "outputId": "a88ffd2b-7572-408e-dee3-c8418ec66dff"
      },
      "execution_count": null,
      "outputs": [
        {
          "output_type": "stream",
          "name": "stdout",
          "text": [
            "<class 'pandas.core.frame.DataFrame'>\n",
            "Int64Index: 278677 entries, 0 to 278676\n",
            "Data columns (total 9 columns):\n",
            " #   Column          Non-Null Count   Dtype  \n",
            "---  ------          --------------   -----  \n",
            " 0   reviewerID      278677 non-null  object \n",
            " 1   asin            278677 non-null  object \n",
            " 2   reviewerName    278225 non-null  object \n",
            " 3   helpful         278677 non-null  object \n",
            " 4   reviewText      278677 non-null  object \n",
            " 5   overall         278677 non-null  float64\n",
            " 6   summary         278677 non-null  object \n",
            " 7   unixReviewTime  278677 non-null  int64  \n",
            " 8   reviewTime      278677 non-null  object \n",
            "dtypes: float64(1), int64(1), object(7)\n",
            "memory usage: 21.3+ MB\n",
            "time: 181 ms (started: 2022-01-25 03:21:43 +00:00)\n"
          ]
        }
      ]
    },
    {
      "cell_type": "markdown",
      "source": [
        "We are sure that features like `reviewerID`, `reviewerName`, `helpful` and `unixReviewTime`\n",
        "\n",
        "For modelling and training, we will explore concatenating `reviewText` and `summary` together, as we do see useful data from customers. `reviewTime` is also kept so time-series related analysis could be performed next time (good to have task)"
      ],
      "metadata": {
        "id": "EOKuMc15VBvT"
      }
    },
    {
      "cell_type": "markdown",
      "source": [
        "## Check for dependent feature distribution"
      ],
      "metadata": {
        "id": "ogmr4Mr6TPTk"
      }
    },
    {
      "cell_type": "code",
      "source": [
        "df.overall.value_counts()"
      ],
      "metadata": {
        "colab": {
          "base_uri": "https://localhost:8080/"
        },
        "id": "IrI_zySvUhHs",
        "outputId": "fb8caa3b-3705-4f67-f0a2-6a96c305907a"
      },
      "execution_count": null,
      "outputs": [
        {
          "output_type": "execute_result",
          "data": {
            "text/plain": [
              "5.0    163240\n",
              "4.0     58357\n",
              "3.0     30425\n",
              "2.0     15463\n",
              "1.0     11192\n",
              "Name: overall, dtype: int64"
            ]
          },
          "metadata": {},
          "execution_count": 7
        },
        {
          "output_type": "stream",
          "name": "stdout",
          "text": [
            "time: 12.5 ms (started: 2022-01-25 03:21:46 +00:00)\n"
          ]
        }
      ]
    },
    {
      "cell_type": "code",
      "source": [
        "import seaborn as sns\n",
        "import warnings\n",
        "warnings.simplefilter(action='ignore', category=FutureWarning)\n",
        "\n",
        "sns.countplot(df.overall);"
      ],
      "metadata": {
        "colab": {
          "base_uri": "https://localhost:8080/",
          "height": 296
        },
        "id": "skMaW-U6Uj3x",
        "outputId": "7db98728-25ea-4886-9a1d-63e4e9b16530"
      },
      "execution_count": null,
      "outputs": [
        {
          "output_type": "display_data",
          "data": {
            "image/png": "[encoded data removed]",
            "text/plain": [
              "<Figure size 432x288 with 1 Axes>"
            ]
          },
          "metadata": {
            "needs_background": "light"
          }
        },
        {
          "output_type": "stream",
          "name": "stdout",
          "text": [
            "time: 526 ms (started: 2022-01-25 03:21:46 +00:00)\n"
          ]
        }
      ]
    },
    {
      "cell_type": "code",
      "source": [
        "#num of records for ratings 4 or 5 (will bin them into positive)\n",
        "df[(df[\"overall\"]==5.0) | (df[\"overall\"]==4.0)].shape[0]"
      ],
      "metadata": {
        "colab": {
          "base_uri": "https://localhost:8080/"
        },
        "id": "zFQCK6mLcdno",
        "outputId": "cd107b54-d7fc-4d8e-87d7-d2fcac2476a9"
      },
      "execution_count": null,
      "outputs": [
        {
          "output_type": "execute_result",
          "data": {
            "text/plain": [
              "221597"
            ]
          },
          "metadata": {},
          "execution_count": 9
        },
        {
          "output_type": "stream",
          "name": "stdout",
          "text": [
            "time: 96.8 ms (started: 2022-01-25 03:21:49 +00:00)\n"
          ]
        }
      ]
    },
    {
      "cell_type": "code",
      "source": [
        "#num of records for ratings 3 and below (will bin them into positive)\n",
        "df[(df[\"overall\"] <= 3)].shape[0]"
      ],
      "metadata": {
        "colab": {
          "base_uri": "https://localhost:8080/"
        },
        "id": "tggsliJRdjyb",
        "outputId": "8313df12-2e5a-495e-c191-e5ea375ff1aa"
      },
      "execution_count": null,
      "outputs": [
        {
          "output_type": "execute_result",
          "data": {
            "text/plain": [
              "57080"
            ]
          },
          "metadata": {},
          "execution_count": 10
        },
        {
          "output_type": "stream",
          "name": "stdout",
          "text": [
            "time: 34.9 ms (started: 2022-01-25 03:21:51 +00:00)\n"
          ]
        }
      ]
    },
    {
      "cell_type": "code",
      "source": [
        "df[(df[\"overall\"] <= 3)].shape[0] / df.shape[0]"
      ],
      "metadata": {
        "colab": {
          "base_uri": "https://localhost:8080/"
        },
        "id": "6eEC7MhXdvXr",
        "outputId": "b2455660-bbc6-4980-bb1d-c8b7baf85507"
      },
      "execution_count": null,
      "outputs": [
        {
          "output_type": "execute_result",
          "data": {
            "text/plain": [
              "0.2048249407019596"
            ]
          },
          "metadata": {},
          "execution_count": 11
        },
        {
          "output_type": "stream",
          "name": "stdout",
          "text": [
            "time: 30.3 ms (started: 2022-01-25 03:21:53 +00:00)\n"
          ]
        }
      ]
    },
    {
      "cell_type": "markdown",
      "source": [
        "20% of overall dataset will be binned into Negative reviews (those with ratings 3 and below)\n",
        "\n",
        "Remaining 80% will be binned into Positive reviews (those with ratings 4 and above)\n",
        "\n",
        "This will be done during data preprocessing."
      ],
      "metadata": {
        "id": "qsBGpBecdx_P"
      }
    },
    {
      "cell_type": "markdown",
      "source": [
        "## Check for missing values"
      ],
      "metadata": {
        "id": "UGwT3Y4PSHkQ"
      }
    },
    {
      "cell_type": "code",
      "source": [
        "df.isnull().sum()"
      ],
      "metadata": {
        "colab": {
          "base_uri": "https://localhost:8080/"
        },
        "id": "za3d9PQ1gsX9",
        "outputId": "07079edd-13c6-495f-9563-6e955c4bd045"
      },
      "execution_count": null,
      "outputs": [
        {
          "output_type": "execute_result",
          "data": {
            "text/plain": [
              "reviewerID          0\n",
              "asin                0\n",
              "reviewerName      452\n",
              "helpful             0\n",
              "reviewText          0\n",
              "overall             0\n",
              "summary             0\n",
              "unixReviewTime      0\n",
              "reviewTime          0\n",
              "dtype: int64"
            ]
          },
          "metadata": {},
          "execution_count": 12
        },
        {
          "output_type": "stream",
          "name": "stdout",
          "text": [
            "time: 185 ms (started: 2022-01-25 03:21:55 +00:00)\n"
          ]
        }
      ]
    },
    {
      "cell_type": "markdown",
      "source": [
        "## Check for duplicated product reviews"
      ],
      "metadata": {
        "id": "DclxpYy6TU6r"
      }
    },
    {
      "cell_type": "code",
      "source": [
        "# df.duplicated()"
      ],
      "metadata": {
        "colab": {
          "base_uri": "https://localhost:8080/"
        },
        "id": "8dHhp4QPzAih",
        "outputId": "3b6de201-e5d8-4a36-b9a2-fa80139fdda8"
      },
      "execution_count": null,
      "outputs": [
        {
          "output_type": "stream",
          "name": "stdout",
          "text": [
            "time: 935 µs (started: 2022-01-21 04:23:38 +00:00)\n"
          ]
        }
      ]
    },
    {
      "cell_type": "code",
      "source": [
        "# df.duplicated().sum()"
      ],
      "metadata": {
        "colab": {
          "base_uri": "https://localhost:8080/"
        },
        "id": "d8HzPs_3gw9n",
        "outputId": "7c41215d-69d3-4f54-cd2e-f24a120f1dc1"
      },
      "execution_count": null,
      "outputs": [
        {
          "output_type": "stream",
          "name": "stdout",
          "text": [
            "time: 1.42 ms (started: 2022-01-21 04:23:38 +00:00)\n"
          ]
        }
      ]
    },
    {
      "cell_type": "markdown",
      "source": [
        "## Check for artifacts (symbols, formattings, punctuations, html tags etc)\n",
        "\n",
        "Inspecting `reviewText` to check for presence of non-text items, which we need to take care during data cleaning"
      ],
      "metadata": {
        "id": "hCy6S4dfTio7"
      }
    },
    {
      "cell_type": "code",
      "source": [
        "df.reviewText[0]"
      ],
      "metadata": {
        "colab": {
          "base_uri": "https://localhost:8080/",
          "height": 70
        },
        "id": "uHIT1SUHTaCd",
        "outputId": "eaaba2b0-a4d8-4a70-f470-ac0ce09e2edb"
      },
      "execution_count": null,
      "outputs": [
        {
          "output_type": "execute_result",
          "data": {
            "application/vnd.google.colaboratory.intrinsic+json": {
              "type": "string"
            },
            "text/plain": [
              "\"This is a great tutu and at a really great price. It doesn't look cheap at all. I'm so glad I looked on Amazon and found such an affordable tutu that isn't made poorly. A++\""
            ]
          },
          "metadata": {},
          "execution_count": 13
        },
        {
          "output_type": "stream",
          "name": "stdout",
          "text": [
            "time: 4.2 ms (started: 2022-01-25 03:22:04 +00:00)\n"
          ]
        }
      ]
    },
    {
      "cell_type": "code",
      "source": [
        "df.reviewText[10]"
      ],
      "metadata": {
        "colab": {
          "base_uri": "https://localhost:8080/",
          "height": 70
        },
        "id": "uPfR0oD9h_az",
        "outputId": "97fc63e6-c356-4c4f-c6d4-7ffa3c4037a7"
      },
      "execution_count": null,
      "outputs": [
        {
          "output_type": "execute_result",
          "data": {
            "application/vnd.google.colaboratory.intrinsic+json": {
              "type": "string"
            },
            "text/plain": [
              "'Wonder my niece wears it every single day, yellow is her favorite color right now an this cute little tutu made he da. It is well built and we hope she gets lots of wear out of it.'"
            ]
          },
          "metadata": {},
          "execution_count": 14
        },
        {
          "output_type": "stream",
          "name": "stdout",
          "text": [
            "time: 4.25 ms (started: 2022-01-25 03:22:06 +00:00)\n"
          ]
        }
      ]
    },
    {
      "cell_type": "code",
      "source": [
        "df.reviewText[99]"
      ],
      "metadata": {
        "colab": {
          "base_uri": "https://localhost:8080/",
          "height": 53
        },
        "id": "YtpG9RpsY4mv",
        "outputId": "7deca407-34d4-4314-858f-2c067b7c8cf6"
      },
      "execution_count": null,
      "outputs": [
        {
          "output_type": "execute_result",
          "data": {
            "application/vnd.google.colaboratory.intrinsic+json": {
              "type": "string"
            },
            "text/plain": [
              "'great  no one got my good stuff  It was all hanging around my neck.  sturdy and durable, i bought one for my husband'"
            ]
          },
          "metadata": {},
          "execution_count": 15
        },
        {
          "output_type": "stream",
          "name": "stdout",
          "text": [
            "time: 2.85 ms (started: 2022-01-25 03:22:08 +00:00)\n"
          ]
        }
      ]
    },
    {
      "cell_type": "markdown",
      "source": [
        "Presence of dollar sign ($), plus sign, full stop, exclaimation marks (generally the usual punctuations) "
      ],
      "metadata": {
        "id": "RSRecJGJiFPT"
      }
    },
    {
      "cell_type": "code",
      "source": [
        "df"
      ],
      "metadata": {
        "id": "owexHj0vhzbX",
        "colab": {
          "base_uri": "https://localhost:8080/",
          "height": 1000
        },
        "outputId": "8a8957a8-30b0-4555-e4eb-637fc51af251"
      },
      "execution_count": null,
      "outputs": [
        {
          "output_type": "execute_result",
          "data": {
            "text/html": [
              "\n",
              "  <div id=\"df-fad9d2d0-e906-4779-a275-94843931c25b\">\n",
              "    <div class=\"colab-df-container\">\n",
              "      <div>\n",
              "<style scoped>\n",
              "    .dataframe tbody tr th:only-of-type {\n",
              "        vertical-align: middle;\n",
              "    }\n",
              "\n",
              "    .dataframe tbody tr th {\n",
              "        vertical-align: top;\n",
              "    }\n",
              "\n",
              "    .dataframe thead th {\n",
              "        text-align: right;\n",
              "    }\n",
              "</style>\n",
              "<table border=\"1\" class=\"dataframe\">\n",
              "  <thead>\n",
              "    <tr style=\"text-align: right;\">\n",
              "      <th></th>\n",
              "      <th>reviewerID</th>\n",
              "      <th>asin</th>\n",
              "      <th>reviewerName</th>\n",
              "      <th>helpful</th>\n",
              "      <th>reviewText</th>\n",
              "      <th>overall</th>\n",
              "      <th>summary</th>\n",
              "      <th>unixReviewTime</th>\n",
              "      <th>reviewTime</th>\n",
              "    </tr>\n",
              "  </thead>\n",
              "  <tbody>\n",
              "    <tr>\n",
              "      <th>0</th>\n",
              "      <td>A1KLRMWW2FWPL4</td>\n",
              "      <td>0000031887</td>\n",
              "      <td>Amazon Customer \"cameramom\"</td>\n",
              "      <td>[0, 0]</td>\n",
              "      <td>This is a great tutu and at a really great pri...</td>\n",
              "      <td>5.0</td>\n",
              "      <td>Great tutu-  not cheaply made</td>\n",
              "      <td>1297468800</td>\n",
              "      <td>02 12, 2011</td>\n",
              "    </tr>\n",
              "    <tr>\n",
              "      <th>1</th>\n",
              "      <td>A2G5TCU2WDFZ65</td>\n",
              "      <td>0000031887</td>\n",
              "      <td>Amazon Customer</td>\n",
              "      <td>[0, 0]</td>\n",
              "      <td>I bought this for my 4 yr old daughter for dan...</td>\n",
              "      <td>5.0</td>\n",
              "      <td>Very Cute!!</td>\n",
              "      <td>1358553600</td>\n",
              "      <td>01 19, 2013</td>\n",
              "    </tr>\n",
              "    <tr>\n",
              "      <th>2</th>\n",
              "      <td>A1RLQXYNCMWRWN</td>\n",
              "      <td>0000031887</td>\n",
              "      <td>Carola</td>\n",
              "      <td>[0, 0]</td>\n",
              "      <td>What can I say... my daughters have it in oran...</td>\n",
              "      <td>5.0</td>\n",
              "      <td>I have buy more than one</td>\n",
              "      <td>1357257600</td>\n",
              "      <td>01 4, 2013</td>\n",
              "    </tr>\n",
              "    <tr>\n",
              "      <th>3</th>\n",
              "      <td>A8U3FAMSJVHS5</td>\n",
              "      <td>0000031887</td>\n",
              "      <td>Caromcg</td>\n",
              "      <td>[0, 0]</td>\n",
              "      <td>We bought several tutus at once, and they are ...</td>\n",
              "      <td>5.0</td>\n",
              "      <td>Adorable, Sturdy</td>\n",
              "      <td>1398556800</td>\n",
              "      <td>04 27, 2014</td>\n",
              "    </tr>\n",
              "    <tr>\n",
              "      <th>4</th>\n",
              "      <td>A3GEOILWLK86XM</td>\n",
              "      <td>0000031887</td>\n",
              "      <td>CJ</td>\n",
              "      <td>[0, 0]</td>\n",
              "      <td>Thank you Halo Heaven great product for Little...</td>\n",
              "      <td>5.0</td>\n",
              "      <td>Grammy's Angels Love it</td>\n",
              "      <td>1394841600</td>\n",
              "      <td>03 15, 2014</td>\n",
              "    </tr>\n",
              "    <tr>\n",
              "      <th>...</th>\n",
              "      <td>...</td>\n",
              "      <td>...</td>\n",
              "      <td>...</td>\n",
              "      <td>...</td>\n",
              "      <td>...</td>\n",
              "      <td>...</td>\n",
              "      <td>...</td>\n",
              "      <td>...</td>\n",
              "      <td>...</td>\n",
              "    </tr>\n",
              "    <tr>\n",
              "      <th>278672</th>\n",
              "      <td>A2DG63DN704LOI</td>\n",
              "      <td>B00KKXCJQU</td>\n",
              "      <td>ESlayd</td>\n",
              "      <td>[0, 1]</td>\n",
              "      <td>I don't normally go ga-ga over a product very ...</td>\n",
              "      <td>5.0</td>\n",
              "      <td>These have literally changed the way I travel!</td>\n",
              "      <td>1403568000</td>\n",
              "      <td>06 24, 2014</td>\n",
              "    </tr>\n",
              "    <tr>\n",
              "      <th>278673</th>\n",
              "      <td>A1EVV74UQYVKRY</td>\n",
              "      <td>B00KKXCJQU</td>\n",
              "      <td>K. Groh</td>\n",
              "      <td>[0, 0]</td>\n",
              "      <td>I've been traveling back and forth to England ...</td>\n",
              "      <td>5.0</td>\n",
              "      <td>Wonderful for Better Packing</td>\n",
              "      <td>1403740800</td>\n",
              "      <td>06 26, 2014</td>\n",
              "    </tr>\n",
              "    <tr>\n",
              "      <th>278674</th>\n",
              "      <td>A1UQBFCERIP7VJ</td>\n",
              "      <td>B00KKXCJQU</td>\n",
              "      <td>Margaret Picky</td>\n",
              "      <td>[1, 1]</td>\n",
              "      <td>These are very nice packing cubes and the 18 x...</td>\n",
              "      <td>5.0</td>\n",
              "      <td>Convenient, lightweight, and durable</td>\n",
              "      <td>1402185600</td>\n",
              "      <td>06 8, 2014</td>\n",
              "    </tr>\n",
              "    <tr>\n",
              "      <th>278675</th>\n",
              "      <td>A22CW0ZHY3NJH8</td>\n",
              "      <td>B00KKXCJQU</td>\n",
              "      <td>Noname</td>\n",
              "      <td>[2, 2]</td>\n",
              "      <td>I am on vacation with my family of four and th...</td>\n",
              "      <td>5.0</td>\n",
              "      <td>Holds Up Well In Real World Test</td>\n",
              "      <td>1404691200</td>\n",
              "      <td>07 7, 2014</td>\n",
              "    </tr>\n",
              "    <tr>\n",
              "      <th>278676</th>\n",
              "      <td>A30VWT3R25QAVD</td>\n",
              "      <td>B00KKXCJQU</td>\n",
              "      <td>THE-DEADLY-DOG \"Living and Loving Life.\"</td>\n",
              "      <td>[0, 1]</td>\n",
              "      <td>When I signed up to receive a free set of Shac...</td>\n",
              "      <td>5.0</td>\n",
              "      <td>Don't Travel? Still Way too Useful for 'Averag...</td>\n",
              "      <td>1403481600</td>\n",
              "      <td>06 23, 2014</td>\n",
              "    </tr>\n",
              "  </tbody>\n",
              "</table>\n",
              "<p>278677 rows × 9 columns</p>\n",
              "</div>\n",
              "      <button class=\"colab-df-convert\" onclick=\"convertToInteractive('df-fad9d2d0-e906-4779-a275-94843931c25b')\"\n",
              "              title=\"Convert this dataframe to an interactive table.\"\n",
              "              style=\"display:none;\">\n",
              "        \n",
              "  <svg xmlns=\"http://www.w3.org/2000/svg\" height=\"24px\"viewBox=\"0 0 24 24\"\n",
              "       width=\"24px\">\n",
              "    <path d=\"M0 0h24v24H0V0z\" fill=\"none\"/>\n",
              "    <path d=\"M18.56 5.44l.94 2.06.94-2.06 2.06-.94-2.06-.94-.94-2.06-.94 2.06-2.06.94zm-11 1L8.5 8.5l.94-2.06 2.06-.94-2.06-.94L8.5 2.5l-.94 2.06-2.06.94zm10 10l.94 2.06.94-2.06 2.06-.94-2.06-.94-.94-2.06-.94 2.06-2.06.94z\"/><path d=\"M17.41 7.96l-1.37-1.37c-.4-.4-.92-.59-1.43-.59-.52 0-1.04.2-1.43.59L10.3 9.45l-7.72 7.72c-.78.78-.78 2.05 0 2.83L4 21.41c.39.39.9.59 1.41.59.51 0 1.02-.2 1.41-.59l7.78-7.78 2.81-2.81c.8-.78.8-2.07 0-2.86zM5.41 20L4 18.59l7.72-7.72 1.47 1.35L5.41 20z\"/>\n",
              "  </svg>\n",
              "      </button>\n",
              "      \n",
              "  <style>\n",
              "    .colab-df-container {\n",
              "      display:flex;\n",
              "      flex-wrap:wrap;\n",
              "      gap: 12px;\n",
              "    }\n",
              "\n",
              "    .colab-df-convert {\n",
              "      background-color: #E8F0FE;\n",
              "      border: none;\n",
              "      border-radius: 50%;\n",
              "      cursor: pointer;\n",
              "      display: none;\n",
              "      fill: #1967D2;\n",
              "      height: 32px;\n",
              "      padding: 0 0 0 0;\n",
              "      width: 32px;\n",
              "    }\n",
              "\n",
              "    .colab-df-convert:hover {\n",
              "      background-color: #E2EBFA;\n",
              "      box-shadow: 0px 1px 2px rgba(60, 64, 67, 0.3), 0px 1px 3px 1px rgba(60, 64, 67, 0.15);\n",
              "      fill: #174EA6;\n",
              "    }\n",
              "\n",
              "    [theme=dark] .colab-df-convert {\n",
              "      background-color: #3B4455;\n",
              "      fill: #D2E3FC;\n",
              "    }\n",
              "\n",
              "    [theme=dark] .colab-df-convert:hover {\n",
              "      background-color: #434B5C;\n",
              "      box-shadow: 0px 1px 3px 1px rgba(0, 0, 0, 0.15);\n",
              "      filter: drop-shadow(0px 1px 2px rgba(0, 0, 0, 0.3));\n",
              "      fill: #FFFFFF;\n",
              "    }\n",
              "  </style>\n",
              "\n",
              "      <script>\n",
              "        const buttonEl =\n",
              "          document.querySelector('#df-fad9d2d0-e906-4779-a275-94843931c25b button.colab-df-convert');\n",
              "        buttonEl.style.display =\n",
              "          google.colab.kernel.accessAllowed ? 'block' : 'none';\n",
              "\n",
              "        async function convertToInteractive(key) {\n",
              "          const element = document.querySelector('#df-fad9d2d0-e906-4779-a275-94843931c25b');\n",
              "          const dataTable =\n",
              "            await google.colab.kernel.invokeFunction('convertToInteractive',\n",
              "                                                     [key], {});\n",
              "          if (!dataTable) return;\n",
              "\n",
              "          const docLinkHtml = 'Like what you see? Visit the ' +\n",
              "            '<a target=\"_blank\" href=https://colab.research.google.com/notebooks/data_table.ipynb>data table notebook</a>'\n",
              "            + ' to learn more about interactive tables.';\n",
              "          element.innerHTML = '';\n",
              "          dataTable['output_type'] = 'display_data';\n",
              "          await google.colab.output.renderOutput(dataTable, element);\n",
              "          const docLink = document.createElement('div');\n",
              "          docLink.innerHTML = docLinkHtml;\n",
              "          element.appendChild(docLink);\n",
              "        }\n",
              "      </script>\n",
              "    </div>\n",
              "  </div>\n",
              "  "
            ],
            "text/plain": [
              "            reviewerID        asin  ... unixReviewTime   reviewTime\n",
              "0       A1KLRMWW2FWPL4  0000031887  ...     1297468800  02 12, 2011\n",
              "1       A2G5TCU2WDFZ65  0000031887  ...     1358553600  01 19, 2013\n",
              "2       A1RLQXYNCMWRWN  0000031887  ...     1357257600   01 4, 2013\n",
              "3        A8U3FAMSJVHS5  0000031887  ...     1398556800  04 27, 2014\n",
              "4       A3GEOILWLK86XM  0000031887  ...     1394841600  03 15, 2014\n",
              "...                ...         ...  ...            ...          ...\n",
              "278672  A2DG63DN704LOI  B00KKXCJQU  ...     1403568000  06 24, 2014\n",
              "278673  A1EVV74UQYVKRY  B00KKXCJQU  ...     1403740800  06 26, 2014\n",
              "278674  A1UQBFCERIP7VJ  B00KKXCJQU  ...     1402185600   06 8, 2014\n",
              "278675  A22CW0ZHY3NJH8  B00KKXCJQU  ...     1404691200   07 7, 2014\n",
              "278676  A30VWT3R25QAVD  B00KKXCJQU  ...     1403481600  06 23, 2014\n",
              "\n",
              "[278677 rows x 9 columns]"
            ]
          },
          "metadata": {},
          "execution_count": 16
        },
        {
          "output_type": "stream",
          "name": "stdout",
          "text": [
            "time: 76.3 ms (started: 2022-01-25 03:22:10 +00:00)\n"
          ]
        }
      ]
    },
    {
      "cell_type": "markdown",
      "source": [
        "## Review Length distribution\n",
        "\n",
        "Rough sensing of the length of each review corpus. Also check if there are presence of length=0, which we will need to discard them before model training. "
      ],
      "metadata": {
        "id": "kVcQpZfUMQ3_"
      }
    },
    {
      "cell_type": "code",
      "source": [
        "df[\"reviewText_len\"] = df[\"reviewText\"].astype(str).apply(len)"
      ],
      "metadata": {
        "colab": {
          "base_uri": "https://localhost:8080/"
        },
        "id": "g2OWul-LMP9X",
        "outputId": "9c57ca99-9c4d-4e39-a3ea-5b1927a3591a"
      },
      "execution_count": null,
      "outputs": [
        {
          "output_type": "stream",
          "name": "stdout",
          "text": [
            "time: 189 ms (started: 2022-01-25 03:22:14 +00:00)\n"
          ]
        }
      ]
    },
    {
      "cell_type": "code",
      "source": [
        "df"
      ],
      "metadata": {
        "colab": {
          "base_uri": "https://localhost:8080/",
          "height": 1000
        },
        "id": "HjTlZdp8MjpX",
        "outputId": "36833aa7-cb74-400a-c17e-ade6a5f23476"
      },
      "execution_count": null,
      "outputs": [
        {
          "output_type": "execute_result",
          "data": {
            "text/html": [
              "\n",
              "  <div id=\"df-63e7e6a0-2e39-471c-bf4d-f013c4f15934\">\n",
              "    <div class=\"colab-df-container\">\n",
              "      <div>\n",
              "<style scoped>\n",
              "    .dataframe tbody tr th:only-of-type {\n",
              "        vertical-align: middle;\n",
              "    }\n",
              "\n",
              "    .dataframe tbody tr th {\n",
              "        vertical-align: top;\n",
              "    }\n",
              "\n",
              "    .dataframe thead th {\n",
              "        text-align: right;\n",
              "    }\n",
              "</style>\n",
              "<table border=\"1\" class=\"dataframe\">\n",
              "  <thead>\n",
              "    <tr style=\"text-align: right;\">\n",
              "      <th></th>\n",
              "      <th>reviewerID</th>\n",
              "      <th>asin</th>\n",
              "      <th>reviewerName</th>\n",
              "      <th>helpful</th>\n",
              "      <th>reviewText</th>\n",
              "      <th>overall</th>\n",
              "      <th>summary</th>\n",
              "      <th>unixReviewTime</th>\n",
              "      <th>reviewTime</th>\n",
              "      <th>reviewText_len</th>\n",
              "    </tr>\n",
              "  </thead>\n",
              "  <tbody>\n",
              "    <tr>\n",
              "      <th>0</th>\n",
              "      <td>A1KLRMWW2FWPL4</td>\n",
              "      <td>0000031887</td>\n",
              "      <td>Amazon Customer \"cameramom\"</td>\n",
              "      <td>[0, 0]</td>\n",
              "      <td>This is a great tutu and at a really great pri...</td>\n",
              "      <td>5.0</td>\n",
              "      <td>Great tutu-  not cheaply made</td>\n",
              "      <td>1297468800</td>\n",
              "      <td>02 12, 2011</td>\n",
              "      <td>172</td>\n",
              "    </tr>\n",
              "    <tr>\n",
              "      <th>1</th>\n",
              "      <td>A2G5TCU2WDFZ65</td>\n",
              "      <td>0000031887</td>\n",
              "      <td>Amazon Customer</td>\n",
              "      <td>[0, 0]</td>\n",
              "      <td>I bought this for my 4 yr old daughter for dan...</td>\n",
              "      <td>5.0</td>\n",
              "      <td>Very Cute!!</td>\n",
              "      <td>1358553600</td>\n",
              "      <td>01 19, 2013</td>\n",
              "      <td>306</td>\n",
              "    </tr>\n",
              "    <tr>\n",
              "      <th>2</th>\n",
              "      <td>A1RLQXYNCMWRWN</td>\n",
              "      <td>0000031887</td>\n",
              "      <td>Carola</td>\n",
              "      <td>[0, 0]</td>\n",
              "      <td>What can I say... my daughters have it in oran...</td>\n",
              "      <td>5.0</td>\n",
              "      <td>I have buy more than one</td>\n",
              "      <td>1357257600</td>\n",
              "      <td>01 4, 2013</td>\n",
              "      <td>312</td>\n",
              "    </tr>\n",
              "    <tr>\n",
              "      <th>3</th>\n",
              "      <td>A8U3FAMSJVHS5</td>\n",
              "      <td>0000031887</td>\n",
              "      <td>Caromcg</td>\n",
              "      <td>[0, 0]</td>\n",
              "      <td>We bought several tutus at once, and they are ...</td>\n",
              "      <td>5.0</td>\n",
              "      <td>Adorable, Sturdy</td>\n",
              "      <td>1398556800</td>\n",
              "      <td>04 27, 2014</td>\n",
              "      <td>405</td>\n",
              "    </tr>\n",
              "    <tr>\n",
              "      <th>4</th>\n",
              "      <td>A3GEOILWLK86XM</td>\n",
              "      <td>0000031887</td>\n",
              "      <td>CJ</td>\n",
              "      <td>[0, 0]</td>\n",
              "      <td>Thank you Halo Heaven great product for Little...</td>\n",
              "      <td>5.0</td>\n",
              "      <td>Grammy's Angels Love it</td>\n",
              "      <td>1394841600</td>\n",
              "      <td>03 15, 2014</td>\n",
              "      <td>453</td>\n",
              "    </tr>\n",
              "    <tr>\n",
              "      <th>...</th>\n",
              "      <td>...</td>\n",
              "      <td>...</td>\n",
              "      <td>...</td>\n",
              "      <td>...</td>\n",
              "      <td>...</td>\n",
              "      <td>...</td>\n",
              "      <td>...</td>\n",
              "      <td>...</td>\n",
              "      <td>...</td>\n",
              "      <td>...</td>\n",
              "    </tr>\n",
              "    <tr>\n",
              "      <th>278672</th>\n",
              "      <td>A2DG63DN704LOI</td>\n",
              "      <td>B00KKXCJQU</td>\n",
              "      <td>ESlayd</td>\n",
              "      <td>[0, 1]</td>\n",
              "      <td>I don't normally go ga-ga over a product very ...</td>\n",
              "      <td>5.0</td>\n",
              "      <td>These have literally changed the way I travel!</td>\n",
              "      <td>1403568000</td>\n",
              "      <td>06 24, 2014</td>\n",
              "      <td>1315</td>\n",
              "    </tr>\n",
              "    <tr>\n",
              "      <th>278673</th>\n",
              "      <td>A1EVV74UQYVKRY</td>\n",
              "      <td>B00KKXCJQU</td>\n",
              "      <td>K. Groh</td>\n",
              "      <td>[0, 0]</td>\n",
              "      <td>I've been traveling back and forth to England ...</td>\n",
              "      <td>5.0</td>\n",
              "      <td>Wonderful for Better Packing</td>\n",
              "      <td>1403740800</td>\n",
              "      <td>06 26, 2014</td>\n",
              "      <td>827</td>\n",
              "    </tr>\n",
              "    <tr>\n",
              "      <th>278674</th>\n",
              "      <td>A1UQBFCERIP7VJ</td>\n",
              "      <td>B00KKXCJQU</td>\n",
              "      <td>Margaret Picky</td>\n",
              "      <td>[1, 1]</td>\n",
              "      <td>These are very nice packing cubes and the 18 x...</td>\n",
              "      <td>5.0</td>\n",
              "      <td>Convenient, lightweight, and durable</td>\n",
              "      <td>1402185600</td>\n",
              "      <td>06 8, 2014</td>\n",
              "      <td>914</td>\n",
              "    </tr>\n",
              "    <tr>\n",
              "      <th>278675</th>\n",
              "      <td>A22CW0ZHY3NJH8</td>\n",
              "      <td>B00KKXCJQU</td>\n",
              "      <td>Noname</td>\n",
              "      <td>[2, 2]</td>\n",
              "      <td>I am on vacation with my family of four and th...</td>\n",
              "      <td>5.0</td>\n",
              "      <td>Holds Up Well In Real World Test</td>\n",
              "      <td>1404691200</td>\n",
              "      <td>07 7, 2014</td>\n",
              "      <td>1126</td>\n",
              "    </tr>\n",
              "    <tr>\n",
              "      <th>278676</th>\n",
              "      <td>A30VWT3R25QAVD</td>\n",
              "      <td>B00KKXCJQU</td>\n",
              "      <td>THE-DEADLY-DOG \"Living and Loving Life.\"</td>\n",
              "      <td>[0, 1]</td>\n",
              "      <td>When I signed up to receive a free set of Shac...</td>\n",
              "      <td>5.0</td>\n",
              "      <td>Don't Travel? Still Way too Useful for 'Averag...</td>\n",
              "      <td>1403481600</td>\n",
              "      <td>06 23, 2014</td>\n",
              "      <td>1295</td>\n",
              "    </tr>\n",
              "  </tbody>\n",
              "</table>\n",
              "<p>278677 rows × 10 columns</p>\n",
              "</div>\n",
              "      <button class=\"colab-df-convert\" onclick=\"convertToInteractive('df-63e7e6a0-2e39-471c-bf4d-f013c4f15934')\"\n",
              "              title=\"Convert this dataframe to an interactive table.\"\n",
              "              style=\"display:none;\">\n",
              "        \n",
              "  <svg xmlns=\"http://www.w3.org/2000/svg\" height=\"24px\"viewBox=\"0 0 24 24\"\n",
              "       width=\"24px\">\n",
              "    <path d=\"M0 0h24v24H0V0z\" fill=\"none\"/>\n",
              "    <path d=\"M18.56 5.44l.94 2.06.94-2.06 2.06-.94-2.06-.94-.94-2.06-.94 2.06-2.06.94zm-11 1L8.5 8.5l.94-2.06 2.06-.94-2.06-.94L8.5 2.5l-.94 2.06-2.06.94zm10 10l.94 2.06.94-2.06 2.06-.94-2.06-.94-.94-2.06-.94 2.06-2.06.94z\"/><path d=\"M17.41 7.96l-1.37-1.37c-.4-.4-.92-.59-1.43-.59-.52 0-1.04.2-1.43.59L10.3 9.45l-7.72 7.72c-.78.78-.78 2.05 0 2.83L4 21.41c.39.39.9.59 1.41.59.51 0 1.02-.2 1.41-.59l7.78-7.78 2.81-2.81c.8-.78.8-2.07 0-2.86zM5.41 20L4 18.59l7.72-7.72 1.47 1.35L5.41 20z\"/>\n",
              "  </svg>\n",
              "      </button>\n",
              "      \n",
              "  <style>\n",
              "    .colab-df-container {\n",
              "      display:flex;\n",
              "      flex-wrap:wrap;\n",
              "      gap: 12px;\n",
              "    }\n",
              "\n",
              "    .colab-df-convert {\n",
              "      background-color: #E8F0FE;\n",
              "      border: none;\n",
              "      border-radius: 50%;\n",
              "      cursor: pointer;\n",
              "      display: none;\n",
              "      fill: #1967D2;\n",
              "      height: 32px;\n",
              "      padding: 0 0 0 0;\n",
              "      width: 32px;\n",
              "    }\n",
              "\n",
              "    .colab-df-convert:hover {\n",
              "      background-color: #E2EBFA;\n",
              "      box-shadow: 0px 1px 2px rgba(60, 64, 67, 0.3), 0px 1px 3px 1px rgba(60, 64, 67, 0.15);\n",
              "      fill: #174EA6;\n",
              "    }\n",
              "\n",
              "    [theme=dark] .colab-df-convert {\n",
              "      background-color: #3B4455;\n",
              "      fill: #D2E3FC;\n",
              "    }\n",
              "\n",
              "    [theme=dark] .colab-df-convert:hover {\n",
              "      background-color: #434B5C;\n",
              "      box-shadow: 0px 1px 3px 1px rgba(0, 0, 0, 0.15);\n",
              "      filter: drop-shadow(0px 1px 2px rgba(0, 0, 0, 0.3));\n",
              "      fill: #FFFFFF;\n",
              "    }\n",
              "  </style>\n",
              "\n",
              "      <script>\n",
              "        const buttonEl =\n",
              "          document.querySelector('#df-63e7e6a0-2e39-471c-bf4d-f013c4f15934 button.colab-df-convert');\n",
              "        buttonEl.style.display =\n",
              "          google.colab.kernel.accessAllowed ? 'block' : 'none';\n",
              "\n",
              "        async function convertToInteractive(key) {\n",
              "          const element = document.querySelector('#df-63e7e6a0-2e39-471c-bf4d-f013c4f15934');\n",
              "          const dataTable =\n",
              "            await google.colab.kernel.invokeFunction('convertToInteractive',\n",
              "                                                     [key], {});\n",
              "          if (!dataTable) return;\n",
              "\n",
              "          const docLinkHtml = 'Like what you see? Visit the ' +\n",
              "            '<a target=\"_blank\" href=https://colab.research.google.com/notebooks/data_table.ipynb>data table notebook</a>'\n",
              "            + ' to learn more about interactive tables.';\n",
              "          element.innerHTML = '';\n",
              "          dataTable['output_type'] = 'display_data';\n",
              "          await google.colab.output.renderOutput(dataTable, element);\n",
              "          const docLink = document.createElement('div');\n",
              "          docLink.innerHTML = docLinkHtml;\n",
              "          element.appendChild(docLink);\n",
              "        }\n",
              "      </script>\n",
              "    </div>\n",
              "  </div>\n",
              "  "
            ],
            "text/plain": [
              "            reviewerID        asin  ...   reviewTime reviewText_len\n",
              "0       A1KLRMWW2FWPL4  0000031887  ...  02 12, 2011            172\n",
              "1       A2G5TCU2WDFZ65  0000031887  ...  01 19, 2013            306\n",
              "2       A1RLQXYNCMWRWN  0000031887  ...   01 4, 2013            312\n",
              "3        A8U3FAMSJVHS5  0000031887  ...  04 27, 2014            405\n",
              "4       A3GEOILWLK86XM  0000031887  ...  03 15, 2014            453\n",
              "...                ...         ...  ...          ...            ...\n",
              "278672  A2DG63DN704LOI  B00KKXCJQU  ...  06 24, 2014           1315\n",
              "278673  A1EVV74UQYVKRY  B00KKXCJQU  ...  06 26, 2014            827\n",
              "278674  A1UQBFCERIP7VJ  B00KKXCJQU  ...   06 8, 2014            914\n",
              "278675  A22CW0ZHY3NJH8  B00KKXCJQU  ...   07 7, 2014           1126\n",
              "278676  A30VWT3R25QAVD  B00KKXCJQU  ...  06 23, 2014           1295\n",
              "\n",
              "[278677 rows x 10 columns]"
            ]
          },
          "metadata": {},
          "execution_count": 18
        },
        {
          "output_type": "stream",
          "name": "stdout",
          "text": [
            "time: 77.2 ms (started: 2022-01-25 03:22:15 +00:00)\n"
          ]
        }
      ]
    },
    {
      "cell_type": "code",
      "source": [
        "import matplotlib.pyplot as plt\n",
        "\n",
        "plt.figure(figsize=(8,6))\n",
        "sns.histplot(df[df[\"reviewText_len\"] < 2000][\"reviewText_len\"]);"
      ],
      "metadata": {
        "colab": {
          "base_uri": "https://localhost:8080/",
          "height": 406
        },
        "id": "VCMD8FW4Nh7z",
        "outputId": "af44fcdb-68ed-435e-c519-76d5589fa610"
      },
      "execution_count": null,
      "outputs": [
        {
          "output_type": "display_data",
          "data": {
            "image/png": "[encoded data removed]",
            "text/plain": [
              "<Figure size 576x432 with 1 Axes>"
            ]
          },
          "metadata": {
            "needs_background": "light"
          }
        },
        {
          "output_type": "stream",
          "name": "stdout",
          "text": [
            "time: 1.02 s (started: 2022-01-25 03:22:19 +00:00)\n"
          ]
        }
      ]
    },
    {
      "cell_type": "code",
      "source": [
        "df[\"reviewText_len\"].max(), df[\"reviewText_len\"].min()"
      ],
      "metadata": {
        "colab": {
          "base_uri": "https://localhost:8080/"
        },
        "id": "ZMbhWKuQOJXa",
        "outputId": "3c221030-7910-48c8-eef2-de065b8eb3f3"
      },
      "execution_count": null,
      "outputs": [
        {
          "output_type": "execute_result",
          "data": {
            "text/plain": [
              "(22646, 0)"
            ]
          },
          "metadata": {},
          "execution_count": 20
        },
        {
          "output_type": "stream",
          "name": "stdout",
          "text": [
            "time: 6.16 ms (started: 2022-01-25 03:22:23 +00:00)\n"
          ]
        }
      ]
    },
    {
      "cell_type": "markdown",
      "source": [
        "# Feature Engineering"
      ],
      "metadata": {
        "id": "zDK3oJVmITh2"
      }
    },
    {
      "cell_type": "markdown",
      "source": [
        "## Drop features that are not useful"
      ],
      "metadata": {
        "id": "ulvupjrcxquL"
      }
    },
    {
      "cell_type": "code",
      "source": [
        "df_raw = df.copy()"
      ],
      "metadata": {
        "colab": {
          "base_uri": "https://localhost:8080/"
        },
        "id": "9wo-FGbiT0kQ",
        "outputId": "b503c83a-c263-4a2e-b6c9-863be1b4c346"
      },
      "execution_count": null,
      "outputs": [
        {
          "output_type": "stream",
          "name": "stdout",
          "text": [
            "time: 38 ms (started: 2022-01-25 03:22:26 +00:00)\n"
          ]
        }
      ]
    },
    {
      "cell_type": "code",
      "source": [
        "def drop_features(df):\n",
        "  return df.drop([\"reviewerID\", \"reviewerName\", \"helpful\", \"unixReviewTime\"], axis=1)"
      ],
      "metadata": {
        "colab": {
          "base_uri": "https://localhost:8080/"
        },
        "id": "dQ661bJDT34l",
        "outputId": "7ceec908-8f8a-42f4-bccf-dc7e37688239"
      },
      "execution_count": null,
      "outputs": [
        {
          "output_type": "stream",
          "name": "stdout",
          "text": [
            "time: 1.09 ms (started: 2022-01-25 03:22:28 +00:00)\n"
          ]
        }
      ]
    },
    {
      "cell_type": "markdown",
      "source": [
        "## Feature engineer reviewTime\n",
        "\n",
        "Feature engineer datetime variable, as initial raw `reviewTime` is not friendly for data processing. "
      ],
      "metadata": {
        "id": "9NRiQ4AyIWB5"
      }
    },
    {
      "cell_type": "code",
      "source": [
        "import datetime\n",
        "\n",
        "def create_review_time(df):\n",
        "  # Splitting the date \n",
        "  temp_dt = df[\"reviewTime\"].str.split(\",\", n = 1, expand = True) \n",
        "    \n",
        "  # adding date to the main dataset \n",
        "  df[\"date\"]= temp_dt[0] \n",
        "    \n",
        "  # adding year to the main dataset \n",
        "  df[\"year\"]= temp_dt[1]\n",
        "\n",
        "  temp_dt = df[\"date\"].str.split(\" \", n = 1, expand = True) \n",
        "    \n",
        "  # adding month to the main dataset \n",
        "  df[\"month\"]= temp_dt[0] \n",
        "    \n",
        "  # adding day to the main dataset \n",
        "  df[\"day\"]= temp_dt[1] \n",
        "\n",
        "  df = df.drop([\"date\", \"reviewTime\"], axis=1)\n",
        "\n",
        "  df[\"reviewTime\"] = pd.to_datetime(df[[\"year\", \"month\", \"day\"]])\n",
        "  \n",
        "  df = df.drop([\"year\", \"month\", \"day\"], axis=1)\n",
        "\n",
        "  return df"
      ],
      "metadata": {
        "colab": {
          "base_uri": "https://localhost:8080/"
        },
        "id": "5LtJwiINITHE",
        "outputId": "a22faf2d-d612-4cd1-a19d-098951085ac2"
      },
      "execution_count": null,
      "outputs": [
        {
          "output_type": "stream",
          "name": "stdout",
          "text": [
            "time: 11.4 ms (started: 2022-01-25 03:22:29 +00:00)\n"
          ]
        }
      ]
    },
    {
      "cell_type": "code",
      "source": [
        "# import datetime\n",
        "\n",
        "# # df[\"reviewTime\"] = datetime.datetime(df[\"year\"], df[\"month\"], df[\"day\"])\n",
        "# df[\"reviewTime\"] = pd.to_datetime(df[[\"year\", \"month\", \"day\"]])\n",
        "# df = df.drop([\"year\", \"month\", \"day\"], axis=1)\n",
        "# df.head()"
      ],
      "metadata": {
        "colab": {
          "base_uri": "https://localhost:8080/"
        },
        "id": "qiokeRiUK9TF",
        "outputId": "f57c04da-b58e-4d4a-f661-ab3d8a5fc716"
      },
      "execution_count": null,
      "outputs": [
        {
          "output_type": "stream",
          "name": "stdout",
          "text": [
            "time: 1.21 ms (started: 2022-01-21 04:23:40 +00:00)\n"
          ]
        }
      ]
    },
    {
      "cell_type": "markdown",
      "source": [
        "## Concatenating `summary` and `reviewText`\n",
        "\n",
        "As we do not want to lose info that captures customer satisfactions"
      ],
      "metadata": {
        "id": "WsiTVKZSPQWa"
      }
    },
    {
      "cell_type": "code",
      "source": [
        "def create_review(df):\n",
        "  df[\"review\"] = df[\"reviewText\"] + \" \" + df[\"summary\"]\n",
        "  df = df.drop([\"reviewText\", \"summary\"], axis=1)\n",
        "  return df"
      ],
      "metadata": {
        "colab": {
          "base_uri": "https://localhost:8080/"
        },
        "id": "3vHQ5sDrbos2",
        "outputId": "07d6953e-fbfe-4d38-8c71-60e0359b5d49"
      },
      "execution_count": null,
      "outputs": [
        {
          "output_type": "stream",
          "name": "stdout",
          "text": [
            "time: 2.1 ms (started: 2022-01-25 03:22:33 +00:00)\n"
          ]
        }
      ]
    },
    {
      "cell_type": "code",
      "source": [
        "# df[[\"reviewText\", \"summary\", \"review\"]].loc[1][0]"
      ],
      "metadata": {
        "colab": {
          "base_uri": "https://localhost:8080/"
        },
        "id": "tVxWWAlv2vul",
        "outputId": "1b159431-6b20-487e-ccb9-1f9b2d23fe8f"
      },
      "execution_count": null,
      "outputs": [
        {
          "output_type": "stream",
          "name": "stdout",
          "text": [
            "time: 909 µs (started: 2022-01-21 04:23:40 +00:00)\n"
          ]
        }
      ]
    },
    {
      "cell_type": "code",
      "source": [
        "# df[[\"reviewText\", \"summary\", \"review\"]].loc[1][1]"
      ],
      "metadata": {
        "colab": {
          "base_uri": "https://localhost:8080/"
        },
        "id": "l_e8iBaW24CG",
        "outputId": "4c2d2643-742d-4947-d3fb-cfd5f6a8e35e"
      },
      "execution_count": null,
      "outputs": [
        {
          "output_type": "stream",
          "name": "stdout",
          "text": [
            "time: 867 µs (started: 2022-01-21 04:23:40 +00:00)\n"
          ]
        }
      ]
    },
    {
      "cell_type": "code",
      "source": [
        "# df[[\"reviewText\", \"summary\", \"review\"]].loc[1][2]"
      ],
      "metadata": {
        "colab": {
          "base_uri": "https://localhost:8080/"
        },
        "id": "rSo7MbYP3Acr",
        "outputId": "d3699e15-659b-4cd2-e834-02f50d9090c5"
      },
      "execution_count": null,
      "outputs": [
        {
          "output_type": "stream",
          "name": "stdout",
          "text": [
            "time: 999 µs (started: 2022-01-21 04:23:40 +00:00)\n"
          ]
        }
      ]
    },
    {
      "cell_type": "code",
      "source": [
        "# df = df.drop([\"reviewText\", \"summary\"], axis=1)"
      ],
      "metadata": {
        "colab": {
          "base_uri": "https://localhost:8080/"
        },
        "id": "8LCAYd7z3BZy",
        "outputId": "c3e03892-f7e2-4755-f140-da8c97c283e2"
      },
      "execution_count": null,
      "outputs": [
        {
          "output_type": "stream",
          "name": "stdout",
          "text": [
            "time: 850 µs (started: 2022-01-21 04:23:40 +00:00)\n"
          ]
        }
      ]
    },
    {
      "cell_type": "markdown",
      "source": [
        "## Creating bins \n",
        "\n",
        "To classify positive, negative reviews"
      ],
      "metadata": {
        "id": "bTz1D5o936uT"
      }
    },
    {
      "cell_type": "code",
      "source": [
        "def create_bins(rating):\n",
        "  if rating >= 4.0:\n",
        "    val = \"pos\"\n",
        "  else:\n",
        "    val = \"neg\"\n",
        "  return val"
      ],
      "metadata": {
        "colab": {
          "base_uri": "https://localhost:8080/"
        },
        "id": "N1B0_etS3oWI",
        "outputId": "07ae1334-e963-49ff-d539-57f72ddf3975"
      },
      "execution_count": null,
      "outputs": [
        {
          "output_type": "stream",
          "name": "stdout",
          "text": [
            "time: 2.23 ms (started: 2022-01-25 03:22:36 +00:00)\n"
          ]
        }
      ]
    },
    {
      "cell_type": "code",
      "source": [
        "def create_sentiment(df):\n",
        "  df[\"sentiment\"] = df[\"overall\"].apply(create_bins)\n",
        "  return df"
      ],
      "metadata": {
        "colab": {
          "base_uri": "https://localhost:8080/"
        },
        "id": "mt8qDHot4KHN",
        "outputId": "2df920dc-2a03-42d9-ce41-210e6ff79638"
      },
      "execution_count": null,
      "outputs": [
        {
          "output_type": "stream",
          "name": "stdout",
          "text": [
            "time: 2.59 ms (started: 2022-01-25 03:22:38 +00:00)\n"
          ]
        }
      ]
    },
    {
      "cell_type": "markdown",
      "source": [
        "## Creating data cleaning pipeline"
      ],
      "metadata": {
        "id": "NlKIqIJqyTKA"
      }
    },
    {
      "cell_type": "code",
      "source": [
        "df = drop_features(df)\n",
        "\n",
        "df = create_review_time(df)\n",
        "\n",
        "df = create_review(df)\n",
        "\n",
        "df = create_sentiment(df)"
      ],
      "metadata": {
        "colab": {
          "base_uri": "https://localhost:8080/"
        },
        "id": "uIlDb0isyRuD",
        "outputId": "7d10b1ff-0793-4027-9596-b5195841de17"
      },
      "execution_count": null,
      "outputs": [
        {
          "output_type": "stream",
          "name": "stdout",
          "text": [
            "time: 5.9 s (started: 2022-01-25 03:22:40 +00:00)\n"
          ]
        }
      ]
    },
    {
      "cell_type": "code",
      "source": [
        "df.head()"
      ],
      "metadata": {
        "colab": {
          "base_uri": "https://localhost:8080/",
          "height": 267
        },
        "id": "RJF6qHLkywF2",
        "outputId": "ce3b9c1d-0024-4874-c141-935edbb898f8"
      },
      "execution_count": null,
      "outputs": [
        {
          "output_type": "execute_result",
          "data": {
            "text/html": [
              "\n",
              "  <div id=\"df-6a11a2b6-6641-4623-90fe-02fe36558a53\">\n",
              "    <div class=\"colab-df-container\">\n",
              "      <div>\n",
              "<style scoped>\n",
              "    .dataframe tbody tr th:only-of-type {\n",
              "        vertical-align: middle;\n",
              "    }\n",
              "\n",
              "    .dataframe tbody tr th {\n",
              "        vertical-align: top;\n",
              "    }\n",
              "\n",
              "    .dataframe thead th {\n",
              "        text-align: right;\n",
              "    }\n",
              "</style>\n",
              "<table border=\"1\" class=\"dataframe\">\n",
              "  <thead>\n",
              "    <tr style=\"text-align: right;\">\n",
              "      <th></th>\n",
              "      <th>asin</th>\n",
              "      <th>overall</th>\n",
              "      <th>reviewText_len</th>\n",
              "      <th>reviewTime</th>\n",
              "      <th>review</th>\n",
              "      <th>sentiment</th>\n",
              "    </tr>\n",
              "  </thead>\n",
              "  <tbody>\n",
              "    <tr>\n",
              "      <th>0</th>\n",
              "      <td>0000031887</td>\n",
              "      <td>5.0</td>\n",
              "      <td>172</td>\n",
              "      <td>2011-02-12</td>\n",
              "      <td>This is a great tutu and at a really great pri...</td>\n",
              "      <td>pos</td>\n",
              "    </tr>\n",
              "    <tr>\n",
              "      <th>1</th>\n",
              "      <td>0000031887</td>\n",
              "      <td>5.0</td>\n",
              "      <td>306</td>\n",
              "      <td>2013-01-19</td>\n",
              "      <td>I bought this for my 4 yr old daughter for dan...</td>\n",
              "      <td>pos</td>\n",
              "    </tr>\n",
              "    <tr>\n",
              "      <th>2</th>\n",
              "      <td>0000031887</td>\n",
              "      <td>5.0</td>\n",
              "      <td>312</td>\n",
              "      <td>2013-01-04</td>\n",
              "      <td>What can I say... my daughters have it in oran...</td>\n",
              "      <td>pos</td>\n",
              "    </tr>\n",
              "    <tr>\n",
              "      <th>3</th>\n",
              "      <td>0000031887</td>\n",
              "      <td>5.0</td>\n",
              "      <td>405</td>\n",
              "      <td>2014-04-27</td>\n",
              "      <td>We bought several tutus at once, and they are ...</td>\n",
              "      <td>pos</td>\n",
              "    </tr>\n",
              "    <tr>\n",
              "      <th>4</th>\n",
              "      <td>0000031887</td>\n",
              "      <td>5.0</td>\n",
              "      <td>453</td>\n",
              "      <td>2014-03-15</td>\n",
              "      <td>Thank you Halo Heaven great product for Little...</td>\n",
              "      <td>pos</td>\n",
              "    </tr>\n",
              "  </tbody>\n",
              "</table>\n",
              "</div>\n",
              "      <button class=\"colab-df-convert\" onclick=\"convertToInteractive('df-6a11a2b6-6641-4623-90fe-02fe36558a53')\"\n",
              "              title=\"Convert this dataframe to an interactive table.\"\n",
              "              style=\"display:none;\">\n",
              "        \n",
              "  <svg xmlns=\"http://www.w3.org/2000/svg\" height=\"24px\"viewBox=\"0 0 24 24\"\n",
              "       width=\"24px\">\n",
              "    <path d=\"M0 0h24v24H0V0z\" fill=\"none\"/>\n",
              "    <path d=\"M18.56 5.44l.94 2.06.94-2.06 2.06-.94-2.06-.94-.94-2.06-.94 2.06-2.06.94zm-11 1L8.5 8.5l.94-2.06 2.06-.94-2.06-.94L8.5 2.5l-.94 2.06-2.06.94zm10 10l.94 2.06.94-2.06 2.06-.94-2.06-.94-.94-2.06-.94 2.06-2.06.94z\"/><path d=\"M17.41 7.96l-1.37-1.37c-.4-.4-.92-.59-1.43-.59-.52 0-1.04.2-1.43.59L10.3 9.45l-7.72 7.72c-.78.78-.78 2.05 0 2.83L4 21.41c.39.39.9.59 1.41.59.51 0 1.02-.2 1.41-.59l7.78-7.78 2.81-2.81c.8-.78.8-2.07 0-2.86zM5.41 20L4 18.59l7.72-7.72 1.47 1.35L5.41 20z\"/>\n",
              "  </svg>\n",
              "      </button>\n",
              "      \n",
              "  <style>\n",
              "    .colab-df-container {\n",
              "      display:flex;\n",
              "      flex-wrap:wrap;\n",
              "      gap: 12px;\n",
              "    }\n",
              "\n",
              "    .colab-df-convert {\n",
              "      background-color: #E8F0FE;\n",
              "      border: none;\n",
              "      border-radius: 50%;\n",
              "      cursor: pointer;\n",
              "      display: none;\n",
              "      fill: #1967D2;\n",
              "      height: 32px;\n",
              "      padding: 0 0 0 0;\n",
              "      width: 32px;\n",
              "    }\n",
              "\n",
              "    .colab-df-convert:hover {\n",
              "      background-color: #E2EBFA;\n",
              "      box-shadow: 0px 1px 2px rgba(60, 64, 67, 0.3), 0px 1px 3px 1px rgba(60, 64, 67, 0.15);\n",
              "      fill: #174EA6;\n",
              "    }\n",
              "\n",
              "    [theme=dark] .colab-df-convert {\n",
              "      background-color: #3B4455;\n",
              "      fill: #D2E3FC;\n",
              "    }\n",
              "\n",
              "    [theme=dark] .colab-df-convert:hover {\n",
              "      background-color: #434B5C;\n",
              "      box-shadow: 0px 1px 3px 1px rgba(0, 0, 0, 0.15);\n",
              "      filter: drop-shadow(0px 1px 2px rgba(0, 0, 0, 0.3));\n",
              "      fill: #FFFFFF;\n",
              "    }\n",
              "  </style>\n",
              "\n",
              "      <script>\n",
              "        const buttonEl =\n",
              "          document.querySelector('#df-6a11a2b6-6641-4623-90fe-02fe36558a53 button.colab-df-convert');\n",
              "        buttonEl.style.display =\n",
              "          google.colab.kernel.accessAllowed ? 'block' : 'none';\n",
              "\n",
              "        async function convertToInteractive(key) {\n",
              "          const element = document.querySelector('#df-6a11a2b6-6641-4623-90fe-02fe36558a53');\n",
              "          const dataTable =\n",
              "            await google.colab.kernel.invokeFunction('convertToInteractive',\n",
              "                                                     [key], {});\n",
              "          if (!dataTable) return;\n",
              "\n",
              "          const docLinkHtml = 'Like what you see? Visit the ' +\n",
              "            '<a target=\"_blank\" href=https://colab.research.google.com/notebooks/data_table.ipynb>data table notebook</a>'\n",
              "            + ' to learn more about interactive tables.';\n",
              "          element.innerHTML = '';\n",
              "          dataTable['output_type'] = 'display_data';\n",
              "          await google.colab.output.renderOutput(dataTable, element);\n",
              "          const docLink = document.createElement('div');\n",
              "          docLink.innerHTML = docLinkHtml;\n",
              "          element.appendChild(docLink);\n",
              "        }\n",
              "      </script>\n",
              "    </div>\n",
              "  </div>\n",
              "  "
            ],
            "text/plain": [
              "         asin  ...  sentiment\n",
              "0  0000031887  ...        pos\n",
              "1  0000031887  ...        pos\n",
              "2  0000031887  ...        pos\n",
              "3  0000031887  ...        pos\n",
              "4  0000031887  ...        pos\n",
              "\n",
              "[5 rows x 6 columns]"
            ]
          },
          "metadata": {},
          "execution_count": 28
        },
        {
          "output_type": "stream",
          "name": "stdout",
          "text": [
            "time: 23.5 ms (started: 2022-01-25 03:22:48 +00:00)\n"
          ]
        }
      ]
    },
    {
      "cell_type": "markdown",
      "source": [
        "## Exploring new bins created for dependent variable"
      ],
      "metadata": {
        "id": "RGjv1OVc0Rav"
      }
    },
    {
      "cell_type": "markdown",
      "source": [
        "Inspecting new bins created:"
      ],
      "metadata": {
        "id": "0rkL0fPB44ff"
      }
    },
    {
      "cell_type": "code",
      "source": [
        "df[df[\"overall\"]==5][[\"overall\", \"sentiment\"]].head(3)"
      ],
      "metadata": {
        "colab": {
          "base_uri": "https://localhost:8080/",
          "height": 161
        },
        "id": "mezMrhe24jZA",
        "outputId": "baa817bc-d3e3-4156-f9ef-1fc056d8759b"
      },
      "execution_count": null,
      "outputs": [
        {
          "output_type": "execute_result",
          "data": {
            "text/html": [
              "\n",
              "  <div id=\"df-bdcf99fd-284f-46a1-80dd-0f106a0ae952\">\n",
              "    <div class=\"colab-df-container\">\n",
              "      <div>\n",
              "<style scoped>\n",
              "    .dataframe tbody tr th:only-of-type {\n",
              "        vertical-align: middle;\n",
              "    }\n",
              "\n",
              "    .dataframe tbody tr th {\n",
              "        vertical-align: top;\n",
              "    }\n",
              "\n",
              "    .dataframe thead th {\n",
              "        text-align: right;\n",
              "    }\n",
              "</style>\n",
              "<table border=\"1\" class=\"dataframe\">\n",
              "  <thead>\n",
              "    <tr style=\"text-align: right;\">\n",
              "      <th></th>\n",
              "      <th>overall</th>\n",
              "      <th>sentiment</th>\n",
              "    </tr>\n",
              "  </thead>\n",
              "  <tbody>\n",
              "    <tr>\n",
              "      <th>0</th>\n",
              "      <td>5.0</td>\n",
              "      <td>pos</td>\n",
              "    </tr>\n",
              "    <tr>\n",
              "      <th>1</th>\n",
              "      <td>5.0</td>\n",
              "      <td>pos</td>\n",
              "    </tr>\n",
              "    <tr>\n",
              "      <th>2</th>\n",
              "      <td>5.0</td>\n",
              "      <td>pos</td>\n",
              "    </tr>\n",
              "  </tbody>\n",
              "</table>\n",
              "</div>\n",
              "      <button class=\"colab-df-convert\" onclick=\"convertToInteractive('df-bdcf99fd-284f-46a1-80dd-0f106a0ae952')\"\n",
              "              title=\"Convert this dataframe to an interactive table.\"\n",
              "              style=\"display:none;\">\n",
              "        \n",
              "  <svg xmlns=\"http://www.w3.org/2000/svg\" height=\"24px\"viewBox=\"0 0 24 24\"\n",
              "       width=\"24px\">\n",
              "    <path d=\"M0 0h24v24H0V0z\" fill=\"none\"/>\n",
              "    <path d=\"M18.56 5.44l.94 2.06.94-2.06 2.06-.94-2.06-.94-.94-2.06-.94 2.06-2.06.94zm-11 1L8.5 8.5l.94-2.06 2.06-.94-2.06-.94L8.5 2.5l-.94 2.06-2.06.94zm10 10l.94 2.06.94-2.06 2.06-.94-2.06-.94-.94-2.06-.94 2.06-2.06.94z\"/><path d=\"M17.41 7.96l-1.37-1.37c-.4-.4-.92-.59-1.43-.59-.52 0-1.04.2-1.43.59L10.3 9.45l-7.72 7.72c-.78.78-.78 2.05 0 2.83L4 21.41c.39.39.9.59 1.41.59.51 0 1.02-.2 1.41-.59l7.78-7.78 2.81-2.81c.8-.78.8-2.07 0-2.86zM5.41 20L4 18.59l7.72-7.72 1.47 1.35L5.41 20z\"/>\n",
              "  </svg>\n",
              "      </button>\n",
              "      \n",
              "  <style>\n",
              "    .colab-df-container {\n",
              "      display:flex;\n",
              "      flex-wrap:wrap;\n",
              "      gap: 12px;\n",
              "    }\n",
              "\n",
              "    .colab-df-convert {\n",
              "      background-color: #E8F0FE;\n",
              "      border: none;\n",
              "      border-radius: 50%;\n",
              "      cursor: pointer;\n",
              "      display: none;\n",
              "      fill: #1967D2;\n",
              "      height: 32px;\n",
              "      padding: 0 0 0 0;\n",
              "      width: 32px;\n",
              "    }\n",
              "\n",
              "    .colab-df-convert:hover {\n",
              "      background-color: #E2EBFA;\n",
              "      box-shadow: 0px 1px 2px rgba(60, 64, 67, 0.3), 0px 1px 3px 1px rgba(60, 64, 67, 0.15);\n",
              "      fill: #174EA6;\n",
              "    }\n",
              "\n",
              "    [theme=dark] .colab-df-convert {\n",
              "      background-color: #3B4455;\n",
              "      fill: #D2E3FC;\n",
              "    }\n",
              "\n",
              "    [theme=dark] .colab-df-convert:hover {\n",
              "      background-color: #434B5C;\n",
              "      box-shadow: 0px 1px 3px 1px rgba(0, 0, 0, 0.15);\n",
              "      filter: drop-shadow(0px 1px 2px rgba(0, 0, 0, 0.3));\n",
              "      fill: #FFFFFF;\n",
              "    }\n",
              "  </style>\n",
              "\n",
              "      <script>\n",
              "        const buttonEl =\n",
              "          document.querySelector('#df-bdcf99fd-284f-46a1-80dd-0f106a0ae952 button.colab-df-convert');\n",
              "        buttonEl.style.display =\n",
              "          google.colab.kernel.accessAllowed ? 'block' : 'none';\n",
              "\n",
              "        async function convertToInteractive(key) {\n",
              "          const element = document.querySelector('#df-bdcf99fd-284f-46a1-80dd-0f106a0ae952');\n",
              "          const dataTable =\n",
              "            await google.colab.kernel.invokeFunction('convertToInteractive',\n",
              "                                                     [key], {});\n",
              "          if (!dataTable) return;\n",
              "\n",
              "          const docLinkHtml = 'Like what you see? Visit the ' +\n",
              "            '<a target=\"_blank\" href=https://colab.research.google.com/notebooks/data_table.ipynb>data table notebook</a>'\n",
              "            + ' to learn more about interactive tables.';\n",
              "          element.innerHTML = '';\n",
              "          dataTable['output_type'] = 'display_data';\n",
              "          await google.colab.output.renderOutput(dataTable, element);\n",
              "          const docLink = document.createElement('div');\n",
              "          docLink.innerHTML = docLinkHtml;\n",
              "          element.appendChild(docLink);\n",
              "        }\n",
              "      </script>\n",
              "    </div>\n",
              "  </div>\n",
              "  "
            ],
            "text/plain": [
              "   overall sentiment\n",
              "0      5.0       pos\n",
              "1      5.0       pos\n",
              "2      5.0       pos"
            ]
          },
          "metadata": {},
          "execution_count": 29
        },
        {
          "output_type": "stream",
          "name": "stdout",
          "text": [
            "time: 63.4 ms (started: 2022-01-25 03:23:01 +00:00)\n"
          ]
        }
      ]
    },
    {
      "cell_type": "code",
      "source": [
        "df[df[\"overall\"]==1][[\"overall\", \"sentiment\"]].head(3)"
      ],
      "metadata": {
        "colab": {
          "base_uri": "https://localhost:8080/",
          "height": 161
        },
        "id": "0No_hYsd40ia",
        "outputId": "80f72851-c23d-4d1f-8857-59d37aa979d3"
      },
      "execution_count": null,
      "outputs": [
        {
          "output_type": "execute_result",
          "data": {
            "text/html": [
              "\n",
              "  <div id=\"df-09482afe-09b7-47b6-aa7a-eff3c3d937fa\">\n",
              "    <div class=\"colab-df-container\">\n",
              "      <div>\n",
              "<style scoped>\n",
              "    .dataframe tbody tr th:only-of-type {\n",
              "        vertical-align: middle;\n",
              "    }\n",
              "\n",
              "    .dataframe tbody tr th {\n",
              "        vertical-align: top;\n",
              "    }\n",
              "\n",
              "    .dataframe thead th {\n",
              "        text-align: right;\n",
              "    }\n",
              "</style>\n",
              "<table border=\"1\" class=\"dataframe\">\n",
              "  <thead>\n",
              "    <tr style=\"text-align: right;\">\n",
              "      <th></th>\n",
              "      <th>overall</th>\n",
              "      <th>sentiment</th>\n",
              "    </tr>\n",
              "  </thead>\n",
              "  <tbody>\n",
              "    <tr>\n",
              "      <th>17</th>\n",
              "      <td>1.0</td>\n",
              "      <td>neg</td>\n",
              "    </tr>\n",
              "    <tr>\n",
              "      <th>33</th>\n",
              "      <td>1.0</td>\n",
              "      <td>neg</td>\n",
              "    </tr>\n",
              "    <tr>\n",
              "      <th>70</th>\n",
              "      <td>1.0</td>\n",
              "      <td>neg</td>\n",
              "    </tr>\n",
              "  </tbody>\n",
              "</table>\n",
              "</div>\n",
              "      <button class=\"colab-df-convert\" onclick=\"convertToInteractive('df-09482afe-09b7-47b6-aa7a-eff3c3d937fa')\"\n",
              "              title=\"Convert this dataframe to an interactive table.\"\n",
              "              style=\"display:none;\">\n",
              "        \n",
              "  <svg xmlns=\"http://www.w3.org/2000/svg\" height=\"24px\"viewBox=\"0 0 24 24\"\n",
              "       width=\"24px\">\n",
              "    <path d=\"M0 0h24v24H0V0z\" fill=\"none\"/>\n",
              "    <path d=\"M18.56 5.44l.94 2.06.94-2.06 2.06-.94-2.06-.94-.94-2.06-.94 2.06-2.06.94zm-11 1L8.5 8.5l.94-2.06 2.06-.94-2.06-.94L8.5 2.5l-.94 2.06-2.06.94zm10 10l.94 2.06.94-2.06 2.06-.94-2.06-.94-.94-2.06-.94 2.06-2.06.94z\"/><path d=\"M17.41 7.96l-1.37-1.37c-.4-.4-.92-.59-1.43-.59-.52 0-1.04.2-1.43.59L10.3 9.45l-7.72 7.72c-.78.78-.78 2.05 0 2.83L4 21.41c.39.39.9.59 1.41.59.51 0 1.02-.2 1.41-.59l7.78-7.78 2.81-2.81c.8-.78.8-2.07 0-2.86zM5.41 20L4 18.59l7.72-7.72 1.47 1.35L5.41 20z\"/>\n",
              "  </svg>\n",
              "      </button>\n",
              "      \n",
              "  <style>\n",
              "    .colab-df-container {\n",
              "      display:flex;\n",
              "      flex-wrap:wrap;\n",
              "      gap: 12px;\n",
              "    }\n",
              "\n",
              "    .colab-df-convert {\n",
              "      background-color: #E8F0FE;\n",
              "      border: none;\n",
              "      border-radius: 50%;\n",
              "      cursor: pointer;\n",
              "      display: none;\n",
              "      fill: #1967D2;\n",
              "      height: 32px;\n",
              "      padding: 0 0 0 0;\n",
              "      width: 32px;\n",
              "    }\n",
              "\n",
              "    .colab-df-convert:hover {\n",
              "      background-color: #E2EBFA;\n",
              "      box-shadow: 0px 1px 2px rgba(60, 64, 67, 0.3), 0px 1px 3px 1px rgba(60, 64, 67, 0.15);\n",
              "      fill: #174EA6;\n",
              "    }\n",
              "\n",
              "    [theme=dark] .colab-df-convert {\n",
              "      background-color: #3B4455;\n",
              "      fill: #D2E3FC;\n",
              "    }\n",
              "\n",
              "    [theme=dark] .colab-df-convert:hover {\n",
              "      background-color: #434B5C;\n",
              "      box-shadow: 0px 1px 3px 1px rgba(0, 0, 0, 0.15);\n",
              "      filter: drop-shadow(0px 1px 2px rgba(0, 0, 0, 0.3));\n",
              "      fill: #FFFFFF;\n",
              "    }\n",
              "  </style>\n",
              "\n",
              "      <script>\n",
              "        const buttonEl =\n",
              "          document.querySelector('#df-09482afe-09b7-47b6-aa7a-eff3c3d937fa button.colab-df-convert');\n",
              "        buttonEl.style.display =\n",
              "          google.colab.kernel.accessAllowed ? 'block' : 'none';\n",
              "\n",
              "        async function convertToInteractive(key) {\n",
              "          const element = document.querySelector('#df-09482afe-09b7-47b6-aa7a-eff3c3d937fa');\n",
              "          const dataTable =\n",
              "            await google.colab.kernel.invokeFunction('convertToInteractive',\n",
              "                                                     [key], {});\n",
              "          if (!dataTable) return;\n",
              "\n",
              "          const docLinkHtml = 'Like what you see? Visit the ' +\n",
              "            '<a target=\"_blank\" href=https://colab.research.google.com/notebooks/data_table.ipynb>data table notebook</a>'\n",
              "            + ' to learn more about interactive tables.';\n",
              "          element.innerHTML = '';\n",
              "          dataTable['output_type'] = 'display_data';\n",
              "          await google.colab.output.renderOutput(dataTable, element);\n",
              "          const docLink = document.createElement('div');\n",
              "          docLink.innerHTML = docLinkHtml;\n",
              "          element.appendChild(docLink);\n",
              "        }\n",
              "      </script>\n",
              "    </div>\n",
              "  </div>\n",
              "  "
            ],
            "text/plain": [
              "    overall sentiment\n",
              "17      1.0       neg\n",
              "33      1.0       neg\n",
              "70      1.0       neg"
            ]
          },
          "metadata": {},
          "execution_count": 30
        },
        {
          "output_type": "stream",
          "name": "stdout",
          "text": [
            "time: 21.4 ms (started: 2022-01-25 03:23:03 +00:00)\n"
          ]
        }
      ]
    },
    {
      "cell_type": "code",
      "source": [
        "df[df[\"overall\"]==3][[\"overall\", \"sentiment\"]].head(3)"
      ],
      "metadata": {
        "colab": {
          "base_uri": "https://localhost:8080/",
          "height": 161
        },
        "id": "RwQtLYyo47sd",
        "outputId": "d55adfe9-1084-4125-a579-58b4f9d43dcb"
      },
      "execution_count": null,
      "outputs": [
        {
          "output_type": "execute_result",
          "data": {
            "text/html": [
              "\n",
              "  <div id=\"df-c167a611-1360-4f9a-afb5-5fffe6052dce\">\n",
              "    <div class=\"colab-df-container\">\n",
              "      <div>\n",
              "<style scoped>\n",
              "    .dataframe tbody tr th:only-of-type {\n",
              "        vertical-align: middle;\n",
              "    }\n",
              "\n",
              "    .dataframe tbody tr th {\n",
              "        vertical-align: top;\n",
              "    }\n",
              "\n",
              "    .dataframe thead th {\n",
              "        text-align: right;\n",
              "    }\n",
              "</style>\n",
              "<table border=\"1\" class=\"dataframe\">\n",
              "  <thead>\n",
              "    <tr style=\"text-align: right;\">\n",
              "      <th></th>\n",
              "      <th>overall</th>\n",
              "      <th>sentiment</th>\n",
              "    </tr>\n",
              "  </thead>\n",
              "  <tbody>\n",
              "    <tr>\n",
              "      <th>15</th>\n",
              "      <td>3.0</td>\n",
              "      <td>neg</td>\n",
              "    </tr>\n",
              "    <tr>\n",
              "      <th>26</th>\n",
              "      <td>3.0</td>\n",
              "      <td>neg</td>\n",
              "    </tr>\n",
              "    <tr>\n",
              "      <th>27</th>\n",
              "      <td>3.0</td>\n",
              "      <td>neg</td>\n",
              "    </tr>\n",
              "  </tbody>\n",
              "</table>\n",
              "</div>\n",
              "      <button class=\"colab-df-convert\" onclick=\"convertToInteractive('df-c167a611-1360-4f9a-afb5-5fffe6052dce')\"\n",
              "              title=\"Convert this dataframe to an interactive table.\"\n",
              "              style=\"display:none;\">\n",
              "        \n",
              "  <svg xmlns=\"http://www.w3.org/2000/svg\" height=\"24px\"viewBox=\"0 0 24 24\"\n",
              "       width=\"24px\">\n",
              "    <path d=\"M0 0h24v24H0V0z\" fill=\"none\"/>\n",
              "    <path d=\"M18.56 5.44l.94 2.06.94-2.06 2.06-.94-2.06-.94-.94-2.06-.94 2.06-2.06.94zm-11 1L8.5 8.5l.94-2.06 2.06-.94-2.06-.94L8.5 2.5l-.94 2.06-2.06.94zm10 10l.94 2.06.94-2.06 2.06-.94-2.06-.94-.94-2.06-.94 2.06-2.06.94z\"/><path d=\"M17.41 7.96l-1.37-1.37c-.4-.4-.92-.59-1.43-.59-.52 0-1.04.2-1.43.59L10.3 9.45l-7.72 7.72c-.78.78-.78 2.05 0 2.83L4 21.41c.39.39.9.59 1.41.59.51 0 1.02-.2 1.41-.59l7.78-7.78 2.81-2.81c.8-.78.8-2.07 0-2.86zM5.41 20L4 18.59l7.72-7.72 1.47 1.35L5.41 20z\"/>\n",
              "  </svg>\n",
              "      </button>\n",
              "      \n",
              "  <style>\n",
              "    .colab-df-container {\n",
              "      display:flex;\n",
              "      flex-wrap:wrap;\n",
              "      gap: 12px;\n",
              "    }\n",
              "\n",
              "    .colab-df-convert {\n",
              "      background-color: #E8F0FE;\n",
              "      border: none;\n",
              "      border-radius: 50%;\n",
              "      cursor: pointer;\n",
              "      display: none;\n",
              "      fill: #1967D2;\n",
              "      height: 32px;\n",
              "      padding: 0 0 0 0;\n",
              "      width: 32px;\n",
              "    }\n",
              "\n",
              "    .colab-df-convert:hover {\n",
              "      background-color: #E2EBFA;\n",
              "      box-shadow: 0px 1px 2px rgba(60, 64, 67, 0.3), 0px 1px 3px 1px rgba(60, 64, 67, 0.15);\n",
              "      fill: #174EA6;\n",
              "    }\n",
              "\n",
              "    [theme=dark] .colab-df-convert {\n",
              "      background-color: #3B4455;\n",
              "      fill: #D2E3FC;\n",
              "    }\n",
              "\n",
              "    [theme=dark] .colab-df-convert:hover {\n",
              "      background-color: #434B5C;\n",
              "      box-shadow: 0px 1px 3px 1px rgba(0, 0, 0, 0.15);\n",
              "      filter: drop-shadow(0px 1px 2px rgba(0, 0, 0, 0.3));\n",
              "      fill: #FFFFFF;\n",
              "    }\n",
              "  </style>\n",
              "\n",
              "      <script>\n",
              "        const buttonEl =\n",
              "          document.querySelector('#df-c167a611-1360-4f9a-afb5-5fffe6052dce button.colab-df-convert');\n",
              "        buttonEl.style.display =\n",
              "          google.colab.kernel.accessAllowed ? 'block' : 'none';\n",
              "\n",
              "        async function convertToInteractive(key) {\n",
              "          const element = document.querySelector('#df-c167a611-1360-4f9a-afb5-5fffe6052dce');\n",
              "          const dataTable =\n",
              "            await google.colab.kernel.invokeFunction('convertToInteractive',\n",
              "                                                     [key], {});\n",
              "          if (!dataTable) return;\n",
              "\n",
              "          const docLinkHtml = 'Like what you see? Visit the ' +\n",
              "            '<a target=\"_blank\" href=https://colab.research.google.com/notebooks/data_table.ipynb>data table notebook</a>'\n",
              "            + ' to learn more about interactive tables.';\n",
              "          element.innerHTML = '';\n",
              "          dataTable['output_type'] = 'display_data';\n",
              "          await google.colab.output.renderOutput(dataTable, element);\n",
              "          const docLink = document.createElement('div');\n",
              "          docLink.innerHTML = docLinkHtml;\n",
              "          element.appendChild(docLink);\n",
              "        }\n",
              "      </script>\n",
              "    </div>\n",
              "  </div>\n",
              "  "
            ],
            "text/plain": [
              "    overall sentiment\n",
              "15      3.0       neg\n",
              "26      3.0       neg\n",
              "27      3.0       neg"
            ]
          },
          "metadata": {},
          "execution_count": 31
        },
        {
          "output_type": "stream",
          "name": "stdout",
          "text": [
            "time: 23.5 ms (started: 2022-01-25 03:23:06 +00:00)\n"
          ]
        }
      ]
    },
    {
      "cell_type": "code",
      "source": [
        "sns.countplot(df[\"sentiment\"]);"
      ],
      "metadata": {
        "colab": {
          "base_uri": "https://localhost:8080/",
          "height": 296
        },
        "id": "W2eQ68MO5FX6",
        "outputId": "b1c10bbd-bdf6-41c4-8d5e-7e0f3aeac875"
      },
      "execution_count": null,
      "outputs": [
        {
          "output_type": "display_data",
          "data": {
            "image/png": "[encoded data removed]",
            "text/plain": [
              "<Figure size 432x288 with 1 Axes>"
            ]
          },
          "metadata": {
            "needs_background": "light"
          }
        },
        {
          "output_type": "stream",
          "name": "stdout",
          "text": [
            "time: 272 ms (started: 2022-01-25 03:23:09 +00:00)\n"
          ]
        }
      ]
    },
    {
      "cell_type": "code",
      "source": [
        "df[df[\"sentiment\"]==\"neg\"][\"sentiment\"].count() / df.shape[0]"
      ],
      "metadata": {
        "colab": {
          "base_uri": "https://localhost:8080/"
        },
        "id": "WJBRC9w-5KNt",
        "outputId": "1171d566-8c07-4606-a68c-06b69b9adad3"
      },
      "execution_count": null,
      "outputs": [
        {
          "output_type": "execute_result",
          "data": {
            "text/plain": [
              "0.2048249407019596"
            ]
          },
          "metadata": {},
          "execution_count": 33
        },
        {
          "output_type": "stream",
          "name": "stdout",
          "text": [
            "time: 36.9 ms (started: 2022-01-25 03:23:30 +00:00)\n"
          ]
        }
      ]
    },
    {
      "cell_type": "code",
      "source": [
        "df[df[\"sentiment\"]==\"pos\"][\"sentiment\"].count() / df.shape[0]"
      ],
      "metadata": {
        "colab": {
          "base_uri": "https://localhost:8080/"
        },
        "id": "D-txQv_E5_Cm",
        "outputId": "aa7fb53f-eca4-457c-9b0a-c8d310df9d78"
      },
      "execution_count": null,
      "outputs": [
        {
          "output_type": "execute_result",
          "data": {
            "text/plain": [
              "0.7951750592980403"
            ]
          },
          "metadata": {},
          "execution_count": 34
        },
        {
          "output_type": "stream",
          "name": "stdout",
          "text": [
            "time: 62.3 ms (started: 2022-01-25 03:23:30 +00:00)\n"
          ]
        }
      ]
    },
    {
      "cell_type": "markdown",
      "source": [
        "After binning, we will have 21% negaetive reviews, and 79% positive reviews."
      ],
      "metadata": {
        "id": "ui86lpCj57Oi"
      }
    },
    {
      "cell_type": "markdown",
      "source": [
        "## Check for review with len=0\n",
        "\n",
        "Will require to remove those reviews with length=0"
      ],
      "metadata": {
        "id": "AjVdVZW90ip1"
      }
    },
    {
      "cell_type": "code",
      "source": [
        "df[df[\"reviewText_len\"]==0].shape"
      ],
      "metadata": {
        "colab": {
          "base_uri": "https://localhost:8080/"
        },
        "id": "aOrASE160j3j",
        "outputId": "a38d1e4f-15d8-407a-bfe2-289086b89672"
      },
      "execution_count": null,
      "outputs": [
        {
          "output_type": "execute_result",
          "data": {
            "text/plain": [
              "(24, 6)"
            ]
          },
          "metadata": {},
          "execution_count": 35
        },
        {
          "output_type": "stream",
          "name": "stdout",
          "text": [
            "time: 7.98 ms (started: 2022-01-25 03:23:35 +00:00)\n"
          ]
        }
      ]
    },
    {
      "cell_type": "code",
      "source": [
        "def drop_review_len_zero(df):\n",
        "  return df.drop(df[df[\"reviewText_len\"]==0].index)"
      ],
      "metadata": {
        "colab": {
          "base_uri": "https://localhost:8080/"
        },
        "id": "cUx-RZWd1CFt",
        "outputId": "33d6c3a2-2aa0-46ae-f717-f2b7f9710cd1"
      },
      "execution_count": null,
      "outputs": [
        {
          "output_type": "stream",
          "name": "stdout",
          "text": [
            "time: 1.52 ms (started: 2022-01-27 01:42:16 +00:00)\n"
          ]
        }
      ]
    },
    {
      "cell_type": "code",
      "source": [
        "df = drop_review_len_zero(df)"
      ],
      "metadata": {
        "colab": {
          "base_uri": "https://localhost:8080/"
        },
        "id": "vLz3AqLT1R69",
        "outputId": "5ac70a53-e36e-4a58-aa3f-0528cb78b6d3"
      },
      "execution_count": null,
      "outputs": [
        {
          "output_type": "stream",
          "name": "stdout",
          "text": [
            "time: 172 ms (started: 2022-01-25 03:23:39 +00:00)\n"
          ]
        }
      ]
    },
    {
      "cell_type": "code",
      "source": [
        "#post dropping review len=0\n",
        "df[df[\"reviewText_len\"]==0].shape"
      ],
      "metadata": {
        "colab": {
          "base_uri": "https://localhost:8080/"
        },
        "id": "Qlo0q0MH1xyq",
        "outputId": "b2451ec4-9fae-4c06-c143-6d490aca418a"
      },
      "execution_count": null,
      "outputs": [
        {
          "output_type": "execute_result",
          "data": {
            "text/plain": [
              "(0, 6)"
            ]
          },
          "metadata": {},
          "execution_count": 38
        },
        {
          "output_type": "stream",
          "name": "stdout",
          "text": [
            "time: 10.5 ms (started: 2022-01-25 03:23:41 +00:00)\n"
          ]
        }
      ]
    },
    {
      "cell_type": "markdown",
      "source": [
        "# Data Cleaning\n",
        "Below are list of things to be cleaned, not limited to, before modelling begins\n",
        "\n",
        "*   remove punctuations\n",
        "*   lower case\n",
        "\n"
      ],
      "metadata": {
        "id": "Nv1KM2Qk2LsF"
      }
    },
    {
      "cell_type": "code",
      "source": [
        "df.head(3)"
      ],
      "metadata": {
        "colab": {
          "base_uri": "https://localhost:8080/",
          "height": 205
        },
        "id": "1zUKqX4-11H_",
        "outputId": "26c994ea-0345-487c-f6d2-430982dbec6f"
      },
      "execution_count": null,
      "outputs": [
        {
          "output_type": "execute_result",
          "data": {
            "text/html": [
              "\n",
              "  <div id=\"df-a5cc824a-b196-4a67-aad7-3cb16167a15f\">\n",
              "    <div class=\"colab-df-container\">\n",
              "      <div>\n",
              "<style scoped>\n",
              "    .dataframe tbody tr th:only-of-type {\n",
              "        vertical-align: middle;\n",
              "    }\n",
              "\n",
              "    .dataframe tbody tr th {\n",
              "        vertical-align: top;\n",
              "    }\n",
              "\n",
              "    .dataframe thead th {\n",
              "        text-align: right;\n",
              "    }\n",
              "</style>\n",
              "<table border=\"1\" class=\"dataframe\">\n",
              "  <thead>\n",
              "    <tr style=\"text-align: right;\">\n",
              "      <th></th>\n",
              "      <th>asin</th>\n",
              "      <th>overall</th>\n",
              "      <th>reviewText_len</th>\n",
              "      <th>reviewTime</th>\n",
              "      <th>review</th>\n",
              "      <th>sentiment</th>\n",
              "    </tr>\n",
              "  </thead>\n",
              "  <tbody>\n",
              "    <tr>\n",
              "      <th>0</th>\n",
              "      <td>0000031887</td>\n",
              "      <td>5.0</td>\n",
              "      <td>172</td>\n",
              "      <td>2011-02-12</td>\n",
              "      <td>This is a great tutu and at a really great pri...</td>\n",
              "      <td>pos</td>\n",
              "    </tr>\n",
              "    <tr>\n",
              "      <th>1</th>\n",
              "      <td>0000031887</td>\n",
              "      <td>5.0</td>\n",
              "      <td>306</td>\n",
              "      <td>2013-01-19</td>\n",
              "      <td>I bought this for my 4 yr old daughter for dan...</td>\n",
              "      <td>pos</td>\n",
              "    </tr>\n",
              "    <tr>\n",
              "      <th>2</th>\n",
              "      <td>0000031887</td>\n",
              "      <td>5.0</td>\n",
              "      <td>312</td>\n",
              "      <td>2013-01-04</td>\n",
              "      <td>What can I say... my daughters have it in oran...</td>\n",
              "      <td>pos</td>\n",
              "    </tr>\n",
              "  </tbody>\n",
              "</table>\n",
              "</div>\n",
              "      <button class=\"colab-df-convert\" onclick=\"convertToInteractive('df-a5cc824a-b196-4a67-aad7-3cb16167a15f')\"\n",
              "              title=\"Convert this dataframe to an interactive table.\"\n",
              "              style=\"display:none;\">\n",
              "        \n",
              "  <svg xmlns=\"http://www.w3.org/2000/svg\" height=\"24px\"viewBox=\"0 0 24 24\"\n",
              "       width=\"24px\">\n",
              "    <path d=\"M0 0h24v24H0V0z\" fill=\"none\"/>\n",
              "    <path d=\"M18.56 5.44l.94 2.06.94-2.06 2.06-.94-2.06-.94-.94-2.06-.94 2.06-2.06.94zm-11 1L8.5 8.5l.94-2.06 2.06-.94-2.06-.94L8.5 2.5l-.94 2.06-2.06.94zm10 10l.94 2.06.94-2.06 2.06-.94-2.06-.94-.94-2.06-.94 2.06-2.06.94z\"/><path d=\"M17.41 7.96l-1.37-1.37c-.4-.4-.92-.59-1.43-.59-.52 0-1.04.2-1.43.59L10.3 9.45l-7.72 7.72c-.78.78-.78 2.05 0 2.83L4 21.41c.39.39.9.59 1.41.59.51 0 1.02-.2 1.41-.59l7.78-7.78 2.81-2.81c.8-.78.8-2.07 0-2.86zM5.41 20L4 18.59l7.72-7.72 1.47 1.35L5.41 20z\"/>\n",
              "  </svg>\n",
              "      </button>\n",
              "      \n",
              "  <style>\n",
              "    .colab-df-container {\n",
              "      display:flex;\n",
              "      flex-wrap:wrap;\n",
              "      gap: 12px;\n",
              "    }\n",
              "\n",
              "    .colab-df-convert {\n",
              "      background-color: #E8F0FE;\n",
              "      border: none;\n",
              "      border-radius: 50%;\n",
              "      cursor: pointer;\n",
              "      display: none;\n",
              "      fill: #1967D2;\n",
              "      height: 32px;\n",
              "      padding: 0 0 0 0;\n",
              "      width: 32px;\n",
              "    }\n",
              "\n",
              "    .colab-df-convert:hover {\n",
              "      background-color: #E2EBFA;\n",
              "      box-shadow: 0px 1px 2px rgba(60, 64, 67, 0.3), 0px 1px 3px 1px rgba(60, 64, 67, 0.15);\n",
              "      fill: #174EA6;\n",
              "    }\n",
              "\n",
              "    [theme=dark] .colab-df-convert {\n",
              "      background-color: #3B4455;\n",
              "      fill: #D2E3FC;\n",
              "    }\n",
              "\n",
              "    [theme=dark] .colab-df-convert:hover {\n",
              "      background-color: #434B5C;\n",
              "      box-shadow: 0px 1px 3px 1px rgba(0, 0, 0, 0.15);\n",
              "      filter: drop-shadow(0px 1px 2px rgba(0, 0, 0, 0.3));\n",
              "      fill: #FFFFFF;\n",
              "    }\n",
              "  </style>\n",
              "\n",
              "      <script>\n",
              "        const buttonEl =\n",
              "          document.querySelector('#df-a5cc824a-b196-4a67-aad7-3cb16167a15f button.colab-df-convert');\n",
              "        buttonEl.style.display =\n",
              "          google.colab.kernel.accessAllowed ? 'block' : 'none';\n",
              "\n",
              "        async function convertToInteractive(key) {\n",
              "          const element = document.querySelector('#df-a5cc824a-b196-4a67-aad7-3cb16167a15f');\n",
              "          const dataTable =\n",
              "            await google.colab.kernel.invokeFunction('convertToInteractive',\n",
              "                                                     [key], {});\n",
              "          if (!dataTable) return;\n",
              "\n",
              "          const docLinkHtml = 'Like what you see? Visit the ' +\n",
              "            '<a target=\"_blank\" href=https://colab.research.google.com/notebooks/data_table.ipynb>data table notebook</a>'\n",
              "            + ' to learn more about interactive tables.';\n",
              "          element.innerHTML = '';\n",
              "          dataTable['output_type'] = 'display_data';\n",
              "          await google.colab.output.renderOutput(dataTable, element);\n",
              "          const docLink = document.createElement('div');\n",
              "          docLink.innerHTML = docLinkHtml;\n",
              "          element.appendChild(docLink);\n",
              "        }\n",
              "      </script>\n",
              "    </div>\n",
              "  </div>\n",
              "  "
            ],
            "text/plain": [
              "         asin  ...  sentiment\n",
              "0  0000031887  ...        pos\n",
              "1  0000031887  ...        pos\n",
              "2  0000031887  ...        pos\n",
              "\n",
              "[3 rows x 6 columns]"
            ]
          },
          "metadata": {},
          "execution_count": 39
        },
        {
          "output_type": "stream",
          "name": "stdout",
          "text": [
            "time: 19.7 ms (started: 2022-01-25 03:24:17 +00:00)\n"
          ]
        }
      ]
    },
    {
      "cell_type": "code",
      "source": [
        "df[\"review\"][0]"
      ],
      "metadata": {
        "colab": {
          "base_uri": "https://localhost:8080/",
          "height": 70
        },
        "id": "83Lozv502Nig",
        "outputId": "cc54b7e0-edc9-4e34-9849-969424415284"
      },
      "execution_count": null,
      "outputs": [
        {
          "output_type": "execute_result",
          "data": {
            "application/vnd.google.colaboratory.intrinsic+json": {
              "type": "string"
            },
            "text/plain": [
              "\"This is a great tutu and at a really great price. It doesn't look cheap at all. I'm so glad I looked on Amazon and found such an affordable tutu that isn't made poorly. A++ Great tutu-  not cheaply made\""
            ]
          },
          "metadata": {},
          "execution_count": 40
        },
        {
          "output_type": "stream",
          "name": "stdout",
          "text": [
            "time: 14.4 ms (started: 2022-01-25 03:24:19 +00:00)\n"
          ]
        }
      ]
    },
    {
      "cell_type": "code",
      "source": [
        "df[\"review\"][99]"
      ],
      "metadata": {
        "colab": {
          "base_uri": "https://localhost:8080/",
          "height": 53
        },
        "id": "KKqadpqq2QME",
        "outputId": "94d30bfe-a589-47e4-bbe6-e72129375996"
      },
      "execution_count": null,
      "outputs": [
        {
          "output_type": "execute_result",
          "data": {
            "application/vnd.google.colaboratory.intrinsic+json": {
              "type": "string"
            },
            "text/plain": [
              "'great  no one got my good stuff  It was all hanging around my neck.  sturdy and durable, i bought one for my husband great'"
            ]
          },
          "metadata": {},
          "execution_count": 41
        },
        {
          "output_type": "stream",
          "name": "stdout",
          "text": [
            "time: 2.39 ms (started: 2022-01-25 03:24:21 +00:00)\n"
          ]
        }
      ]
    },
    {
      "cell_type": "markdown",
      "source": [
        "## Remove punctuations and lower case"
      ],
      "metadata": {
        "id": "yH1PFDo72m0w"
      }
    },
    {
      "cell_type": "code",
      "source": [
        "import string\n",
        "string.punctuation"
      ],
      "metadata": {
        "colab": {
          "base_uri": "https://localhost:8080/",
          "height": 36
        },
        "id": "3AlzEo-o2R4s",
        "outputId": "e1eee472-be3c-4ad7-be89-542135dc57d6"
      },
      "execution_count": null,
      "outputs": [
        {
          "output_type": "execute_result",
          "data": {
            "application/vnd.google.colaboratory.intrinsic+json": {
              "type": "string"
            },
            "text/plain": [
              "'!\"#$%&\\'()*+,-./:;<=>?@[\\\\]^_`{|}~'"
            ]
          },
          "metadata": {},
          "execution_count": 25
        },
        {
          "output_type": "stream",
          "name": "stdout",
          "text": [
            "time: 3.39 ms (started: 2022-01-27 01:42:09 +00:00)\n"
          ]
        }
      ]
    },
    {
      "cell_type": "code",
      "source": [
        "def remove_punctuation(review):\n",
        "  no_punct = [words.lower() for words in review if words not in string.punctuation]\n",
        "  review_wo_punct= \"\".join(no_punct)\n",
        "  return review_wo_punct"
      ],
      "metadata": {
        "colab": {
          "base_uri": "https://localhost:8080/"
        },
        "id": "ZY2dHowW2o0W",
        "outputId": "9c469ea6-d154-4b42-eecb-5768eb654af5"
      },
      "execution_count": null,
      "outputs": [
        {
          "output_type": "stream",
          "name": "stdout",
          "text": [
            "time: 3.04 ms (started: 2022-01-27 01:42:10 +00:00)\n"
          ]
        }
      ]
    },
    {
      "cell_type": "code",
      "source": [
        "df[\"review_no_punct\"] = df[\"review\"].apply(remove_punctuation)"
      ],
      "metadata": {
        "colab": {
          "base_uri": "https://localhost:8080/"
        },
        "id": "ySxdfkGU2zQ5",
        "outputId": "d2f8cba0-147f-48ae-f9cc-211c0e6df225"
      },
      "execution_count": null,
      "outputs": [
        {
          "output_type": "stream",
          "name": "stdout",
          "text": [
            "time: 18.3 s (started: 2022-01-25 03:24:38 +00:00)\n"
          ]
        }
      ]
    },
    {
      "cell_type": "code",
      "source": [
        "df[[\"review\", \"review_no_punct\"]].loc[0][0]"
      ],
      "metadata": {
        "colab": {
          "base_uri": "https://localhost:8080/",
          "height": 70
        },
        "id": "heE4BKOg26hu",
        "outputId": "c113cefb-abb4-4af3-b375-20069f5beed2"
      },
      "execution_count": null,
      "outputs": [
        {
          "output_type": "execute_result",
          "data": {
            "application/vnd.google.colaboratory.intrinsic+json": {
              "type": "string"
            },
            "text/plain": [
              "\"This is a great tutu and at a really great price. It doesn't look cheap at all. I'm so glad I looked on Amazon and found such an affordable tutu that isn't made poorly. A++ Great tutu-  not cheaply made\""
            ]
          },
          "metadata": {},
          "execution_count": 45
        },
        {
          "output_type": "stream",
          "name": "stdout",
          "text": [
            "time: 77 ms (started: 2022-01-25 03:24:59 +00:00)\n"
          ]
        }
      ]
    },
    {
      "cell_type": "code",
      "source": [
        "df[[\"review\", \"review_no_punct\"]].loc[0][1]"
      ],
      "metadata": {
        "colab": {
          "base_uri": "https://localhost:8080/",
          "height": 70
        },
        "id": "kY8PQvmx3CzY",
        "outputId": "06f19dad-590e-4695-fff3-efdd2317274b"
      },
      "execution_count": null,
      "outputs": [
        {
          "output_type": "execute_result",
          "data": {
            "application/vnd.google.colaboratory.intrinsic+json": {
              "type": "string"
            },
            "text/plain": [
              "'this is a great tutu and at a really great price it doesnt look cheap at all im so glad i looked on amazon and found such an affordable tutu that isnt made poorly a great tutu  not cheaply made'"
            ]
          },
          "metadata": {},
          "execution_count": 46
        },
        {
          "output_type": "stream",
          "name": "stdout",
          "text": [
            "time: 30.7 ms (started: 2022-01-25 03:25:01 +00:00)\n"
          ]
        }
      ]
    },
    {
      "cell_type": "markdown",
      "source": [
        "## Lemmatize review corpus"
      ],
      "metadata": {
        "id": "NLCaM9SI5wal"
      }
    },
    {
      "cell_type": "code",
      "source": [
        "df.head(3)"
      ],
      "metadata": {
        "colab": {
          "base_uri": "https://localhost:8080/",
          "height": 308
        },
        "id": "DmJ-j--_5-Ot",
        "outputId": "eada139a-cd92-4838-aca7-b14fe3258140"
      },
      "execution_count": null,
      "outputs": [
        {
          "output_type": "execute_result",
          "data": {
            "text/html": [
              "\n",
              "  <div id=\"df-ad3f3c59-159e-4b37-a85a-c67dde275c45\">\n",
              "    <div class=\"colab-df-container\">\n",
              "      <div>\n",
              "<style scoped>\n",
              "    .dataframe tbody tr th:only-of-type {\n",
              "        vertical-align: middle;\n",
              "    }\n",
              "\n",
              "    .dataframe tbody tr th {\n",
              "        vertical-align: top;\n",
              "    }\n",
              "\n",
              "    .dataframe thead th {\n",
              "        text-align: right;\n",
              "    }\n",
              "</style>\n",
              "<table border=\"1\" class=\"dataframe\">\n",
              "  <thead>\n",
              "    <tr style=\"text-align: right;\">\n",
              "      <th></th>\n",
              "      <th>asin</th>\n",
              "      <th>overall</th>\n",
              "      <th>reviewText_len</th>\n",
              "      <th>reviewTime</th>\n",
              "      <th>review</th>\n",
              "      <th>sentiment</th>\n",
              "      <th>review_no_punct</th>\n",
              "    </tr>\n",
              "  </thead>\n",
              "  <tbody>\n",
              "    <tr>\n",
              "      <th>0</th>\n",
              "      <td>0000031887</td>\n",
              "      <td>5.0</td>\n",
              "      <td>172</td>\n",
              "      <td>2011-02-12</td>\n",
              "      <td>This is a great tutu and at a really great pri...</td>\n",
              "      <td>pos</td>\n",
              "      <td>this is a great tutu and at a really great pri...</td>\n",
              "    </tr>\n",
              "    <tr>\n",
              "      <th>1</th>\n",
              "      <td>0000031887</td>\n",
              "      <td>5.0</td>\n",
              "      <td>306</td>\n",
              "      <td>2013-01-19</td>\n",
              "      <td>I bought this for my 4 yr old daughter for dan...</td>\n",
              "      <td>pos</td>\n",
              "      <td>i bought this for my 4 yr old daughter for dan...</td>\n",
              "    </tr>\n",
              "    <tr>\n",
              "      <th>2</th>\n",
              "      <td>0000031887</td>\n",
              "      <td>5.0</td>\n",
              "      <td>312</td>\n",
              "      <td>2013-01-04</td>\n",
              "      <td>What can I say... my daughters have it in oran...</td>\n",
              "      <td>pos</td>\n",
              "      <td>what can i say my daughters have it in orange ...</td>\n",
              "    </tr>\n",
              "  </tbody>\n",
              "</table>\n",
              "</div>\n",
              "      <button class=\"colab-df-convert\" onclick=\"convertToInteractive('df-ad3f3c59-159e-4b37-a85a-c67dde275c45')\"\n",
              "              title=\"Convert this dataframe to an interactive table.\"\n",
              "              style=\"display:none;\">\n",
              "        \n",
              "  <svg xmlns=\"http://www.w3.org/2000/svg\" height=\"24px\"viewBox=\"0 0 24 24\"\n",
              "       width=\"24px\">\n",
              "    <path d=\"M0 0h24v24H0V0z\" fill=\"none\"/>\n",
              "    <path d=\"M18.56 5.44l.94 2.06.94-2.06 2.06-.94-2.06-.94-.94-2.06-.94 2.06-2.06.94zm-11 1L8.5 8.5l.94-2.06 2.06-.94-2.06-.94L8.5 2.5l-.94 2.06-2.06.94zm10 10l.94 2.06.94-2.06 2.06-.94-2.06-.94-.94-2.06-.94 2.06-2.06.94z\"/><path d=\"M17.41 7.96l-1.37-1.37c-.4-.4-.92-.59-1.43-.59-.52 0-1.04.2-1.43.59L10.3 9.45l-7.72 7.72c-.78.78-.78 2.05 0 2.83L4 21.41c.39.39.9.59 1.41.59.51 0 1.02-.2 1.41-.59l7.78-7.78 2.81-2.81c.8-.78.8-2.07 0-2.86zM5.41 20L4 18.59l7.72-7.72 1.47 1.35L5.41 20z\"/>\n",
              "  </svg>\n",
              "      </button>\n",
              "      \n",
              "  <style>\n",
              "    .colab-df-container {\n",
              "      display:flex;\n",
              "      flex-wrap:wrap;\n",
              "      gap: 12px;\n",
              "    }\n",
              "\n",
              "    .colab-df-convert {\n",
              "      background-color: #E8F0FE;\n",
              "      border: none;\n",
              "      border-radius: 50%;\n",
              "      cursor: pointer;\n",
              "      display: none;\n",
              "      fill: #1967D2;\n",
              "      height: 32px;\n",
              "      padding: 0 0 0 0;\n",
              "      width: 32px;\n",
              "    }\n",
              "\n",
              "    .colab-df-convert:hover {\n",
              "      background-color: #E2EBFA;\n",
              "      box-shadow: 0px 1px 2px rgba(60, 64, 67, 0.3), 0px 1px 3px 1px rgba(60, 64, 67, 0.15);\n",
              "      fill: #174EA6;\n",
              "    }\n",
              "\n",
              "    [theme=dark] .colab-df-convert {\n",
              "      background-color: #3B4455;\n",
              "      fill: #D2E3FC;\n",
              "    }\n",
              "\n",
              "    [theme=dark] .colab-df-convert:hover {\n",
              "      background-color: #434B5C;\n",
              "      box-shadow: 0px 1px 3px 1px rgba(0, 0, 0, 0.15);\n",
              "      filter: drop-shadow(0px 1px 2px rgba(0, 0, 0, 0.3));\n",
              "      fill: #FFFFFF;\n",
              "    }\n",
              "  </style>\n",
              "\n",
              "      <script>\n",
              "        const buttonEl =\n",
              "          document.querySelector('#df-ad3f3c59-159e-4b37-a85a-c67dde275c45 button.colab-df-convert');\n",
              "        buttonEl.style.display =\n",
              "          google.colab.kernel.accessAllowed ? 'block' : 'none';\n",
              "\n",
              "        async function convertToInteractive(key) {\n",
              "          const element = document.querySelector('#df-ad3f3c59-159e-4b37-a85a-c67dde275c45');\n",
              "          const dataTable =\n",
              "            await google.colab.kernel.invokeFunction('convertToInteractive',\n",
              "                                                     [key], {});\n",
              "          if (!dataTable) return;\n",
              "\n",
              "          const docLinkHtml = 'Like what you see? Visit the ' +\n",
              "            '<a target=\"_blank\" href=https://colab.research.google.com/notebooks/data_table.ipynb>data table notebook</a>'\n",
              "            + ' to learn more about interactive tables.';\n",
              "          element.innerHTML = '';\n",
              "          dataTable['output_type'] = 'display_data';\n",
              "          await google.colab.output.renderOutput(dataTable, element);\n",
              "          const docLink = document.createElement('div');\n",
              "          docLink.innerHTML = docLinkHtml;\n",
              "          element.appendChild(docLink);\n",
              "        }\n",
              "      </script>\n",
              "    </div>\n",
              "  </div>\n",
              "  "
            ],
            "text/plain": [
              "         asin  ...                                    review_no_punct\n",
              "0  0000031887  ...  this is a great tutu and at a really great pri...\n",
              "1  0000031887  ...  i bought this for my 4 yr old daughter for dan...\n",
              "2  0000031887  ...  what can i say my daughters have it in orange ...\n",
              "\n",
              "[3 rows x 7 columns]"
            ]
          },
          "metadata": {},
          "execution_count": 47
        },
        {
          "output_type": "stream",
          "name": "stdout",
          "text": [
            "time: 20.5 ms (started: 2022-01-25 03:25:11 +00:00)\n"
          ]
        }
      ]
    },
    {
      "cell_type": "code",
      "source": [
        "# pip install nltk"
      ],
      "metadata": {
        "colab": {
          "base_uri": "https://localhost:8080/"
        },
        "id": "hfkdqWR16jEz",
        "outputId": "a93208cc-7c14-4fce-e293-5d14667ad5df"
      },
      "execution_count": null,
      "outputs": [
        {
          "output_type": "stream",
          "name": "stdout",
          "text": [
            "time: 716 µs (started: 2022-01-25 03:25:18 +00:00)\n"
          ]
        }
      ]
    },
    {
      "cell_type": "code",
      "source": [
        "# pip install stopwords"
      ],
      "metadata": {
        "colab": {
          "base_uri": "https://localhost:8080/"
        },
        "id": "rmt1Jytf6npo",
        "outputId": "25bcf9ed-a88d-4997-8ab5-d6af96993a3e"
      },
      "execution_count": null,
      "outputs": [
        {
          "output_type": "stream",
          "name": "stdout",
          "text": [
            "Collecting stopwords\n",
            "  Downloading stopwords-1.0.0-py2.py3-none-any.whl (37 kB)\n",
            "Installing collected packages: stopwords\n",
            "Successfully installed stopwords-1.0.0\n",
            "time: 3.28 s (started: 2022-01-21 04:35:00 +00:00)\n"
          ]
        }
      ]
    },
    {
      "cell_type": "code",
      "source": [
        "from nltk.corpus import stopwords\n",
        "import nltk\n",
        "nltk.download('stopwords')\n",
        "nltk.download('wordnet')\n",
        "nltk.download('punkt')\n",
        "\n",
        "def lemmatize_review(review):\n",
        "    lemmatizer = nltk.WordNetLemmatizer()\n",
        "    tokenized_lines = nltk.word_tokenize(review)\n",
        "    for i in range(len(tokenized_lines)):\n",
        "        lammatize_words = [\n",
        "            lemmatizer.lemmatize(word).lower()\n",
        "            for word in tokenized_lines\n",
        "            if not word.lower() in set(stopwords.words(\"english\"))\n",
        "        ]\n",
        "        return \" \".join(lammatize_words)"
      ],
      "metadata": {
        "colab": {
          "base_uri": "https://localhost:8080/"
        },
        "id": "y21tCUas3Q08",
        "outputId": "44a9ad22-e397-46cc-df14-2a0e93c03f8b"
      },
      "execution_count": null,
      "outputs": [
        {
          "output_type": "stream",
          "name": "stdout",
          "text": [
            "[nltk_data] Downloading package stopwords to /root/nltk_data...\n",
            "[nltk_data]   Unzipping corpora/stopwords.zip.\n",
            "[nltk_data] Downloading package wordnet to /root/nltk_data...\n",
            "[nltk_data]   Unzipping corpora/wordnet.zip.\n",
            "[nltk_data] Downloading package punkt to /root/nltk_data...\n",
            "[nltk_data]   Unzipping tokenizers/punkt.zip.\n",
            "time: 1.96 s (started: 2022-01-27 01:43:08 +00:00)\n"
          ]
        }
      ]
    },
    {
      "cell_type": "code",
      "source": [
        "# df[\"lemmatized_review\"] = df[\"review_no_punct\"].apply(lemmatize_review)"
      ],
      "metadata": {
        "colab": {
          "base_uri": "https://localhost:8080/"
        },
        "id": "Ag0_vn9b6GFj",
        "outputId": "32f0c87b-7414-45de-d087-61faf6f0ef72"
      },
      "execution_count": null,
      "outputs": [
        {
          "output_type": "stream",
          "name": "stdout",
          "text": [
            "time: 40min 22s (started: 2022-01-21 04:36:39 +00:00)\n"
          ]
        }
      ]
    },
    {
      "cell_type": "code",
      "source": [
        "#read from csv to avoid long running lemmatizing process\n",
        "import pandas as pd\n",
        "df = pd.read_csv(\"/content/drive/MyDrive/Amazon_Product_Review/data.csv\")"
      ],
      "metadata": {
        "colab": {
          "base_uri": "https://localhost:8080/"
        },
        "id": "1TFvgTaxRgic",
        "outputId": "03482c5b-88ce-4a18-9318-7672ceaa0a98"
      },
      "execution_count": null,
      "outputs": [
        {
          "output_type": "stream",
          "name": "stdout",
          "text": [
            "time: 3.51 s (started: 2022-01-27 01:41:37 +00:00)\n"
          ]
        }
      ]
    },
    {
      "cell_type": "markdown",
      "source": [
        "Note: Lemmatizing entire doc took 40min 22sec\n",
        "\n",
        "Inspecting lemmatizing..."
      ],
      "metadata": {
        "id": "Xj5-0lKNE4Z7"
      }
    },
    {
      "cell_type": "code",
      "source": [
        "df[[\"review_no_punct\", \"lemmatized_review\"]].loc[0][0]"
      ],
      "metadata": {
        "colab": {
          "base_uri": "https://localhost:8080/",
          "height": 70
        },
        "id": "ZeUpfSQ56dVM",
        "outputId": "8a969817-98d0-4e97-e59d-5364eee0710b"
      },
      "execution_count": null,
      "outputs": [
        {
          "output_type": "execute_result",
          "data": {
            "application/vnd.google.colaboratory.intrinsic+json": {
              "type": "string"
            },
            "text/plain": [
              "'this is a great tutu and at a really great price it doesnt look cheap at all im so glad i looked on amazon and found such an affordable tutu that isnt made poorly a great tutu  not cheaply made'"
            ]
          },
          "metadata": {},
          "execution_count": 16
        },
        {
          "output_type": "stream",
          "name": "stdout",
          "text": [
            "time: 32.7 ms (started: 2022-01-27 01:41:43 +00:00)\n"
          ]
        }
      ]
    },
    {
      "cell_type": "code",
      "source": [
        "df[[\"review_no_punct\", \"lemmatized_review\"]].loc[0][1]"
      ],
      "metadata": {
        "colab": {
          "base_uri": "https://localhost:8080/",
          "height": 53
        },
        "id": "DjCPcMzxEVnD",
        "outputId": "9ac92c29-6818-4fe9-c460-d20933df105d"
      },
      "execution_count": null,
      "outputs": [
        {
          "output_type": "execute_result",
          "data": {
            "application/vnd.google.colaboratory.intrinsic+json": {
              "type": "string"
            },
            "text/plain": [
              "'great tutu really great price doesnt look cheap im glad looked amazon found affordable tutu isnt made poorly great tutu cheaply made'"
            ]
          },
          "metadata": {},
          "execution_count": 17
        },
        {
          "output_type": "stream",
          "name": "stdout",
          "text": [
            "time: 56.5 ms (started: 2022-01-27 01:41:44 +00:00)\n"
          ]
        }
      ]
    },
    {
      "cell_type": "code",
      "source": [
        "df[[\"review_no_punct\", \"lemmatized_review\"]].loc[99][0]"
      ],
      "metadata": {
        "colab": {
          "base_uri": "https://localhost:8080/",
          "height": 53
        },
        "id": "7_IbEyxhFbwu",
        "outputId": "eeb16dad-b80b-4e76-e335-8f2436fde974"
      },
      "execution_count": null,
      "outputs": [
        {
          "output_type": "execute_result",
          "data": {
            "application/vnd.google.colaboratory.intrinsic+json": {
              "type": "string"
            },
            "text/plain": [
              "'great  no one got my good stuff  it was all hanging around my neck  sturdy and durable i bought one for my husband great'"
            ]
          },
          "metadata": {},
          "execution_count": 18
        },
        {
          "output_type": "stream",
          "name": "stdout",
          "text": [
            "time: 108 ms (started: 2022-01-27 01:41:46 +00:00)\n"
          ]
        }
      ]
    },
    {
      "cell_type": "code",
      "source": [
        "df[[\"review_no_punct\", \"lemmatized_review\"]].loc[99][1]"
      ],
      "metadata": {
        "colab": {
          "base_uri": "https://localhost:8080/",
          "height": 53
        },
        "id": "GkgyD2tNFbus",
        "outputId": "7fd46d25-f4d4-4345-a851-d64c3497ba61"
      },
      "execution_count": null,
      "outputs": [
        {
          "output_type": "execute_result",
          "data": {
            "application/vnd.google.colaboratory.intrinsic+json": {
              "type": "string"
            },
            "text/plain": [
              "'great one got good stuff hanging around neck sturdy durable bought one husband great'"
            ]
          },
          "metadata": {},
          "execution_count": 19
        },
        {
          "output_type": "stream",
          "name": "stdout",
          "text": [
            "time: 63.9 ms (started: 2022-01-27 01:41:47 +00:00)\n"
          ]
        }
      ]
    },
    {
      "cell_type": "code",
      "source": [
        "# df.to_csv(\"data.csv\", index=False)"
      ],
      "metadata": {
        "colab": {
          "base_uri": "https://localhost:8080/"
        },
        "id": "1Y2spHOoEa7P",
        "outputId": "e2a8766c-ac0e-42bd-ecb1-2aced29b03b3"
      },
      "execution_count": null,
      "outputs": [
        {
          "output_type": "stream",
          "name": "stdout",
          "text": [
            "time: 913 µs (started: 2022-01-27 01:41:48 +00:00)\n"
          ]
        }
      ]
    },
    {
      "cell_type": "markdown",
      "source": [
        "## Create tokenizer"
      ],
      "metadata": {
        "id": "F9ChWGgwFxcL"
      }
    },
    {
      "cell_type": "code",
      "source": [
        "def tokenize_lines(text):\n",
        "    return nltk.word_tokenize(text)"
      ],
      "metadata": {
        "colab": {
          "base_uri": "https://localhost:8080/"
        },
        "id": "EhIlL9MXGBG4",
        "outputId": "4ff5b51f-f21a-485f-85f1-5628524c3e99"
      },
      "execution_count": null,
      "outputs": [
        {
          "output_type": "stream",
          "name": "stdout",
          "text": [
            "time: 1.71 ms (started: 2022-01-27 01:41:54 +00:00)\n"
          ]
        }
      ]
    },
    {
      "cell_type": "code",
      "source": [
        "def tokenize(review):\n",
        "    review = remove_punctuation(review)\n",
        "    review = lemmatize_review(review)\n",
        "    review = tokenize_lines(review)\n",
        "    return review"
      ],
      "metadata": {
        "colab": {
          "base_uri": "https://localhost:8080/"
        },
        "id": "SI05buxCEosv",
        "outputId": "ef96017a-1028-4b21-d742-479fa1e11dba"
      },
      "execution_count": null,
      "outputs": [
        {
          "output_type": "stream",
          "name": "stdout",
          "text": [
            "time: 2.14 ms (started: 2022-01-27 01:41:56 +00:00)\n"
          ]
        }
      ]
    },
    {
      "cell_type": "code",
      "source": [
        "sample_review1 = tokenize(df[\"review\"][99])\n",
        "sample_review1"
      ],
      "metadata": {
        "colab": {
          "base_uri": "https://localhost:8080/"
        },
        "id": "c817YGgKFxFR",
        "outputId": "f452fc0d-bd7b-450b-c291-a605a2fd0e2c"
      },
      "execution_count": null,
      "outputs": [
        {
          "output_type": "execute_result",
          "data": {
            "text/plain": [
              "['great',\n",
              " 'one',\n",
              " 'got',\n",
              " 'good',\n",
              " 'stuff',\n",
              " 'hanging',\n",
              " 'around',\n",
              " 'neck',\n",
              " 'sturdy',\n",
              " 'durable',\n",
              " 'bought',\n",
              " 'one',\n",
              " 'husband',\n",
              " 'great']"
            ]
          },
          "metadata": {},
          "execution_count": 30
        },
        {
          "output_type": "stream",
          "name": "stdout",
          "text": [
            "time: 1.77 s (started: 2022-01-27 01:43:13 +00:00)\n"
          ]
        }
      ]
    },
    {
      "cell_type": "markdown",
      "source": [
        "# Modelling"
      ],
      "metadata": {
        "id": "IpTytRfeGOQZ"
      }
    },
    {
      "cell_type": "code",
      "source": [
        "df.head(3)"
      ],
      "metadata": {
        "colab": {
          "base_uri": "https://localhost:8080/",
          "height": 485
        },
        "id": "7YKOtu0gHZgx",
        "outputId": "76e83ad9-6459-4a68-d8b5-ec39f9f990b3"
      },
      "execution_count": null,
      "outputs": [
        {
          "output_type": "execute_result",
          "data": {
            "text/html": [
              "\n",
              "  <div id=\"df-af5569f0-61e9-4a57-89dc-3c88b5999358\">\n",
              "    <div class=\"colab-df-container\">\n",
              "      <div>\n",
              "<style scoped>\n",
              "    .dataframe tbody tr th:only-of-type {\n",
              "        vertical-align: middle;\n",
              "    }\n",
              "\n",
              "    .dataframe tbody tr th {\n",
              "        vertical-align: top;\n",
              "    }\n",
              "\n",
              "    .dataframe thead th {\n",
              "        text-align: right;\n",
              "    }\n",
              "</style>\n",
              "<table border=\"1\" class=\"dataframe\">\n",
              "  <thead>\n",
              "    <tr style=\"text-align: right;\">\n",
              "      <th></th>\n",
              "      <th>asin</th>\n",
              "      <th>overall</th>\n",
              "      <th>reviewText_len</th>\n",
              "      <th>reviewTime</th>\n",
              "      <th>review</th>\n",
              "      <th>sentiment</th>\n",
              "      <th>review_no_punct</th>\n",
              "      <th>lemmatized_review</th>\n",
              "    </tr>\n",
              "  </thead>\n",
              "  <tbody>\n",
              "    <tr>\n",
              "      <th>0</th>\n",
              "      <td>0000031887</td>\n",
              "      <td>5.0</td>\n",
              "      <td>172</td>\n",
              "      <td>2011-02-12</td>\n",
              "      <td>This is a great tutu and at a really great pri...</td>\n",
              "      <td>pos</td>\n",
              "      <td>this is a great tutu and at a really great pri...</td>\n",
              "      <td>great tutu really great price doesnt look chea...</td>\n",
              "    </tr>\n",
              "    <tr>\n",
              "      <th>1</th>\n",
              "      <td>0000031887</td>\n",
              "      <td>5.0</td>\n",
              "      <td>306</td>\n",
              "      <td>2013-01-19</td>\n",
              "      <td>I bought this for my 4 yr old daughter for dan...</td>\n",
              "      <td>pos</td>\n",
              "      <td>i bought this for my 4 yr old daughter for dan...</td>\n",
              "      <td>bought 4 yr old daughter dance class wore toda...</td>\n",
              "    </tr>\n",
              "    <tr>\n",
              "      <th>2</th>\n",
              "      <td>0000031887</td>\n",
              "      <td>5.0</td>\n",
              "      <td>312</td>\n",
              "      <td>2013-01-04</td>\n",
              "      <td>What can I say... my daughters have it in oran...</td>\n",
              "      <td>pos</td>\n",
              "      <td>what can i say my daughters have it in orange ...</td>\n",
              "      <td>say daughter orange black white pink thinking ...</td>\n",
              "    </tr>\n",
              "  </tbody>\n",
              "</table>\n",
              "</div>\n",
              "      <button class=\"colab-df-convert\" onclick=\"convertToInteractive('df-af5569f0-61e9-4a57-89dc-3c88b5999358')\"\n",
              "              title=\"Convert this dataframe to an interactive table.\"\n",
              "              style=\"display:none;\">\n",
              "        \n",
              "  <svg xmlns=\"http://www.w3.org/2000/svg\" height=\"24px\"viewBox=\"0 0 24 24\"\n",
              "       width=\"24px\">\n",
              "    <path d=\"M0 0h24v24H0V0z\" fill=\"none\"/>\n",
              "    <path d=\"M18.56 5.44l.94 2.06.94-2.06 2.06-.94-2.06-.94-.94-2.06-.94 2.06-2.06.94zm-11 1L8.5 8.5l.94-2.06 2.06-.94-2.06-.94L8.5 2.5l-.94 2.06-2.06.94zm10 10l.94 2.06.94-2.06 2.06-.94-2.06-.94-.94-2.06-.94 2.06-2.06.94z\"/><path d=\"M17.41 7.96l-1.37-1.37c-.4-.4-.92-.59-1.43-.59-.52 0-1.04.2-1.43.59L10.3 9.45l-7.72 7.72c-.78.78-.78 2.05 0 2.83L4 21.41c.39.39.9.59 1.41.59.51 0 1.02-.2 1.41-.59l7.78-7.78 2.81-2.81c.8-.78.8-2.07 0-2.86zM5.41 20L4 18.59l7.72-7.72 1.47 1.35L5.41 20z\"/>\n",
              "  </svg>\n",
              "      </button>\n",
              "      \n",
              "  <style>\n",
              "    .colab-df-container {\n",
              "      display:flex;\n",
              "      flex-wrap:wrap;\n",
              "      gap: 12px;\n",
              "    }\n",
              "\n",
              "    .colab-df-convert {\n",
              "      background-color: #E8F0FE;\n",
              "      border: none;\n",
              "      border-radius: 50%;\n",
              "      cursor: pointer;\n",
              "      display: none;\n",
              "      fill: #1967D2;\n",
              "      height: 32px;\n",
              "      padding: 0 0 0 0;\n",
              "      width: 32px;\n",
              "    }\n",
              "\n",
              "    .colab-df-convert:hover {\n",
              "      background-color: #E2EBFA;\n",
              "      box-shadow: 0px 1px 2px rgba(60, 64, 67, 0.3), 0px 1px 3px 1px rgba(60, 64, 67, 0.15);\n",
              "      fill: #174EA6;\n",
              "    }\n",
              "\n",
              "    [theme=dark] .colab-df-convert {\n",
              "      background-color: #3B4455;\n",
              "      fill: #D2E3FC;\n",
              "    }\n",
              "\n",
              "    [theme=dark] .colab-df-convert:hover {\n",
              "      background-color: #434B5C;\n",
              "      box-shadow: 0px 1px 3px 1px rgba(0, 0, 0, 0.15);\n",
              "      filter: drop-shadow(0px 1px 2px rgba(0, 0, 0, 0.3));\n",
              "      fill: #FFFFFF;\n",
              "    }\n",
              "  </style>\n",
              "\n",
              "      <script>\n",
              "        const buttonEl =\n",
              "          document.querySelector('#df-af5569f0-61e9-4a57-89dc-3c88b5999358 button.colab-df-convert');\n",
              "        buttonEl.style.display =\n",
              "          google.colab.kernel.accessAllowed ? 'block' : 'none';\n",
              "\n",
              "        async function convertToInteractive(key) {\n",
              "          const element = document.querySelector('#df-af5569f0-61e9-4a57-89dc-3c88b5999358');\n",
              "          const dataTable =\n",
              "            await google.colab.kernel.invokeFunction('convertToInteractive',\n",
              "                                                     [key], {});\n",
              "          if (!dataTable) return;\n",
              "\n",
              "          const docLinkHtml = 'Like what you see? Visit the ' +\n",
              "            '<a target=\"_blank\" href=https://colab.research.google.com/notebooks/data_table.ipynb>data table notebook</a>'\n",
              "            + ' to learn more about interactive tables.';\n",
              "          element.innerHTML = '';\n",
              "          dataTable['output_type'] = 'display_data';\n",
              "          await google.colab.output.renderOutput(dataTable, element);\n",
              "          const docLink = document.createElement('div');\n",
              "          docLink.innerHTML = docLinkHtml;\n",
              "          element.appendChild(docLink);\n",
              "        }\n",
              "      </script>\n",
              "    </div>\n",
              "  </div>\n",
              "  "
            ],
            "text/plain": [
              "         asin  ...                                  lemmatized_review\n",
              "0  0000031887  ...  great tutu really great price doesnt look chea...\n",
              "1  0000031887  ...  bought 4 yr old daughter dance class wore toda...\n",
              "2  0000031887  ...  say daughter orange black white pink thinking ...\n",
              "\n",
              "[3 rows x 8 columns]"
            ]
          },
          "metadata": {},
          "execution_count": 31
        },
        {
          "output_type": "stream",
          "name": "stdout",
          "text": [
            "time: 28 ms (started: 2022-01-27 01:43:21 +00:00)\n"
          ]
        }
      ]
    },
    {
      "cell_type": "code",
      "source": [
        "from sklearn.model_selection import train_test_split\n",
        "import numpy as np\n",
        "\n",
        "def get_X_y(df):\n",
        "    y = df.sentiment\n",
        "    X = df.lemmatized_review\n",
        "    y = np.array(list(map(lambda x: 1 if x == \"pos\" else 0, y)))\n",
        "    return X, y"
      ],
      "metadata": {
        "colab": {
          "base_uri": "https://localhost:8080/"
        },
        "id": "EESmPATNGFlZ",
        "outputId": "a9e6ec81-206d-43a8-ee86-2a4d37f5acfa"
      },
      "execution_count": null,
      "outputs": [
        {
          "output_type": "stream",
          "name": "stdout",
          "text": [
            "time: 8.47 ms (started: 2022-01-27 01:43:25 +00:00)\n"
          ]
        }
      ]
    },
    {
      "cell_type": "code",
      "source": [
        "X, y = get_X_y(df)"
      ],
      "metadata": {
        "colab": {
          "base_uri": "https://localhost:8080/"
        },
        "id": "9HzDzjpJIO1Y",
        "outputId": "36d530cd-424b-4969-f832-07891ec84367"
      },
      "execution_count": null,
      "outputs": [
        {
          "output_type": "stream",
          "name": "stdout",
          "text": [
            "time: 82.1 ms (started: 2022-01-27 01:43:29 +00:00)\n"
          ]
        }
      ]
    },
    {
      "cell_type": "code",
      "source": [
        "X_train, X_test, y_train, y_test = train_test_split(X, y, test_size=0.2, random_state=42, stratify=y)"
      ],
      "metadata": {
        "colab": {
          "base_uri": "https://localhost:8080/"
        },
        "id": "zEO5hEAGIjlx",
        "outputId": "67bd42ea-f451-4d10-ac35-211511334466"
      },
      "execution_count": null,
      "outputs": [
        {
          "output_type": "stream",
          "name": "stdout",
          "text": [
            "time: 161 ms (started: 2022-01-27 01:43:31 +00:00)\n"
          ]
        }
      ]
    },
    {
      "cell_type": "code",
      "source": [
        "from sklearn.feature_extraction.text import CountVectorizer, TfidfVectorizer\n",
        "\n",
        "tfidf_vectorizer = TfidfVectorizer(tokenizer=tokenize, stop_words='english')"
      ],
      "metadata": {
        "colab": {
          "base_uri": "https://localhost:8080/"
        },
        "id": "04Ohg8N7IV2E",
        "outputId": "2813a546-43fe-4d27-8c82-731e59d1248a"
      },
      "execution_count": null,
      "outputs": [
        {
          "output_type": "stream",
          "name": "stdout",
          "text": [
            "time: 1.26 ms (started: 2022-01-27 01:43:36 +00:00)\n"
          ]
        }
      ]
    },
    {
      "cell_type": "code",
      "source": [
        "train_tfidf_matrix = tfidf_vectorizer.fit_transform(X_train)\n",
        "\n",
        "test_tfidf_matrix = tfidf_vectorizer.transform(X_test)"
      ],
      "metadata": {
        "colab": {
          "base_uri": "https://localhost:8080/"
        },
        "id": "zKHnw3dDIe4F",
        "outputId": "9e1b4b64-31a8-43c6-cc3f-a38c34426306"
      },
      "execution_count": null,
      "outputs": [
        {
          "output_type": "stream",
          "name": "stderr",
          "text": [
            "/usr/local/lib/python3.7/dist-packages/sklearn/feature_extraction/text.py:401: UserWarning: Your stop_words may be inconsistent with your preprocessing. Tokenizing the stop words generated tokens ['le', 'u'] not in stop_words.\n",
            "  % sorted(inconsistent)\n"
          ]
        },
        {
          "output_type": "stream",
          "name": "stdout",
          "text": [
            "time: 23min 33s (started: 2022-01-27 01:43:38 +00:00)\n"
          ]
        }
      ]
    },
    {
      "cell_type": "code",
      "source": [
        "train_tfidf_matrix.shape"
      ],
      "metadata": {
        "colab": {
          "base_uri": "https://localhost:8080/"
        },
        "id": "gMGXnyyvIqtm",
        "outputId": "3307d5ef-bf30-4412-8d24-ece7fa9c15d4"
      },
      "execution_count": null,
      "outputs": [
        {
          "output_type": "execute_result",
          "data": {
            "text/plain": [
              "(222922, 152505)"
            ]
          },
          "metadata": {},
          "execution_count": 37
        },
        {
          "output_type": "stream",
          "name": "stdout",
          "text": [
            "time: 9 ms (started: 2022-01-27 02:07:15 +00:00)\n"
          ]
        }
      ]
    },
    {
      "cell_type": "markdown",
      "source": [
        "## RandomForest"
      ],
      "metadata": {
        "id": "JOxw2jgF0ymm"
      }
    },
    {
      "cell_type": "code",
      "source": [
        " # RandomForestClassifier\n",
        "from sklearn.ensemble import RandomForestClassifier\n",
        "from sklearn.metrics import confusion_matrix, classification_report\n",
        "\n",
        "rf_clf = RandomForestClassifier(n_estimators=500)\n",
        "\n",
        "rf_clf.fit(train_tfidf_matrix, y_train)\n",
        "\n",
        "# y_pred = rf_clf.predict(test_tfidf_matrix)"
      ],
      "metadata": {
        "colab": {
          "base_uri": "https://localhost:8080/"
        },
        "id": "yrIcdTUsSRXV",
        "outputId": "6f51e75c-da19-4fa4-9dff-184f5f85b4b4"
      },
      "execution_count": null,
      "outputs": [
        {
          "output_type": "stream",
          "name": "stdout",
          "text": [
            "time: 2h 20min 42s (started: 2022-01-21 06:18:36 +00:00)\n"
          ]
        }
      ]
    },
    {
      "cell_type": "code",
      "source": [
        "y_pred = rf_clf.predict(test_tfidf_matrix)"
      ],
      "metadata": {
        "colab": {
          "base_uri": "https://localhost:8080/"
        },
        "id": "prgI55tu2m6l",
        "outputId": "86f86c30-e205-46a2-d9ee-38d6496afd06"
      },
      "execution_count": null,
      "outputs": [
        {
          "output_type": "stream",
          "name": "stdout",
          "text": [
            "time: 36.5 s (started: 2022-01-21 08:57:03 +00:00)\n"
          ]
        }
      ]
    },
    {
      "cell_type": "code",
      "source": [
        "label_names = [\"neg\", \"pos\"]\n",
        "\n",
        "cm = confusion_matrix(y_pred, y_test)\n",
        "\n",
        "plt.figure(figsize=(8,6))\n",
        "sns.heatmap(cm, annot=True, fmt='g', cmap='Blues',\n",
        "            xticklabels=label_names, \n",
        "            yticklabels=label_names)\n",
        "\n",
        "plt.xlabel('Predicted labels')\n",
        "plt.ylabel('True labels')\n",
        "plt.title('Confusion Matrix')"
      ],
      "metadata": {
        "colab": {
          "base_uri": "https://localhost:8080/",
          "height": 438
        },
        "id": "8_LvsNnrSWl1",
        "outputId": "288e2562-2db3-4810-83f2-7e371daf4649"
      },
      "execution_count": null,
      "outputs": [
        {
          "output_type": "execute_result",
          "data": {
            "text/plain": [
              "Text(0.5, 1.0, 'Confusion Matrix')"
            ]
          },
          "metadata": {},
          "execution_count": 307
        },
        {
          "output_type": "display_data",
          "data": {
            "image/png": "[encoded data removed]",
            "text/plain": [
              "<Figure size 576x432 with 2 Axes>"
            ]
          },
          "metadata": {
            "needs_background": "light"
          }
        },
        {
          "output_type": "stream",
          "name": "stdout",
          "text": [
            "time: 228 ms (started: 2022-01-21 08:57:52 +00:00)\n"
          ]
        }
      ]
    },
    {
      "cell_type": "code",
      "source": [
        "print(classification_report(y_test, y_pred))"
      ],
      "metadata": {
        "colab": {
          "base_uri": "https://localhost:8080/"
        },
        "id": "ojDta9m2y1ME",
        "outputId": "9d5fffb2-f6be-4bdb-f9b6-e358c6a7421d"
      },
      "execution_count": null,
      "outputs": [
        {
          "output_type": "stream",
          "name": "stdout",
          "text": [
            "              precision    recall  f1-score   support\n",
            "\n",
            "           0       0.91      0.29      0.44     11415\n",
            "           1       0.84      0.99      0.91     44316\n",
            "\n",
            "    accuracy                           0.85     55731\n",
            "   macro avg       0.88      0.64      0.68     55731\n",
            "weighted avg       0.86      0.85      0.82     55731\n",
            "\n",
            "time: 108 ms (started: 2022-01-21 08:57:55 +00:00)\n"
          ]
        }
      ]
    },
    {
      "cell_type": "markdown",
      "source": [
        "## Log Reg"
      ],
      "metadata": {
        "id": "_nFYhKMZ0xRt"
      }
    },
    {
      "cell_type": "code",
      "source": [
        "# Logistic Reg\n",
        "from sklearn.linear_model import LogisticRegression\n",
        "log_reg = LogisticRegression()\n",
        "\n",
        "log_reg.fit(train_tfidf_matrix, y_train)\n",
        "\n",
        "y_pred = log_reg.predict(test_tfidf_matrix)"
      ],
      "metadata": {
        "colab": {
          "base_uri": "https://localhost:8080/"
        },
        "id": "jG5c0uWuy4Mc",
        "outputId": "6f27d41a-b374-4e80-ece9-6f9d782d6ca9"
      },
      "execution_count": null,
      "outputs": [
        {
          "output_type": "stream",
          "name": "stdout",
          "text": [
            "time: 13 s (started: 2022-01-21 08:58:14 +00:00)\n"
          ]
        },
        {
          "output_type": "stream",
          "name": "stderr",
          "text": [
            "/usr/local/lib/python3.7/dist-packages/sklearn/linear_model/_logistic.py:818: ConvergenceWarning: lbfgs failed to converge (status=1):\n",
            "STOP: TOTAL NO. of ITERATIONS REACHED LIMIT.\n",
            "\n",
            "Increase the number of iterations (max_iter) or scale the data as shown in:\n",
            "    https://scikit-learn.org/stable/modules/preprocessing.html\n",
            "Please also refer to the documentation for alternative solver options:\n",
            "    https://scikit-learn.org/stable/modules/linear_model.html#logistic-regression\n",
            "  extra_warning_msg=_LOGISTIC_SOLVER_CONVERGENCE_MSG,\n"
          ]
        }
      ]
    },
    {
      "cell_type": "code",
      "source": [
        "label_names = [\"neg\", \"pos\"]\n",
        "\n",
        "cm = confusion_matrix(y_pred, y_test)\n",
        "\n",
        "plt.figure(figsize=(8,6))\n",
        "sns.heatmap(cm, annot=True, fmt='g', cmap='Blues',\n",
        "            xticklabels=label_names, \n",
        "            yticklabels=label_names)\n",
        "\n",
        "plt.xlabel('Predicted labels')\n",
        "plt.ylabel('True labels')\n",
        "plt.title('Confusion Matrix')"
      ],
      "metadata": {
        "colab": {
          "base_uri": "https://localhost:8080/",
          "height": 438
        },
        "id": "xIH1knOZy-pa",
        "outputId": "ad864462-e81b-4a22-f35d-fb8dc3c85e63"
      },
      "execution_count": null,
      "outputs": [
        {
          "output_type": "execute_result",
          "data": {
            "text/plain": [
              "Text(0.5, 1.0, 'Confusion Matrix')"
            ]
          },
          "metadata": {},
          "execution_count": 310
        },
        {
          "output_type": "display_data",
          "data": {
            "image/png": "[encoded data removed]",
            "text/plain": [
              "<Figure size 576x432 with 2 Axes>"
            ]
          },
          "metadata": {
            "needs_background": "light"
          }
        },
        {
          "output_type": "stream",
          "name": "stdout",
          "text": [
            "time: 223 ms (started: 2022-01-21 08:58:29 +00:00)\n"
          ]
        }
      ]
    },
    {
      "cell_type": "code",
      "source": [
        "print(classification_report(y_test, y_pred))"
      ],
      "metadata": {
        "colab": {
          "base_uri": "https://localhost:8080/"
        },
        "id": "ft0I1T6FzE-l",
        "outputId": "8bdbd517-de1d-4118-b86e-e5a7fa72324e"
      },
      "execution_count": null,
      "outputs": [
        {
          "output_type": "stream",
          "name": "stdout",
          "text": [
            "              precision    recall  f1-score   support\n",
            "\n",
            "           0       0.80      0.63      0.71     11415\n",
            "           1       0.91      0.96      0.93     44316\n",
            "\n",
            "    accuracy                           0.89     55731\n",
            "   macro avg       0.86      0.80      0.82     55731\n",
            "weighted avg       0.89      0.89      0.89     55731\n",
            "\n",
            "time: 112 ms (started: 2022-01-21 08:58:32 +00:00)\n"
          ]
        }
      ]
    },
    {
      "cell_type": "markdown",
      "source": [
        "## SVM"
      ],
      "metadata": {
        "id": "PRUJw8PS32Lc"
      }
    },
    {
      "cell_type": "code",
      "source": [
        "from sklearn.svm import SVC\n",
        "\n",
        "# SVC\n",
        "svc = SVC()\n",
        "\n",
        "svc.fit(train_tfidf_matrix, y_train)"
      ],
      "metadata": {
        "id": "FctS8LYJ33Vm",
        "colab": {
          "base_uri": "https://localhost:8080/"
        },
        "outputId": "8212a63c-cb22-403f-f3b2-9dcd21aeb7e5"
      },
      "execution_count": null,
      "outputs": [
        {
          "output_type": "execute_result",
          "data": {
            "text/plain": [
              "SVC()"
            ]
          },
          "metadata": {},
          "execution_count": 38
        },
        {
          "output_type": "stream",
          "name": "stdout",
          "text": [
            "time: 4h 25min 13s (started: 2022-01-27 02:07:32 +00:00)\n"
          ]
        }
      ]
    },
    {
      "cell_type": "code",
      "source": [
        "y_pred = svc.predict(test_tfidf_matrix)"
      ],
      "metadata": {
        "colab": {
          "base_uri": "https://localhost:8080/"
        },
        "id": "tMFHJZWZSax4",
        "outputId": "bf7396c3-5358-457d-e27f-f431eb48ad6e"
      },
      "execution_count": null,
      "outputs": [
        {
          "output_type": "stream",
          "name": "stdout",
          "text": [
            "time: 27min 58s (started: 2022-01-27 07:20:54 +00:00)\n"
          ]
        }
      ]
    },
    {
      "cell_type": "code",
      "source": [
        "from sklearn.metrics import confusion_matrix\n",
        "import matplotlib.pyplot as plt\n",
        "import seaborn as sns\n",
        "\n",
        "label_names = [\"neg\", \"pos\"]\n",
        "\n",
        "cm = confusion_matrix(y_test,y_pred)\n",
        "\n",
        "plt.figure(figsize=(8,6))\n",
        "sns.heatmap(cm, annot=True, fmt='g', cmap='Blues',\n",
        "            xticklabels=label_names, \n",
        "            yticklabels=label_names)\n",
        "\n",
        "plt.xlabel('Predicted labels')\n",
        "plt.ylabel('True labels')\n",
        "plt.title('Confusion Matrix')"
      ],
      "metadata": {
        "id": "nw2cUeT433Tm",
        "colab": {
          "base_uri": "https://localhost:8080/",
          "height": 438
        },
        "outputId": "3ec7952d-2dca-486f-eec9-c83c6827330e"
      },
      "execution_count": null,
      "outputs": [
        {
          "output_type": "execute_result",
          "data": {
            "text/plain": [
              "Text(0.5, 1.0, 'Confusion Matrix')"
            ]
          },
          "metadata": {},
          "execution_count": 43
        },
        {
          "output_type": "display_data",
          "data": {
            "image/png": "[encoded data removed]",
            "text/plain": [
              "<Figure size 576x432 with 2 Axes>"
            ]
          },
          "metadata": {
            "needs_background": "light"
          }
        },
        {
          "output_type": "stream",
          "name": "stdout",
          "text": [
            "time: 846 ms (started: 2022-01-27 07:57:40 +00:00)\n"
          ]
        }
      ]
    },
    {
      "cell_type": "code",
      "source": [
        "from sklearn.metrics import classification_report\n",
        "\n",
        "print(classification_report(y_test, y_pred))"
      ],
      "metadata": {
        "colab": {
          "base_uri": "https://localhost:8080/"
        },
        "id": "pCxaUZIoimDo",
        "outputId": "47338ac0-5a15-499e-b013-5870eb470ff3"
      },
      "execution_count": null,
      "outputs": [
        {
          "output_type": "stream",
          "name": "stdout",
          "text": [
            "              precision    recall  f1-score   support\n",
            "\n",
            "           0       0.82      0.64      0.72     11415\n",
            "           1       0.91      0.96      0.94     44316\n",
            "\n",
            "    accuracy                           0.90     55731\n",
            "   macro avg       0.86      0.80      0.83     55731\n",
            "weighted avg       0.89      0.90      0.89     55731\n",
            "\n",
            "time: 450 ms (started: 2022-01-27 07:58:06 +00:00)\n"
          ]
        }
      ]
    },
    {
      "cell_type": "markdown",
      "source": [
        "## After using SMOTE"
      ],
      "metadata": {
        "id": "MBTob0yG0u7p"
      }
    },
    {
      "cell_type": "code",
      "source": [
        "from imblearn.over_sampling import SMOTE"
      ],
      "metadata": {
        "colab": {
          "base_uri": "https://localhost:8080/"
        },
        "id": "MjJv7poo120-",
        "outputId": "d2f7e994-7b07-40f4-99d1-f9e42232ccd2"
      },
      "execution_count": null,
      "outputs": [
        {
          "output_type": "stream",
          "name": "stdout",
          "text": [
            "time: 844 µs (started: 2022-01-21 08:58:44 +00:00)\n"
          ]
        }
      ]
    },
    {
      "cell_type": "code",
      "source": [
        "from collections import Counter\n",
        "\n",
        "print(f'Original dataset shape : {Counter(y_train)}')\n",
        "\n",
        "smote = SMOTE(random_state=42)\n",
        "X_res, y_res = smote.fit_resample(train_tfidf_matrix, y_train)\n",
        "\n",
        "print(f'Resampled dataset shape {Counter(y_res)}')"
      ],
      "metadata": {
        "colab": {
          "base_uri": "https://localhost:8080/"
        },
        "id": "YkGncN7lz_DA",
        "outputId": "a52d7d89-5c9b-4d68-f9a1-a204af7df921"
      },
      "execution_count": null,
      "outputs": [
        {
          "output_type": "stream",
          "name": "stdout",
          "text": [
            "Original dataset shape : Counter({1: 177262, 0: 45660})\n",
            "Resampled dataset shape Counter({1: 177262, 0: 177262})\n",
            "time: 1min 16s (started: 2022-01-21 08:58:46 +00:00)\n"
          ]
        }
      ]
    },
    {
      "cell_type": "code",
      "source": [
        "# Logistic Reg\n",
        "from sklearn.linear_model import LogisticRegression\n",
        "log_reg = LogisticRegression()\n",
        "\n",
        "log_reg.fit(X_res, y_res)\n",
        "\n",
        "y_pred = log_reg.predict(test_tfidf_matrix)"
      ],
      "metadata": {
        "colab": {
          "base_uri": "https://localhost:8080/"
        },
        "id": "Q_XwjnXv0DON",
        "outputId": "79422857-7054-4074-a371-141b9550a4fc"
      },
      "execution_count": null,
      "outputs": [
        {
          "output_type": "stream",
          "name": "stdout",
          "text": [
            "time: 18 s (started: 2022-01-21 09:01:38 +00:00)\n"
          ]
        },
        {
          "output_type": "stream",
          "name": "stderr",
          "text": [
            "/usr/local/lib/python3.7/dist-packages/sklearn/linear_model/_logistic.py:818: ConvergenceWarning: lbfgs failed to converge (status=1):\n",
            "STOP: TOTAL NO. of ITERATIONS REACHED LIMIT.\n",
            "\n",
            "Increase the number of iterations (max_iter) or scale the data as shown in:\n",
            "    https://scikit-learn.org/stable/modules/preprocessing.html\n",
            "Please also refer to the documentation for alternative solver options:\n",
            "    https://scikit-learn.org/stable/modules/linear_model.html#logistic-regression\n",
            "  extra_warning_msg=_LOGISTIC_SOLVER_CONVERGENCE_MSG,\n"
          ]
        }
      ]
    },
    {
      "cell_type": "code",
      "source": [
        "label_names = [\"neg\", \"pos\"]\n",
        "\n",
        "cm = confusion_matrix(y_pred, y_test)\n",
        "\n",
        "plt.figure(figsize=(8,6))\n",
        "sns.heatmap(cm, annot=True, fmt='g', cmap='Blues',\n",
        "            xticklabels=label_names, \n",
        "            yticklabels=label_names)\n",
        "\n",
        "plt.xlabel('Predicted labels')\n",
        "plt.ylabel('True labels')\n",
        "plt.title('Confusion Matrix')"
      ],
      "metadata": {
        "colab": {
          "base_uri": "https://localhost:8080/",
          "height": 438
        },
        "id": "vKGeo4oQ1DmJ",
        "outputId": "0ae8942b-0765-47a4-e957-17c8fe8d20a6"
      },
      "execution_count": null,
      "outputs": [
        {
          "output_type": "execute_result",
          "data": {
            "text/plain": [
              "Text(0.5, 1.0, 'Confusion Matrix')"
            ]
          },
          "metadata": {},
          "execution_count": 315
        },
        {
          "output_type": "display_data",
          "data": {
            "image/png": "[encoded data removed]",
            "text/plain": [
              "<Figure size 576x432 with 2 Axes>"
            ]
          },
          "metadata": {
            "needs_background": "light"
          }
        },
        {
          "output_type": "stream",
          "name": "stdout",
          "text": [
            "time: 217 ms (started: 2022-01-21 09:02:02 +00:00)\n"
          ]
        }
      ]
    },
    {
      "cell_type": "code",
      "source": [
        "print(classification_report(y_test, y_pred))"
      ],
      "metadata": {
        "colab": {
          "base_uri": "https://localhost:8080/"
        },
        "id": "I_-B35Aj1JNK",
        "outputId": "d246a983-965e-4a0c-b4a4-d1f4f1cb68f8"
      },
      "execution_count": null,
      "outputs": [
        {
          "output_type": "stream",
          "name": "stdout",
          "text": [
            "              precision    recall  f1-score   support\n",
            "\n",
            "           0       0.63      0.82      0.71     11415\n",
            "           1       0.95      0.88      0.91     44316\n",
            "\n",
            "    accuracy                           0.86     55731\n",
            "   macro avg       0.79      0.85      0.81     55731\n",
            "weighted avg       0.88      0.86      0.87     55731\n",
            "\n",
            "time: 116 ms (started: 2022-01-21 09:02:05 +00:00)\n"
          ]
        }
      ]
    },
    {
      "cell_type": "markdown",
      "source": [
        "# DistilBert"
      ],
      "metadata": {
        "id": "LE8ZrMU3TsG_"
      }
    },
    {
      "cell_type": "markdown",
      "source": [
        "## Data Prep"
      ],
      "metadata": {
        "id": "XkPjQxQlWbVz"
      }
    },
    {
      "cell_type": "code",
      "source": [
        "#read from csv to avoid long running lemmatizing process\n",
        "import pandas as pd\n",
        "df = pd.read_csv(\"/content/drive/MyDrive/Amazon_Product_Review/data.csv\")"
      ],
      "metadata": {
        "colab": {
          "base_uri": "https://localhost:8080/"
        },
        "id": "NUoK8pHCT_nx",
        "outputId": "e7e801c7-5870-4ac6-cf6e-5404d72949a3"
      },
      "execution_count": null,
      "outputs": [
        {
          "output_type": "stream",
          "name": "stdout",
          "text": [
            "time: 5.06 s (started: 2022-01-27 01:39:53 +00:00)\n"
          ]
        }
      ]
    },
    {
      "cell_type": "code",
      "source": [
        "import numpy as np\n",
        "\n",
        "def get_X_y(df):\n",
        "    y = df.sentiment\n",
        "    X = df.lemmatized_review\n",
        "    y = np.array(list(map(lambda x: 1 if x == \"pos\" else 0, y)))\n",
        "    return X, y\n",
        "\n",
        "X, y = get_X_y(df)"
      ],
      "metadata": {
        "colab": {
          "base_uri": "https://localhost:8080/"
        },
        "id": "cP7qYBPrUBQ4",
        "outputId": "c1519dc3-15ba-4f43-8227-e9b3409ff347"
      },
      "execution_count": null,
      "outputs": [
        {
          "output_type": "stream",
          "name": "stdout",
          "text": [
            "time: 287 ms (started: 2022-01-27 01:40:11 +00:00)\n"
          ]
        }
      ]
    },
    {
      "cell_type": "code",
      "source": [
        "X[:5]"
      ],
      "metadata": {
        "colab": {
          "base_uri": "https://localhost:8080/"
        },
        "id": "Wo4RBkn2VFNe",
        "outputId": "1a87bc93-fd42-4e4e-c77b-aaedc5a988ac"
      },
      "execution_count": null,
      "outputs": [
        {
          "output_type": "execute_result",
          "data": {
            "text/plain": [
              "0    great tutu really great price doesnt look chea...\n",
              "1    bought 4 yr old daughter dance class wore toda...\n",
              "2    say daughter orange black white pink thinking ...\n",
              "3    bought several tutu got high review sturdy see...\n",
              "4    thank halo heaven great product little girl gr...\n",
              "Name: lemmatized_review, dtype: object"
            ]
          },
          "metadata": {},
          "execution_count": 6
        },
        {
          "output_type": "stream",
          "name": "stdout",
          "text": [
            "time: 7.01 ms (started: 2022-01-27 01:40:14 +00:00)\n"
          ]
        }
      ]
    },
    {
      "cell_type": "code",
      "source": [
        "y[:5]"
      ],
      "metadata": {
        "colab": {
          "base_uri": "https://localhost:8080/"
        },
        "id": "WK_KhzuSVGj2",
        "outputId": "6fb83e59-ff55-4923-c207-af89eec53b26"
      },
      "execution_count": null,
      "outputs": [
        {
          "output_type": "execute_result",
          "data": {
            "text/plain": [
              "array([1, 1, 1, 1, 1])"
            ]
          },
          "metadata": {},
          "execution_count": 7
        },
        {
          "output_type": "stream",
          "name": "stdout",
          "text": [
            "time: 9.19 ms (started: 2022-01-27 01:40:16 +00:00)\n"
          ]
        }
      ]
    },
    {
      "cell_type": "code",
      "source": [
        "import numpy as np\n",
        "sample_data_size= 1000\n",
        "idx = np.random.choice(np.arange(len(X)), sample_data_size, replace=False)"
      ],
      "metadata": {
        "colab": {
          "base_uri": "https://localhost:8080/"
        },
        "id": "wlSOLOpYTrbv",
        "outputId": "c9b4e25b-25b6-46ff-bc2d-2def37aa9010"
      },
      "execution_count": null,
      "outputs": [
        {
          "output_type": "stream",
          "name": "stdout",
          "text": [
            "time: 15.7 ms (started: 2022-01-27 01:40:19 +00:00)\n"
          ]
        }
      ]
    },
    {
      "cell_type": "code",
      "source": [
        "X_small = np.array(X)[idx]\n",
        "y_small = np.array(y)[idx]\n",
        "len(X_small), len(y_small)"
      ],
      "metadata": {
        "colab": {
          "base_uri": "https://localhost:8080/"
        },
        "id": "pT3dchOaVtyj",
        "outputId": "61d890c6-b4d6-4ecf-db6e-f92ed62201f7"
      },
      "execution_count": null,
      "outputs": [
        {
          "output_type": "execute_result",
          "data": {
            "text/plain": [
              "(1000, 1000)"
            ]
          },
          "metadata": {},
          "execution_count": 9
        },
        {
          "output_type": "stream",
          "name": "stdout",
          "text": [
            "time: 17.1 ms (started: 2022-01-27 01:40:20 +00:00)\n"
          ]
        }
      ]
    },
    {
      "cell_type": "code",
      "source": [
        "from sklearn.model_selection import train_test_split\n",
        "\n",
        "X_train, X_test, y_train, y_test = train_test_split(X_small, y_small, test_size=0.20, random_state=42)"
      ],
      "metadata": {
        "colab": {
          "base_uri": "https://localhost:8080/"
        },
        "id": "1wvRSju2Vvlj",
        "outputId": "eb5e9c21-a559-4c3b-eb29-f14b05da7ad9"
      },
      "execution_count": null,
      "outputs": [
        {
          "output_type": "stream",
          "name": "stdout",
          "text": [
            "time: 467 ms (started: 2022-01-27 01:40:22 +00:00)\n"
          ]
        }
      ]
    },
    {
      "cell_type": "code",
      "source": [
        "#check for test set label distributions\n",
        "count1 = (y_test == 1).sum()\n",
        "count0 = (y_test == 0).sum()\n",
        "count1, count0"
      ],
      "metadata": {
        "colab": {
          "base_uri": "https://localhost:8080/"
        },
        "id": "iDX4Z7_sV2BX",
        "outputId": "bccb4bbc-6b29-4ba4-aa13-77d4be5f7db8"
      },
      "execution_count": null,
      "outputs": [
        {
          "output_type": "execute_result",
          "data": {
            "text/plain": [
              "(168, 32)"
            ]
          },
          "metadata": {},
          "execution_count": 11
        },
        {
          "output_type": "stream",
          "name": "stdout",
          "text": [
            "time: 11 ms (started: 2022-01-27 01:40:24 +00:00)\n"
          ]
        }
      ]
    },
    {
      "cell_type": "code",
      "source": [
        "len(X_test), len(y_test), len(X_train), len(y_train)"
      ],
      "metadata": {
        "colab": {
          "base_uri": "https://localhost:8080/"
        },
        "id": "z_Gxm0p6V30i",
        "outputId": "5f397728-b172-4a58-9d5c-cf06c515ba15"
      },
      "execution_count": null,
      "outputs": [
        {
          "output_type": "execute_result",
          "data": {
            "text/plain": [
              "(200, 200, 800, 800)"
            ]
          },
          "metadata": {},
          "execution_count": 12
        },
        {
          "output_type": "stream",
          "name": "stdout",
          "text": [
            "time: 5.19 ms (started: 2022-01-27 01:40:26 +00:00)\n"
          ]
        }
      ]
    },
    {
      "cell_type": "markdown",
      "source": [
        "## Importing transformers"
      ],
      "metadata": {
        "id": "1iR8hXudWdjv"
      }
    },
    {
      "cell_type": "code",
      "source": [
        "pip install transformers"
      ],
      "metadata": {
        "id": "TehuHHYZWji8"
      },
      "execution_count": null,
      "outputs": []
    },
    {
      "cell_type": "code",
      "source": [
        "from transformers import DistilBertTokenizer, TFDistilBertModel, DistilBertTokenizerFast\n",
        "d_tokenizer = DistilBertTokenizerFast.from_pretrained('distilbert-base-uncased')"
      ],
      "metadata": {
        "id": "HztwarH4WTiD"
      },
      "execution_count": null,
      "outputs": []
    },
    {
      "cell_type": "code",
      "source": [
        "test_document = \"The Gunners, to all extents and purposes, are planning to clash with the Whites \\\n",
        "later on this evening - with all the rest of Saturday's Premier League fixtures being postponed due to a \\\n",
        "high number of positive Covid-19 cases.\""
      ],
      "metadata": {
        "colab": {
          "base_uri": "https://localhost:8080/"
        },
        "id": "-Eszg7orWfro",
        "outputId": "49182aea-ad93-44fc-f570-08f50b68ae67"
      },
      "execution_count": null,
      "outputs": [
        {
          "output_type": "stream",
          "name": "stdout",
          "text": [
            "time: 5.59 ms (started: 2022-01-25 03:51:17 +00:00)\n"
          ]
        }
      ]
    },
    {
      "cell_type": "code",
      "source": [
        "#trial document\n",
        "#without padding, masking yet\n",
        "test_inputs = d_tokenizer(test_document, return_tensors=\"tf\")\n",
        "test_inputs"
      ],
      "metadata": {
        "colab": {
          "base_uri": "https://localhost:8080/"
        },
        "id": "8WbqrgjKW_kS",
        "outputId": "d030a1c5-bfc4-4cfa-cd09-3c82b66609cc"
      },
      "execution_count": null,
      "outputs": [
        {
          "output_type": "execute_result",
          "data": {
            "text/plain": [
              "{'input_ids': <tf.Tensor: shape=(1, 50), dtype=int32, numpy=\n",
              "array([[  101,  1996, 29000,  1010,  2000,  2035,  6698,  2015,  1998,\n",
              "         5682,  1010,  2024,  4041,  2000, 13249,  2007,  1996, 12461,\n",
              "         2101,  2006,  2023,  3944,  1011,  2007,  2035,  1996,  2717,\n",
              "         1997,  5095,  1005,  1055,  4239,  2223, 17407,  2108, 14475,\n",
              "         2349,  2000,  1037,  2152,  2193,  1997,  3893,  2522, 17258,\n",
              "         1011,  2539,  3572,  1012,   102]], dtype=int32)>, 'attention_mask': <tf.Tensor: shape=(1, 50), dtype=int32, numpy=\n",
              "array([[1, 1, 1, 1, 1, 1, 1, 1, 1, 1, 1, 1, 1, 1, 1, 1, 1, 1, 1, 1, 1, 1,\n",
              "        1, 1, 1, 1, 1, 1, 1, 1, 1, 1, 1, 1, 1, 1, 1, 1, 1, 1, 1, 1, 1, 1,\n",
              "        1, 1, 1, 1, 1, 1]], dtype=int32)>}"
            ]
          },
          "metadata": {},
          "execution_count": 86
        },
        {
          "output_type": "stream",
          "name": "stdout",
          "text": [
            "time: 118 ms (started: 2022-01-25 03:51:19 +00:00)\n"
          ]
        }
      ]
    },
    {
      "cell_type": "markdown",
      "source": [
        "## Experiment 1 - Max Length = 128"
      ],
      "metadata": {
        "id": "q2FZVnrUXDkm"
      }
    },
    {
      "cell_type": "code",
      "source": [
        "#take in X_data, perform encoding necessary for transformers to process\n",
        "#convert words to input ids\n",
        "#with attention masking, since paddings are done\n",
        "\n",
        "import tensorflow as tf\n",
        "\n",
        "max_length= 128\n",
        "def batch_encode(d_tokenizer, texts, batch_size=32, max_length=max_length):\n",
        "    input_ids = []\n",
        "    attention_mask = []\n",
        "    \n",
        "    for i in range(0, len(texts), batch_size):\n",
        "        batch = texts[i:i+batch_size]\n",
        "        inputs = d_tokenizer.batch_encode_plus(batch,\n",
        "                                             max_length=max_length, #max length per document to be encoded\n",
        "                                             padding=\"max_length\", #pad all to max length, if not long enough\n",
        "                                             truncation=True, #if beyond max length, will force-truncate to max length\n",
        "                                             return_attention_mask=True,\n",
        "                                             return_token_type_ids=False #not required for TF fitting\n",
        "                                             )\n",
        "        input_ids.extend(inputs['input_ids'])\n",
        "        attention_mask.extend(inputs['attention_mask'])\n",
        "    return tf.convert_to_tensor(input_ids), tf.convert_to_tensor(attention_mask)\n",
        "#     return input_ids, attention_mask"
      ],
      "metadata": {
        "colab": {
          "base_uri": "https://localhost:8080/"
        },
        "id": "OdjZ2ZrGXASQ",
        "outputId": "0ba2cb8f-53a3-4be2-8da9-05749265ae2a"
      },
      "execution_count": null,
      "outputs": [
        {
          "output_type": "stream",
          "name": "stdout",
          "text": [
            "time: 12.8 ms (started: 2022-01-25 03:55:16 +00:00)\n"
          ]
        }
      ]
    },
    {
      "cell_type": "code",
      "source": [
        "len(X_train)"
      ],
      "metadata": {
        "colab": {
          "base_uri": "https://localhost:8080/"
        },
        "id": "IBdiWTJmXu9m",
        "outputId": "4bf126fc-3f0e-4127-8a1a-e1cdcbe24d4d"
      },
      "execution_count": null,
      "outputs": [
        {
          "output_type": "execute_result",
          "data": {
            "text/plain": [
              "800"
            ]
          },
          "metadata": {},
          "execution_count": 91
        },
        {
          "output_type": "stream",
          "name": "stdout",
          "text": [
            "time: 10.9 ms (started: 2022-01-25 03:55:18 +00:00)\n"
          ]
        }
      ]
    },
    {
      "cell_type": "code",
      "source": [
        "X_train_ids, X_train_attention = batch_encode(d_tokenizer, X_train.tolist())\n",
        "\n",
        "X_test_ids, X_test_attention = batch_encode(d_tokenizer, X_test.tolist())"
      ],
      "metadata": {
        "colab": {
          "base_uri": "https://localhost:8080/"
        },
        "id": "iuLXJswcXxFj",
        "outputId": "1f992267-ae40-4efa-b6b5-37825ffd62e3"
      },
      "execution_count": null,
      "outputs": [
        {
          "output_type": "stream",
          "name": "stdout",
          "text": [
            "time: 484 ms (started: 2022-01-25 03:55:19 +00:00)\n"
          ]
        }
      ]
    },
    {
      "cell_type": "code",
      "source": [
        "from transformers import TFDistilBertModel, DistilBertConfig\n",
        "\n",
        "#The dropout probability for all fully connected layers in the embeddings, encoder, and pooler.\n",
        "#this is one possible field to tune\n",
        "d_dropout_rate = 0.25\n",
        "\n",
        "#The dropout ratio for the attention probabilities.\n",
        "#this is one possible field to tune\n",
        "d_attention_dropout_rate = 0.25\n",
        " \n",
        "#DistilBERT's initialization\n",
        "config = DistilBertConfig(dropout=d_dropout_rate, \n",
        "                          attention_dropout=d_attention_dropout_rate)\n",
        "                          \n",
        "# distilBERT_transformer = TFDistilBertModel.from_pretrained('distilbert-base-uncased', config=config)\n",
        "distilBERT_transformer = TFDistilBertModel.from_pretrained('distilbert-base-uncased')\n",
        "\n",
        "# Make DistilBERT layers untrainable\n",
        "# for layer in distilBERT_transformer.layers:\n",
        "#     layer.trainable = False\n",
        "\n",
        "# Make DistilBERT layers trainable\n",
        "for layer in distilBERT_transformer.layers:\n",
        "    layer.trainable = True"
      ],
      "metadata": {
        "colab": {
          "base_uri": "https://localhost:8080/",
          "height": 173,
          "referenced_widgets": [
            "50298cde73924e2cafbf9a0c5c2ee905",
            "e0ce88d8bfb94a22803f7e76675722a0",
            "013c9143c61c4ce09a0ac4be0785a57a",
            "8f95a0bfb7a54b7291d9f103b98c6b2f",
            "0dec0a03deff42139ab619936b29a49a",
            "9e35fe8ff6484871b7a799a63718e339",
            "1925b76c22454524b79e4c353be55f4d",
            "6d95ceabe8a04483b2a5502a70cfa4e5",
            "83dd7dda0fce4e3ab269c49b71cee1f6",
            "728c6d3dd8d84a69a82f8a21b3987458",
            "e09c0f6922a0409895109eaafc11c060"
          ]
        },
        "id": "KRwRf3vIYfUy",
        "outputId": "e6124cd2-ad15-4843-8973-59aaa2e05661"
      },
      "execution_count": null,
      "outputs": [
        {
          "output_type": "display_data",
          "data": {
            "application/vnd.jupyter.widget-view+json": {
              "model_id": "50298cde73924e2cafbf9a0c5c2ee905",
              "version_minor": 0,
              "version_major": 2
            },
            "text/plain": [
              "Downloading:   0%|          | 0.00/347M [00:00<?, ?B/s]"
            ]
          },
          "metadata": {}
        },
        {
          "output_type": "stream",
          "name": "stderr",
          "text": [
            "Some layers from the model checkpoint at distilbert-base-uncased were not used when initializing TFDistilBertModel: ['vocab_projector', 'activation_13', 'vocab_transform', 'vocab_layer_norm']\n",
            "- This IS expected if you are initializing TFDistilBertModel from the checkpoint of a model trained on another task or with another architecture (e.g. initializing a BertForSequenceClassification model from a BertForPreTraining model).\n",
            "- This IS NOT expected if you are initializing TFDistilBertModel from the checkpoint of a model that you expect to be exactly identical (initializing a BertForSequenceClassification model from a BertForSequenceClassification model).\n",
            "All the layers of TFDistilBertModel were initialized from the model checkpoint at distilbert-base-uncased.\n",
            "If your task is similar to the task the model of the checkpoint was trained on, you can already use TFDistilBertModel for predictions without further training.\n"
          ]
        },
        {
          "output_type": "stream",
          "name": "stdout",
          "text": [
            "time: 13.3 s (started: 2022-01-25 03:58:11 +00:00)\n"
          ]
        }
      ]
    },
    {
      "cell_type": "code",
      "source": [
        "max_length = 128\n",
        "learning_rate = 1e-4\n",
        "\n",
        "# Define input layers\n",
        "input_ids_layer = tf.keras.layers.Input(shape=(max_length,), \n",
        "                                        name='input_ids', \n",
        "                                        dtype='int32')\n",
        "\n",
        "input_attention_layer = tf.keras.layers.Input(shape=(max_length,), \n",
        "                                              name='input_attention', \n",
        "                                              dtype='int32')\n",
        "\n",
        "#distilBERT_transformer outputs last year at the first element index[0]\n",
        "#we want the \"last\" hidden state from distilBERT, hence [0]\n",
        "last_hidden_state = distilBERT_transformer([input_ids_layer, input_attention_layer])[0]\n",
        "\n",
        "cls_token = last_hidden_state[:, 0, :]\n",
        "\n",
        "output = tf.keras.layers.Dense(1,activation='sigmoid')(cls_token)"
      ],
      "metadata": {
        "colab": {
          "base_uri": "https://localhost:8080/"
        },
        "id": "CtMDHXWEYkw9",
        "outputId": "875293ce-a66c-482b-8f15-457a12099940"
      },
      "execution_count": null,
      "outputs": [
        {
          "output_type": "stream",
          "name": "stdout",
          "text": [
            "time: 9.25 s (started: 2022-01-25 03:58:35 +00:00)\n"
          ]
        }
      ]
    },
    {
      "cell_type": "code",
      "source": [
        "distilbert_model = tf.keras.Model([input_ids_layer, input_attention_layer], output)"
      ],
      "metadata": {
        "colab": {
          "base_uri": "https://localhost:8080/"
        },
        "id": "Y5jiEhi-Yqtk",
        "outputId": "53602db6-bf38-49bd-cb6a-60c36628bd0c"
      },
      "execution_count": null,
      "outputs": [
        {
          "output_type": "stream",
          "name": "stdout",
          "text": [
            "time: 13.5 ms (started: 2022-01-25 03:59:00 +00:00)\n"
          ]
        }
      ]
    },
    {
      "cell_type": "code",
      "source": [
        "distilbert_model.compile(tf.keras.optimizers.Adam(learning_rate=learning_rate), \n",
        "                  loss= \"binary_crossentropy\",\n",
        "                  metrics=['accuracy'])"
      ],
      "metadata": {
        "colab": {
          "base_uri": "https://localhost:8080/"
        },
        "id": "OjZS8fGnYwk-",
        "outputId": "e24e06de-5f21-44ce-d5c2-aacfc41bf6d1"
      },
      "execution_count": null,
      "outputs": [
        {
          "output_type": "stream",
          "name": "stdout",
          "text": [
            "time: 40.3 ms (started: 2022-01-25 03:59:06 +00:00)\n"
          ]
        }
      ]
    },
    {
      "cell_type": "code",
      "source": [
        "early_stopping = tf.keras.callbacks.EarlyStopping(monitor=\"val_loss\",\n",
        "                                                  mode=\"min\",\n",
        "                                                  patience=1,\n",
        "                                                  restore_best_weights=True)"
      ],
      "metadata": {
        "colab": {
          "base_uri": "https://localhost:8080/"
        },
        "id": "xD9ZgzWPYyGX",
        "outputId": "b6a91333-405c-46d6-f80a-a4995936604f"
      },
      "execution_count": null,
      "outputs": [
        {
          "output_type": "stream",
          "name": "stdout",
          "text": [
            "time: 1.86 ms (started: 2022-01-25 03:59:12 +00:00)\n"
          ]
        }
      ]
    },
    {
      "cell_type": "code",
      "source": [
        "history1 = distilbert_model.fit(\n",
        "    x = [X_train_ids, X_train_attention],\n",
        "    y = y_train,\n",
        "    batch_size=32,\n",
        "    validation_split=0.2,\n",
        "    callbacks=[early_stopping],\n",
        "    epochs=2\n",
        ")"
      ],
      "metadata": {
        "colab": {
          "base_uri": "https://localhost:8080/"
        },
        "id": "a4sYX42XYzry",
        "outputId": "f874579b-b6f4-4087-bc25-f9c033e1714b"
      },
      "execution_count": null,
      "outputs": [
        {
          "output_type": "stream",
          "name": "stdout",
          "text": [
            "Epoch 1/2\n",
            "20/20 [==============================] - 455s 23s/step - loss: 0.1576 - accuracy: 0.9422 - val_loss: 0.4203 - val_accuracy: 0.8562\n",
            "Epoch 2/2\n",
            "20/20 [==============================] - 437s 22s/step - loss: 0.1734 - accuracy: 0.9469 - val_loss: 0.7217 - val_accuracy: 0.7688\n",
            "time: 14min 52s (started: 2022-01-25 06:13:09 +00:00)\n"
          ]
        }
      ]
    },
    {
      "cell_type": "code",
      "source": [
        "import matplotlib.pyplot as plt\n",
        "\n",
        "def plot_loss_accuracy(history, metric, lr):\n",
        "    train_metrics = history.history[metric]\n",
        "    val_metrics = history.history['val_'+metric]\n",
        "    epochs = range(1, len(train_metrics) + 1)\n",
        "    plt.plot(epochs, train_metrics)\n",
        "    plt.plot(epochs, val_metrics)\n",
        "    plt.title('Training and validation '+ metric + \" for learning rate= \" + str(lr))\n",
        "    plt.xlabel(\"Epochs\")\n",
        "    plt.ylabel(metric)\n",
        "    plt.legend([\"train_\"+metric, 'val_'+metric])\n",
        "    plt.show()\n",
        "\n",
        "plot_loss_accuracy(history1, \"loss\", learning_rate)"
      ],
      "metadata": {
        "colab": {
          "base_uri": "https://localhost:8080/",
          "height": 312
        },
        "id": "Te6KjtiUY2XL",
        "outputId": "71fd126b-318c-430e-991b-28af86b8fe8d"
      },
      "execution_count": null,
      "outputs": [
        {
          "output_type": "display_data",
          "data": {
            "image/png": "[encoded data removed]",
            "text/plain": [
              "<Figure size 432x288 with 1 Axes>"
            ]
          },
          "metadata": {
            "needs_background": "light"
          }
        },
        {
          "output_type": "stream",
          "name": "stdout",
          "text": [
            "time: 165 ms (started: 2022-01-25 06:30:45 +00:00)\n"
          ]
        }
      ]
    },
    {
      "cell_type": "code",
      "source": [
        "plot_loss_accuracy(history1, \"accuracy\", learning_rate)"
      ],
      "metadata": {
        "colab": {
          "base_uri": "https://localhost:8080/",
          "height": 312
        },
        "id": "776fEH1J2iFC",
        "outputId": "b05e3bdf-5291-4b0d-99a2-efd9acb713c6"
      },
      "execution_count": null,
      "outputs": [
        {
          "output_type": "display_data",
          "data": {
            "image/png": "[encoded data removed]",
            "text/plain": [
              "<Figure size 432x288 with 1 Axes>"
            ]
          },
          "metadata": {
            "needs_background": "light"
          }
        },
        {
          "output_type": "stream",
          "name": "stdout",
          "text": [
            "time: 157 ms (started: 2022-01-25 06:30:50 +00:00)\n"
          ]
        }
      ]
    },
    {
      "cell_type": "code",
      "source": [
        "from sklearn.metrics import classification_report, confusion_matrix\n",
        "\n",
        "y_pred = distilbert_model.predict([X_test_ids, X_test_attention])\n",
        "y_pred = np.where(y_pred >= 0.5, 1, 0)\n",
        "\n",
        "cm = confusion_matrix(y_test, y_pred)"
      ],
      "metadata": {
        "colab": {
          "base_uri": "https://localhost:8080/"
        },
        "id": "UBBkEWNT2l5U",
        "outputId": "563fee39-3749-44bc-939f-ea7f5c30b180"
      },
      "execution_count": null,
      "outputs": [
        {
          "output_type": "stream",
          "name": "stdout",
          "text": [
            "time: 42.1 s (started: 2022-01-25 06:30:55 +00:00)\n"
          ]
        }
      ]
    },
    {
      "cell_type": "code",
      "source": [
        "import seaborn as sns\n",
        "plt.figure(figsize = (8,6))\n",
        "ax= plt.subplot()\n",
        "sns.heatmap(cm, annot=True, fmt='g', ax=ax, cmap='Blues')\n",
        "\n",
        "label_names = [\"neg\", \"pos\"]\n",
        "\n",
        "# labels, title and ticks\n",
        "ax.set_xlabel('Predicted labels');\n",
        "ax.set_ylabel('True labels'); \n",
        "ax.set_title('Confusion Matrix'); \n",
        "ax.xaxis.set_ticklabels(label_names);\n",
        "ax.yaxis.set_ticklabels(label_names);"
      ],
      "metadata": {
        "colab": {
          "base_uri": "https://localhost:8080/",
          "height": 421
        },
        "id": "v4SF2azX2rV-",
        "outputId": "749499e9-ebc6-4305-884e-6b08a8212b5f"
      },
      "execution_count": null,
      "outputs": [
        {
          "output_type": "display_data",
          "data": {
            "image/png": "[encoded data removed]",
            "text/plain": [
              "<Figure size 576x432 with 2 Axes>"
            ]
          },
          "metadata": {
            "needs_background": "light"
          }
        },
        {
          "output_type": "stream",
          "name": "stdout",
          "text": [
            "time: 273 ms (started: 2022-01-25 06:31:41 +00:00)\n"
          ]
        }
      ]
    },
    {
      "cell_type": "code",
      "source": [
        "print(classification_report(y_test, y_pred))"
      ],
      "metadata": {
        "colab": {
          "base_uri": "https://localhost:8080/"
        },
        "id": "IV2QqT2L26dm",
        "outputId": "d327669f-8ebd-4a35-8278-e28f722ffd27"
      },
      "execution_count": null,
      "outputs": [
        {
          "output_type": "stream",
          "name": "stdout",
          "text": [
            "              precision    recall  f1-score   support\n",
            "\n",
            "           0       0.82      0.33      0.47        43\n",
            "           1       0.84      0.98      0.91       157\n",
            "\n",
            "    accuracy                           0.84       200\n",
            "   macro avg       0.83      0.65      0.69       200\n",
            "weighted avg       0.84      0.84      0.81       200\n",
            "\n",
            "time: 7.24 ms (started: 2022-01-25 06:31:46 +00:00)\n"
          ]
        }
      ]
    },
    {
      "cell_type": "markdown",
      "source": [
        "## Experiment 2 - Max Length = 256"
      ],
      "metadata": {
        "id": "-Cg7d-8b78j8"
      }
    },
    {
      "cell_type": "code",
      "source": [
        "max_length= 256\n",
        "def batch_encode(d_tokenizer, texts, batch_size=32, max_length=max_length):\n",
        "    input_ids = []\n",
        "    attention_mask = []\n",
        "    \n",
        "    for i in range(0, len(texts), batch_size):\n",
        "        batch = texts[i:i+batch_size]\n",
        "        inputs = d_tokenizer.batch_encode_plus(batch,\n",
        "                                             max_length=max_length, #max length per document to be encoded\n",
        "                                             padding=\"max_length\", #pad all to max length, if not long enough\n",
        "                                             truncation=True, #if beyond max length, will force-truncate to max length\n",
        "                                             return_attention_mask=True,\n",
        "                                             return_token_type_ids=False #not required for TF fitting\n",
        "                                             )\n",
        "        input_ids.extend(inputs['input_ids'])\n",
        "        attention_mask.extend(inputs['attention_mask'])\n",
        "    return tf.convert_to_tensor(input_ids), tf.convert_to_tensor(attention_mask)\n",
        "#     return input_ids, attention_mask"
      ],
      "metadata": {
        "colab": {
          "base_uri": "https://localhost:8080/"
        },
        "id": "8bVgwAR97-yb",
        "outputId": "e8cb51a6-7e4e-4c9d-b3ad-1f9ef537eb13"
      },
      "execution_count": null,
      "outputs": [
        {
          "output_type": "stream",
          "name": "stdout",
          "text": [
            "time: 35.2 ms (started: 2022-01-25 06:33:07 +00:00)\n"
          ]
        }
      ]
    },
    {
      "cell_type": "code",
      "source": [
        "X_train_ids, X_train_attention = batch_encode(d_tokenizer, X_train.tolist())\n",
        "\n",
        "X_test_ids, X_test_attention = batch_encode(d_tokenizer, X_test.tolist())"
      ],
      "metadata": {
        "colab": {
          "base_uri": "https://localhost:8080/"
        },
        "id": "lnqecPe68CPj",
        "outputId": "36946687-ecbc-4342-feb7-cf50c5e53255"
      },
      "execution_count": null,
      "outputs": [
        {
          "output_type": "stream",
          "name": "stdout",
          "text": [
            "time: 452 ms (started: 2022-01-25 06:33:17 +00:00)\n"
          ]
        }
      ]
    },
    {
      "cell_type": "code",
      "source": [
        "from transformers import TFDistilBertModel, DistilBertConfig\n",
        "\n",
        "d_dropout_rate = 0.25\n",
        "\n",
        "d_attention_dropout_rate = 0.25\n",
        " \n",
        "#DistilBERT's initialization\n",
        "config = DistilBertConfig(dropout=d_dropout_rate, \n",
        "                          attention_dropout=d_attention_dropout_rate)\n",
        "                          \n",
        "# distilBERT_transformer = TFDistilBertModel.from_pretrained('distilbert-base-uncased', config=config)\n",
        "distilBERT_transformer = TFDistilBertModel.from_pretrained('distilbert-base-uncased')\n",
        "\n",
        "# Make DistilBERT layers untrainable\n",
        "# for layer in distilBERT_transformer.layers:\n",
        "#     layer.trainable = False\n",
        "\n",
        "# Make DistilBERT layers trainable\n",
        "for layer in distilBERT_transformer.layers:\n",
        "    layer.trainable = True"
      ],
      "metadata": {
        "colab": {
          "base_uri": "https://localhost:8080/"
        },
        "id": "6IplWVG98Etq",
        "outputId": "a468580d-8957-442e-ce67-17a62d0c8982"
      },
      "execution_count": null,
      "outputs": [
        {
          "output_type": "stream",
          "name": "stderr",
          "text": [
            "Some layers from the model checkpoint at distilbert-base-uncased were not used when initializing TFDistilBertModel: ['vocab_projector', 'activation_13', 'vocab_transform', 'vocab_layer_norm']\n",
            "- This IS expected if you are initializing TFDistilBertModel from the checkpoint of a model trained on another task or with another architecture (e.g. initializing a BertForSequenceClassification model from a BertForPreTraining model).\n",
            "- This IS NOT expected if you are initializing TFDistilBertModel from the checkpoint of a model that you expect to be exactly identical (initializing a BertForSequenceClassification model from a BertForSequenceClassification model).\n",
            "All the layers of TFDistilBertModel were initialized from the model checkpoint at distilbert-base-uncased.\n",
            "If your task is similar to the task the model of the checkpoint was trained on, you can already use TFDistilBertModel for predictions without further training.\n"
          ]
        },
        {
          "output_type": "stream",
          "name": "stdout",
          "text": [
            "time: 4.8 s (started: 2022-01-25 06:33:28 +00:00)\n"
          ]
        }
      ]
    },
    {
      "cell_type": "code",
      "source": [
        "max_length = 256\n",
        "learning_rate = 1e-5\n",
        "\n",
        "# Define input layers\n",
        "input_ids_layer = tf.keras.layers.Input(shape=(max_length,), \n",
        "                                        name='input_ids', \n",
        "                                        dtype='int32')\n",
        "\n",
        "input_attention_layer = tf.keras.layers.Input(shape=(max_length,), \n",
        "                                              name='input_attention', \n",
        "                                              dtype='int32')\n",
        "\n",
        "last_hidden_state = distilBERT_transformer([input_ids_layer, input_attention_layer])[0]\n",
        "\n",
        "cls_token = last_hidden_state[:, 0, :]\n",
        "\n",
        "output = tf.keras.layers.Dense(1,activation='sigmoid')(cls_token)"
      ],
      "metadata": {
        "colab": {
          "base_uri": "https://localhost:8080/"
        },
        "id": "FS-30EWK8Hfj",
        "outputId": "2d84ec88-db75-4ba6-8d50-9a6e3fd0253a"
      },
      "execution_count": null,
      "outputs": [
        {
          "output_type": "stream",
          "name": "stdout",
          "text": [
            "time: 960 ms (started: 2022-01-25 07:14:44 +00:00)\n"
          ]
        }
      ]
    },
    {
      "cell_type": "code",
      "source": [
        "distilbert_model = tf.keras.Model([input_ids_layer, input_attention_layer], output)"
      ],
      "metadata": {
        "colab": {
          "base_uri": "https://localhost:8080/"
        },
        "id": "h-6-IXPh8VTP",
        "outputId": "d646e81f-9ecb-4ec5-ed47-3b3500a3dcff"
      },
      "execution_count": null,
      "outputs": [
        {
          "output_type": "stream",
          "name": "stdout",
          "text": [
            "time: 7.26 ms (started: 2022-01-25 07:14:46 +00:00)\n"
          ]
        }
      ]
    },
    {
      "cell_type": "code",
      "source": [
        "distilbert_model.compile(tf.keras.optimizers.Adam(learning_rate=learning_rate), \n",
        "                  loss= \"binary_crossentropy\",\n",
        "                  metrics=['accuracy'])"
      ],
      "metadata": {
        "colab": {
          "base_uri": "https://localhost:8080/"
        },
        "id": "rrhc05648Zax",
        "outputId": "ff8bf8c4-c1e9-414c-bb3f-6c51eeef9ef5"
      },
      "execution_count": null,
      "outputs": [
        {
          "output_type": "stream",
          "name": "stdout",
          "text": [
            "time: 13.6 ms (started: 2022-01-25 07:14:48 +00:00)\n"
          ]
        }
      ]
    },
    {
      "cell_type": "code",
      "source": [
        "early_stopping = tf.keras.callbacks.EarlyStopping(monitor=\"val_loss\",\n",
        "                                                  mode=\"min\",\n",
        "                                                  patience=1,\n",
        "                                                  restore_best_weights=True)"
      ],
      "metadata": {
        "colab": {
          "base_uri": "https://localhost:8080/"
        },
        "id": "YzuJubIk8bVk",
        "outputId": "362d62cc-bfd3-4f4d-e432-a30ed39dad08"
      },
      "execution_count": null,
      "outputs": [
        {
          "output_type": "stream",
          "name": "stdout",
          "text": [
            "time: 2.1 ms (started: 2022-01-25 07:14:52 +00:00)\n"
          ]
        }
      ]
    },
    {
      "cell_type": "code",
      "source": [
        "history2 = distilbert_model.fit(\n",
        "    x = [X_train_ids, X_train_attention],\n",
        "    y = y_train,\n",
        "    batch_size=32,\n",
        "    validation_split=0.2,\n",
        "    callbacks=[early_stopping],\n",
        "    epochs=5\n",
        ")"
      ],
      "metadata": {
        "colab": {
          "base_uri": "https://localhost:8080/"
        },
        "id": "daFKW3LN8eBi",
        "outputId": "82c68eac-c1c6-4085-8894-054c31f4342d"
      },
      "execution_count": null,
      "outputs": [
        {
          "output_type": "stream",
          "name": "stdout",
          "text": [
            "Epoch 1/5\n",
            "20/20 [==============================] - 977s 48s/step - loss: 0.4650 - accuracy: 0.7500 - val_loss: 0.3666 - val_accuracy: 0.8375\n",
            "Epoch 2/5\n",
            "20/20 [==============================] - 994s 50s/step - loss: 0.3194 - accuracy: 0.8484 - val_loss: 0.3606 - val_accuracy: 0.8438\n",
            "Epoch 3/5\n",
            "20/20 [==============================] - 1000s 50s/step - loss: 0.2616 - accuracy: 0.8875 - val_loss: 0.3551 - val_accuracy: 0.8375\n",
            "Epoch 4/5\n",
            "20/20 [==============================] - 1014s 51s/step - loss: 0.1996 - accuracy: 0.9359 - val_loss: 0.3665 - val_accuracy: 0.8500\n",
            "time: 1h 6min 24s (started: 2022-01-25 07:14:57 +00:00)\n"
          ]
        }
      ]
    },
    {
      "cell_type": "code",
      "source": [
        "plot_loss_accuracy(history2, \"loss\", learning_rate)"
      ],
      "metadata": {
        "colab": {
          "base_uri": "https://localhost:8080/",
          "height": 312
        },
        "id": "YB1MynvW8g_7",
        "outputId": "d0a5c334-6aa6-4c61-ea8d-103d967af474"
      },
      "execution_count": null,
      "outputs": [
        {
          "output_type": "display_data",
          "data": {
            "image/png": "[encoded data removed]",
            "text/plain": [
              "<Figure size 432x288 with 1 Axes>"
            ]
          },
          "metadata": {
            "needs_background": "light"
          }
        },
        {
          "output_type": "stream",
          "name": "stdout",
          "text": [
            "time: 229 ms (started: 2022-01-25 08:21:30 +00:00)\n"
          ]
        }
      ]
    },
    {
      "cell_type": "code",
      "source": [
        "plot_loss_accuracy(history2, \"accuracy\", learning_rate)"
      ],
      "metadata": {
        "colab": {
          "base_uri": "https://localhost:8080/",
          "height": 312
        },
        "id": "pQoZ99XADx6m",
        "outputId": "3803313f-a012-49b1-b616-0741b4625402"
      },
      "execution_count": null,
      "outputs": [
        {
          "output_type": "display_data",
          "data": {
            "image/png": "[encoded data removed]",
            "text/plain": [
              "<Figure size 432x288 with 1 Axes>"
            ]
          },
          "metadata": {
            "needs_background": "light"
          }
        },
        {
          "output_type": "stream",
          "name": "stdout",
          "text": [
            "time: 194 ms (started: 2022-01-25 08:21:33 +00:00)\n"
          ]
        }
      ]
    },
    {
      "cell_type": "code",
      "source": [
        "y_pred = distilbert_model.predict([X_test_ids, X_test_attention])\n",
        "y_pred = np.where(y_pred >= 0.5, 1, 0)\n",
        "\n",
        "cm = confusion_matrix(y_test, y_pred)"
      ],
      "metadata": {
        "colab": {
          "base_uri": "https://localhost:8080/"
        },
        "id": "3_XpB9HUD5ul",
        "outputId": "acd96628-1b94-4447-cb1e-178480a6a0f7"
      },
      "execution_count": null,
      "outputs": [
        {
          "output_type": "stream",
          "name": "stdout",
          "text": [
            "time: 1min 31s (started: 2022-01-25 08:21:36 +00:00)\n"
          ]
        }
      ]
    },
    {
      "cell_type": "code",
      "source": [
        "import seaborn as sns\n",
        "plt.figure(figsize = (8,6))\n",
        "ax= plt.subplot()\n",
        "sns.heatmap(cm, annot=True, fmt='g', ax=ax, cmap='Blues')\n",
        "\n",
        "label_names = [\"neg\", \"pos\"]\n",
        "\n",
        "# labels, title and ticks\n",
        "ax.set_xlabel('Predicted labels');\n",
        "ax.set_ylabel('True labels'); \n",
        "ax.set_title('Confusion Matrix'); \n",
        "ax.xaxis.set_ticklabels(label_names);\n",
        "ax.yaxis.set_ticklabels(label_names);"
      ],
      "metadata": {
        "colab": {
          "base_uri": "https://localhost:8080/",
          "height": 421
        },
        "id": "Kil3Ul39ESHY",
        "outputId": "4f3b8c5a-0570-477a-d6ee-e5a07df5066e"
      },
      "execution_count": null,
      "outputs": [
        {
          "output_type": "display_data",
          "data": {
            "image/png": "[encoded data removed]",
            "text/plain": [
              "<Figure size 576x432 with 2 Axes>"
            ]
          },
          "metadata": {
            "needs_background": "light"
          }
        },
        {
          "output_type": "stream",
          "name": "stdout",
          "text": [
            "time: 277 ms (started: 2022-01-25 08:23:12 +00:00)\n"
          ]
        }
      ]
    },
    {
      "cell_type": "code",
      "source": [
        "print(classification_report(y_test, y_pred))"
      ],
      "metadata": {
        "colab": {
          "base_uri": "https://localhost:8080/"
        },
        "id": "yBdXt6nhEqKC",
        "outputId": "7200519f-d40b-4e65-c33a-e4746d9f27b7"
      },
      "execution_count": null,
      "outputs": [
        {
          "output_type": "stream",
          "name": "stdout",
          "text": [
            "              precision    recall  f1-score   support\n",
            "\n",
            "           0       0.55      0.49      0.52        43\n",
            "           1       0.86      0.89      0.88       157\n",
            "\n",
            "    accuracy                           0.81       200\n",
            "   macro avg       0.71      0.69      0.70       200\n",
            "weighted avg       0.80      0.81      0.80       200\n",
            "\n",
            "time: 13.1 ms (started: 2022-01-25 08:23:17 +00:00)\n"
          ]
        }
      ]
    }
  ]
}